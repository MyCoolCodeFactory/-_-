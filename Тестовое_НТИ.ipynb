{
  "nbformat": 4,
  "nbformat_minor": 0,
  "metadata": {
    "colab": {
      "name": "Тестовое_НТИ.ipynb",
      "provenance": [],
      "collapsed_sections": [
        "gMcjUZqVFLzj",
        "clcNww0AkGz6",
        "z5eBnCsiH5Lo",
        "GpsWOmSjBo9A",
        "ovGiUS9QE-6k",
        "_8yKEHseN6cq",
        "YL6DfVeUUmkg"
      ],
      "toc_visible": true
    },
    "kernelspec": {
      "name": "python3",
      "display_name": "Python 3"
    }
  },
  "cells": [
    {
      "cell_type": "code",
      "metadata": {
        "id": "YEkV1lYW-pgH",
        "colab_type": "code",
        "colab": {}
      },
      "source": [
        "%tensorflow_version 2.x\n",
        "from tensorflow.keras.models import Sequential \n",
        "from tensorflow.keras.layers import  Dense, Embedding, Flatten, MaxPooling1D, Conv1D, GlobalMaxPooling1D, Dropout, LSTM,SpatialDropout1D\n",
        "from tensorflow.keras.preprocessing.sequence import pad_sequences\n",
        "from tensorflow.keras.preprocessing.text import Tokenizer\n",
        "import pandas as pd\n",
        "import numpy as np\n",
        "import matplotlib.pyplot as plt\n",
        "from sklearn.model_selection import StratifiedKFold\n",
        "\n",
        "\n",
        "NUM = 20000\n",
        "max_twit_len = 27\n"
      ],
      "execution_count": 50,
      "outputs": []
    },
    {
      "cell_type": "markdown",
      "metadata": {
        "id": "EWiefnLXSXvj",
        "colab_type": "text"
      },
      "source": [
        "* NUM - количество слов в словаре\n",
        "* max_twit_len - число слов в одном твитте\n",
        "\n",
        "Изначально параметрами были 100000 и 20 соответственно, значения были выбраны эмпирически, а затем изменены исходя из результатов исследования\n"
      ]
    },
    {
      "cell_type": "markdown",
      "metadata": {
        "id": "jIuLUebYYHG6",
        "colab_type": "text"
      },
      "source": [
        "Выше находятся не все библиотеки, использованные для решения задания. Вынесены они сюда для удобства, так как используются довольно часто. Ну и вообще, лишние импорты затудняют читабельность кода"
      ]
    },
    {
      "cell_type": "markdown",
      "metadata": {
        "id": "8scgnMFiCJsz",
        "colab_type": "text"
      },
      "source": [
        "# Загрузка данных"
      ]
    },
    {
      "cell_type": "code",
      "metadata": {
        "id": "kpeXzeqECMx-",
        "colab_type": "code",
        "colab": {
          "base_uri": "https://localhost:8080/",
          "height": 747
        },
        "outputId": "27dbe5dd-98ce-48fc-b732-1994585a106b"
      },
      "source": [
        "!wget https://www.dropbox.com/s/fnpq3z4bcnoktiv/positive.csv\n",
        "!wget https://www.dropbox.com/s/r6u59ljhhjdg6j0/negative.csv"
      ],
      "execution_count": 51,
      "outputs": [
        {
          "output_type": "stream",
          "text": [
            "--2020-07-08 08:37:34--  https://www.dropbox.com/s/fnpq3z4bcnoktiv/positive.csv\n",
            "Resolving www.dropbox.com (www.dropbox.com)... 162.125.1.1, 2620:100:6016:1::a27d:101\n",
            "Connecting to www.dropbox.com (www.dropbox.com)|162.125.1.1|:443... connected.\n",
            "HTTP request sent, awaiting response... 301 Moved Permanently\n",
            "Location: /s/raw/fnpq3z4bcnoktiv/positive.csv [following]\n",
            "--2020-07-08 08:37:34--  https://www.dropbox.com/s/raw/fnpq3z4bcnoktiv/positive.csv\n",
            "Reusing existing connection to www.dropbox.com:443.\n",
            "HTTP request sent, awaiting response... 302 Found\n",
            "Location: https://uc60e43fa13b84d6b78460b13e93.dl.dropboxusercontent.com/cd/0/inline/A7FFOkr0TICtXzJN8UxwQa2wOQBhKQj2jJl_R0PcxdWkQ8U3CL5AKiRfOwM85ti9soLCAOwcdM2ZCmW809TWLPBhA9WTHs1Ww4rojH7yWgqyjg/file# [following]\n",
            "--2020-07-08 08:37:34--  https://uc60e43fa13b84d6b78460b13e93.dl.dropboxusercontent.com/cd/0/inline/A7FFOkr0TICtXzJN8UxwQa2wOQBhKQj2jJl_R0PcxdWkQ8U3CL5AKiRfOwM85ti9soLCAOwcdM2ZCmW809TWLPBhA9WTHs1Ww4rojH7yWgqyjg/file\n",
            "Resolving uc60e43fa13b84d6b78460b13e93.dl.dropboxusercontent.com (uc60e43fa13b84d6b78460b13e93.dl.dropboxusercontent.com)... 162.125.1.15, 2620:100:6016:15::a27d:10f\n",
            "Connecting to uc60e43fa13b84d6b78460b13e93.dl.dropboxusercontent.com (uc60e43fa13b84d6b78460b13e93.dl.dropboxusercontent.com)|162.125.1.15|:443... connected.\n",
            "HTTP request sent, awaiting response... 200 OK\n",
            "Length: 26233379 (25M) [text/plain]\n",
            "Saving to: ‘positive.csv.3’\n",
            "\n",
            "positive.csv.3      100%[===================>]  25.02M  66.3MB/s    in 0.4s    \n",
            "\n",
            "2020-07-08 08:37:35 (66.3 MB/s) - ‘positive.csv.3’ saved [26233379/26233379]\n",
            "\n",
            "--2020-07-08 08:37:36--  https://www.dropbox.com/s/r6u59ljhhjdg6j0/negative.csv\n",
            "Resolving www.dropbox.com (www.dropbox.com)... 162.125.1.1, 2620:100:6016:1::a27d:101\n",
            "Connecting to www.dropbox.com (www.dropbox.com)|162.125.1.1|:443... connected.\n",
            "HTTP request sent, awaiting response... 301 Moved Permanently\n",
            "Location: /s/raw/r6u59ljhhjdg6j0/negative.csv [following]\n",
            "--2020-07-08 08:37:36--  https://www.dropbox.com/s/raw/r6u59ljhhjdg6j0/negative.csv\n",
            "Reusing existing connection to www.dropbox.com:443.\n",
            "HTTP request sent, awaiting response... 302 Found\n",
            "Location: https://uc518548d78e65163ab4e1ed69d5.dl.dropboxusercontent.com/cd/0/inline/A7EFhNHRDu-3Fu-NV3bq9fqmazhZXL9xMYcJUbTiWdf3gpozNYz4J5na3JMoLiMxTfSRyd1D30sCzoE6qor8VcnQYytqJZ9NVF-us27-8ELhkw/file# [following]\n",
            "--2020-07-08 08:37:37--  https://uc518548d78e65163ab4e1ed69d5.dl.dropboxusercontent.com/cd/0/inline/A7EFhNHRDu-3Fu-NV3bq9fqmazhZXL9xMYcJUbTiWdf3gpozNYz4J5na3JMoLiMxTfSRyd1D30sCzoE6qor8VcnQYytqJZ9NVF-us27-8ELhkw/file\n",
            "Resolving uc518548d78e65163ab4e1ed69d5.dl.dropboxusercontent.com (uc518548d78e65163ab4e1ed69d5.dl.dropboxusercontent.com)... 162.125.1.15, 2620:100:6016:15::a27d:10f\n",
            "Connecting to uc518548d78e65163ab4e1ed69d5.dl.dropboxusercontent.com (uc518548d78e65163ab4e1ed69d5.dl.dropboxusercontent.com)|162.125.1.15|:443... connected.\n",
            "HTTP request sent, awaiting response... 200 OK\n",
            "Length: 24450101 (23M) [text/plain]\n",
            "Saving to: ‘negative.csv.3’\n",
            "\n",
            "negative.csv.3      100%[===================>]  23.32M  65.7MB/s    in 0.4s    \n",
            "\n",
            "2020-07-08 08:37:37 (65.7 MB/s) - ‘negative.csv.3’ saved [24450101/24450101]\n",
            "\n"
          ],
          "name": "stdout"
        }
      ]
    },
    {
      "cell_type": "code",
      "metadata": {
        "id": "6Nn2R-blCVEg",
        "colab_type": "code",
        "colab": {}
      },
      "source": [
        "names = ['id', 'date','name','text','type','trep','trtw','tfav', 'tstcount','tfol','tfrien','listcount'] # названия колонок\n",
        "\n",
        "positive = pd.read_csv('positive.csv', sep=\";\", header=None, names=names)\n",
        "negative = pd.read_csv('negative.csv', sep=\";\", header=None, names=names)\n",
        "\n",
        "negative.type=0 #приравниваем к нулю, потому что в исходных данных и у positive и у negative type=1\n",
        "df = pd.concat((positive,negative), ignore_index=True) # объединяем позитивные и негативные тивитты в один датафрейм\n",
        "df=df.sample(frac=1) # перемешиваем данные"
      ],
      "execution_count": 52,
      "outputs": []
    },
    {
      "cell_type": "markdown",
      "metadata": {
        "id": "Cyt9p_wPZkKs",
        "colab_type": "text"
      },
      "source": [
        "Возможно данные можно было и не перемешивать, но когда в датасете подряд идет сначала только один класс, а потом только другой - это скорее всего плохо"
      ]
    },
    {
      "cell_type": "markdown",
      "metadata": {
        "id": "gMcjUZqVFLzj",
        "colab_type": "text"
      },
      "source": [
        "# Изучение данных"
      ]
    },
    {
      "cell_type": "code",
      "metadata": {
        "id": "abHmZBexFOcr",
        "colab_type": "code",
        "colab": {
          "base_uri": "https://localhost:8080/",
          "height": 347
        },
        "outputId": "4ce2483b-cd9d-4b55-c7c3-569f118ebc5d"
      },
      "source": [
        "df.head(10)"
      ],
      "execution_count": 10,
      "outputs": [
        {
          "output_type": "execute_result",
          "data": {
            "text/html": [
              "<div>\n",
              "<style scoped>\n",
              "    .dataframe tbody tr th:only-of-type {\n",
              "        vertical-align: middle;\n",
              "    }\n",
              "\n",
              "    .dataframe tbody tr th {\n",
              "        vertical-align: top;\n",
              "    }\n",
              "\n",
              "    .dataframe thead th {\n",
              "        text-align: right;\n",
              "    }\n",
              "</style>\n",
              "<table border=\"1\" class=\"dataframe\">\n",
              "  <thead>\n",
              "    <tr style=\"text-align: right;\">\n",
              "      <th></th>\n",
              "      <th>id</th>\n",
              "      <th>date</th>\n",
              "      <th>name</th>\n",
              "      <th>text</th>\n",
              "      <th>type</th>\n",
              "      <th>trep</th>\n",
              "      <th>trtw</th>\n",
              "      <th>tfav</th>\n",
              "      <th>tstcount</th>\n",
              "      <th>tfol</th>\n",
              "      <th>tfrien</th>\n",
              "      <th>listcount</th>\n",
              "    </tr>\n",
              "  </thead>\n",
              "  <tbody>\n",
              "    <tr>\n",
              "      <th>102252</th>\n",
              "      <td>411100723578146816</td>\n",
              "      <td>1386849025</td>\n",
              "      <td>SmokyParadise</td>\n",
              "      <td>RT @dinochkameow: @SmokyParadise девушки старш...</td>\n",
              "      <td>1</td>\n",
              "      <td>0</td>\n",
              "      <td>1</td>\n",
              "      <td>0</td>\n",
              "      <td>13596</td>\n",
              "      <td>260</td>\n",
              "      <td>123</td>\n",
              "      <td>0</td>\n",
              "    </tr>\n",
              "    <tr>\n",
              "      <th>212042</th>\n",
              "      <td>422783947404509184</td>\n",
              "      <td>1389634522</td>\n",
              "      <td>the_endless_voi</td>\n",
              "      <td>RT @_just_muggle: @the_endless_voi азахах а я ...</td>\n",
              "      <td>0</td>\n",
              "      <td>0</td>\n",
              "      <td>1</td>\n",
              "      <td>0</td>\n",
              "      <td>2795</td>\n",
              "      <td>162</td>\n",
              "      <td>126</td>\n",
              "      <td>2</td>\n",
              "    </tr>\n",
              "    <tr>\n",
              "      <th>144282</th>\n",
              "      <td>412744024928579584</td>\n",
              "      <td>1387240818</td>\n",
              "      <td>maaaagic</td>\n",
              "      <td>Лежу вся такая ништячковая, летнаяя, на газонч...</td>\n",
              "      <td>0</td>\n",
              "      <td>0</td>\n",
              "      <td>0</td>\n",
              "      <td>0</td>\n",
              "      <td>1789</td>\n",
              "      <td>74</td>\n",
              "      <td>66</td>\n",
              "      <td>4</td>\n",
              "    </tr>\n",
              "    <tr>\n",
              "      <th>170967</th>\n",
              "      <td>415828580728578048</td>\n",
              "      <td>1387976234</td>\n",
              "      <td>catforever5</td>\n",
              "      <td>В понедельник сломалась зарядка.-. Только в че...</td>\n",
              "      <td>0</td>\n",
              "      <td>0</td>\n",
              "      <td>0</td>\n",
              "      <td>0</td>\n",
              "      <td>26</td>\n",
              "      <td>3</td>\n",
              "      <td>6</td>\n",
              "      <td>0</td>\n",
              "    </tr>\n",
              "    <tr>\n",
              "      <th>29717</th>\n",
              "      <td>409630214302343168</td>\n",
              "      <td>1386498428</td>\n",
              "      <td>StandByYou_SuG</td>\n",
              "      <td>@Melanie_Bunny на даче ахах) он будет пропалыв...</td>\n",
              "      <td>1</td>\n",
              "      <td>0</td>\n",
              "      <td>0</td>\n",
              "      <td>0</td>\n",
              "      <td>609</td>\n",
              "      <td>26</td>\n",
              "      <td>53</td>\n",
              "      <td>0</td>\n",
              "    </tr>\n",
              "    <tr>\n",
              "      <th>9911</th>\n",
              "      <td>409207483777818624</td>\n",
              "      <td>1386397641</td>\n",
              "      <td>margo_lemeshko</td>\n",
              "      <td>Вот,что это такое?Сидишь,никого не трогаешь и ...</td>\n",
              "      <td>1</td>\n",
              "      <td>0</td>\n",
              "      <td>0</td>\n",
              "      <td>0</td>\n",
              "      <td>35</td>\n",
              "      <td>10</td>\n",
              "      <td>13</td>\n",
              "      <td>0</td>\n",
              "    </tr>\n",
              "    <tr>\n",
              "      <th>191341</th>\n",
              "      <td>419100579659407360</td>\n",
              "      <td>1388756339</td>\n",
              "      <td>_Komarova_Daria</td>\n",
              "      <td>Этикет. Обувь ВСЕГДА должна быть чистой.\\n Про...</td>\n",
              "      <td>0</td>\n",
              "      <td>0</td>\n",
              "      <td>0</td>\n",
              "      <td>0</td>\n",
              "      <td>3127</td>\n",
              "      <td>47</td>\n",
              "      <td>41</td>\n",
              "      <td>0</td>\n",
              "    </tr>\n",
              "    <tr>\n",
              "      <th>6885</th>\n",
              "      <td>409090070692392960</td>\n",
              "      <td>1386369648</td>\n",
              "      <td>modno_molodezno</td>\n",
              "      <td>порой мне кажется, что я недостойна такого иде...</td>\n",
              "      <td>1</td>\n",
              "      <td>0</td>\n",
              "      <td>0</td>\n",
              "      <td>0</td>\n",
              "      <td>1895</td>\n",
              "      <td>71</td>\n",
              "      <td>59</td>\n",
              "      <td>0</td>\n",
              "    </tr>\n",
              "    <tr>\n",
              "      <th>208559</th>\n",
              "      <td>422369510583439360</td>\n",
              "      <td>1389535713</td>\n",
              "      <td>JulkinsS</td>\n",
              "      <td>У меня от физики уже пухнет голова:( И это тол...</td>\n",
              "      <td>0</td>\n",
              "      <td>0</td>\n",
              "      <td>0</td>\n",
              "      <td>0</td>\n",
              "      <td>1360</td>\n",
              "      <td>11</td>\n",
              "      <td>27</td>\n",
              "      <td>0</td>\n",
              "    </tr>\n",
              "    <tr>\n",
              "      <th>28560</th>\n",
              "      <td>409616107679789056</td>\n",
              "      <td>1386495065</td>\n",
              "      <td>Drozdovskynext</td>\n",
              "      <td>@EwVOLOBUEV @azmbog @pillSa Ага, и потом корми...</td>\n",
              "      <td>1</td>\n",
              "      <td>0</td>\n",
              "      <td>0</td>\n",
              "      <td>0</td>\n",
              "      <td>8304</td>\n",
              "      <td>1252</td>\n",
              "      <td>499</td>\n",
              "      <td>26</td>\n",
              "    </tr>\n",
              "  </tbody>\n",
              "</table>\n",
              "</div>"
            ],
            "text/plain": [
              "                        id        date  ... tfrien listcount\n",
              "102252  411100723578146816  1386849025  ...    123         0\n",
              "212042  422783947404509184  1389634522  ...    126         2\n",
              "144282  412744024928579584  1387240818  ...     66         4\n",
              "170967  415828580728578048  1387976234  ...      6         0\n",
              "29717   409630214302343168  1386498428  ...     53         0\n",
              "9911    409207483777818624  1386397641  ...     13         0\n",
              "191341  419100579659407360  1388756339  ...     41         0\n",
              "6885    409090070692392960  1386369648  ...     59         0\n",
              "208559  422369510583439360  1389535713  ...     27         0\n",
              "28560   409616107679789056  1386495065  ...    499        26\n",
              "\n",
              "[10 rows x 12 columns]"
            ]
          },
          "metadata": {
            "tags": []
          },
          "execution_count": 10
        }
      ]
    },
    {
      "cell_type": "code",
      "metadata": {
        "id": "xe5S1UmVYn8T",
        "colab_type": "code",
        "colab": {
          "base_uri": "https://localhost:8080/",
          "height": 34
        },
        "outputId": "deb16157-8426-4ee6-af32-f507408e5bda"
      },
      "source": [
        "positive.shape"
      ],
      "execution_count": null,
      "outputs": [
        {
          "output_type": "execute_result",
          "data": {
            "text/plain": [
              "(114911, 12)"
            ]
          },
          "metadata": {
            "tags": []
          },
          "execution_count": 57
        }
      ]
    },
    {
      "cell_type": "markdown",
      "metadata": {
        "id": "EW9M0y3sbo6G",
        "colab_type": "text"
      },
      "source": [
        "На сайте с датасетом написано, что должен быть 114991 экземпляр позитивного класса, возмоно как-то не так считалось, хотя скоее всего опечатка"
      ]
    },
    {
      "cell_type": "code",
      "metadata": {
        "id": "mmU00Zp9Yrv-",
        "colab_type": "code",
        "colab": {
          "base_uri": "https://localhost:8080/",
          "height": 34
        },
        "outputId": "51697dde-3f5a-4818-a5c2-5d1643ffd87b"
      },
      "source": [
        "negative.shape"
      ],
      "execution_count": null,
      "outputs": [
        {
          "output_type": "execute_result",
          "data": {
            "text/plain": [
              "(111923, 12)"
            ]
          },
          "metadata": {
            "tags": []
          },
          "execution_count": 58
        }
      ]
    },
    {
      "cell_type": "markdown",
      "metadata": {
        "id": "b0qIARjMT_8X",
        "colab_type": "text"
      },
      "source": [
        "Пояснение к названиям колонок:\n",
        "\n",
        "* id: уникальный номер сообщения в системе twtter;\n",
        "* date: дата публикации твита;\n",
        "* name: имя пользователя, опубликовавшего сообщение;\n",
        "* text:  текст твита;\n",
        "* type: принадлежность к классу;\n",
        "* trtw: количество ретвитов\n",
        "* trep: количество реплаев к данному сообщению. В настоящий момент API твиттера не отдает эту информацию;\n",
        "* tfav: количество добавлений в избранное твита другими пользователями;\n",
        "* tstcount: число всех сообщений пользователя в сети twitter;\n",
        "* tfol: количество подписчиков\n",
        "* tfrien: количество подписок\n",
        "* listcount: количество листов-подписок в которые добавлен твиттер-пользователь."
      ]
    },
    {
      "cell_type": "markdown",
      "metadata": {
        "id": "GdraMSLyUEMf",
        "colab_type": "text"
      },
      "source": [
        "Не все из колонок нужны для решения задач\n",
        "\n",
        "* id пользователя явно не даст никакой полезной информации\n",
        "* Скорее всего дата публикации твитта не должна влиять на его эмоциональный  окрас или же количество ретвиттов\n"
      ]
    },
    {
      "cell_type": "code",
      "metadata": {
        "id": "TXo75AJNaXJf",
        "colab_type": "code",
        "colab": {}
      },
      "source": [
        "df=df.drop(['id','date'], axis=1)"
      ],
      "execution_count": 17,
      "outputs": []
    },
    {
      "cell_type": "code",
      "metadata": {
        "id": "npin5vGdaveE",
        "colab_type": "code",
        "colab": {
          "base_uri": "https://localhost:8080/",
          "height": 197
        },
        "outputId": "e8b40089-23d9-45f8-899b-40d4954a91b5"
      },
      "source": [
        "df.head()"
      ],
      "execution_count": 12,
      "outputs": [
        {
          "output_type": "execute_result",
          "data": {
            "text/html": [
              "<div>\n",
              "<style scoped>\n",
              "    .dataframe tbody tr th:only-of-type {\n",
              "        vertical-align: middle;\n",
              "    }\n",
              "\n",
              "    .dataframe tbody tr th {\n",
              "        vertical-align: top;\n",
              "    }\n",
              "\n",
              "    .dataframe thead th {\n",
              "        text-align: right;\n",
              "    }\n",
              "</style>\n",
              "<table border=\"1\" class=\"dataframe\">\n",
              "  <thead>\n",
              "    <tr style=\"text-align: right;\">\n",
              "      <th></th>\n",
              "      <th>name</th>\n",
              "      <th>text</th>\n",
              "      <th>type</th>\n",
              "      <th>trep</th>\n",
              "      <th>trtw</th>\n",
              "      <th>tfav</th>\n",
              "      <th>tstcount</th>\n",
              "      <th>tfol</th>\n",
              "      <th>tfrien</th>\n",
              "      <th>listcount</th>\n",
              "    </tr>\n",
              "  </thead>\n",
              "  <tbody>\n",
              "    <tr>\n",
              "      <th>102252</th>\n",
              "      <td>SmokyParadise</td>\n",
              "      <td>RT @dinochkameow: @SmokyParadise девушки старш...</td>\n",
              "      <td>1</td>\n",
              "      <td>0</td>\n",
              "      <td>1</td>\n",
              "      <td>0</td>\n",
              "      <td>13596</td>\n",
              "      <td>260</td>\n",
              "      <td>123</td>\n",
              "      <td>0</td>\n",
              "    </tr>\n",
              "    <tr>\n",
              "      <th>212042</th>\n",
              "      <td>the_endless_voi</td>\n",
              "      <td>RT @_just_muggle: @the_endless_voi азахах а я ...</td>\n",
              "      <td>0</td>\n",
              "      <td>0</td>\n",
              "      <td>1</td>\n",
              "      <td>0</td>\n",
              "      <td>2795</td>\n",
              "      <td>162</td>\n",
              "      <td>126</td>\n",
              "      <td>2</td>\n",
              "    </tr>\n",
              "    <tr>\n",
              "      <th>144282</th>\n",
              "      <td>maaaagic</td>\n",
              "      <td>Лежу вся такая ништячковая, летнаяя, на газонч...</td>\n",
              "      <td>0</td>\n",
              "      <td>0</td>\n",
              "      <td>0</td>\n",
              "      <td>0</td>\n",
              "      <td>1789</td>\n",
              "      <td>74</td>\n",
              "      <td>66</td>\n",
              "      <td>4</td>\n",
              "    </tr>\n",
              "    <tr>\n",
              "      <th>170967</th>\n",
              "      <td>catforever5</td>\n",
              "      <td>В понедельник сломалась зарядка.-. Только в че...</td>\n",
              "      <td>0</td>\n",
              "      <td>0</td>\n",
              "      <td>0</td>\n",
              "      <td>0</td>\n",
              "      <td>26</td>\n",
              "      <td>3</td>\n",
              "      <td>6</td>\n",
              "      <td>0</td>\n",
              "    </tr>\n",
              "    <tr>\n",
              "      <th>29717</th>\n",
              "      <td>StandByYou_SuG</td>\n",
              "      <td>@Melanie_Bunny на даче ахах) он будет пропалыв...</td>\n",
              "      <td>1</td>\n",
              "      <td>0</td>\n",
              "      <td>0</td>\n",
              "      <td>0</td>\n",
              "      <td>609</td>\n",
              "      <td>26</td>\n",
              "      <td>53</td>\n",
              "      <td>0</td>\n",
              "    </tr>\n",
              "  </tbody>\n",
              "</table>\n",
              "</div>"
            ],
            "text/plain": [
              "                   name  ... listcount\n",
              "102252    SmokyParadise  ...         0\n",
              "212042  the_endless_voi  ...         2\n",
              "144282         maaaagic  ...         4\n",
              "170967      catforever5  ...         0\n",
              "29717    StandByYou_SuG  ...         0\n",
              "\n",
              "[5 rows x 10 columns]"
            ]
          },
          "metadata": {
            "tags": []
          },
          "execution_count": 12
        }
      ]
    },
    {
      "cell_type": "markdown",
      "metadata": {
        "id": "EihBSZvsaz6_",
        "colab_type": "text"
      },
      "source": [
        "В таком формате вывода не виден полный текст твиттов, выведем его отдельно"
      ]
    },
    {
      "cell_type": "code",
      "metadata": {
        "id": "6F013n_LImwj",
        "colab_type": "code",
        "colab": {
          "base_uri": "https://localhost:8080/",
          "height": 390
        },
        "outputId": "78e58b25-127a-4951-946f-7fc781a03244"
      },
      "source": [
        "# позитивные твитты\n",
        "for i in range(10):\n",
        "  print(df.text[i])\n",
        "# негативные твитты\n",
        "for i in range(114911,114911+10):\n",
        "  print(df.text[i])"
      ],
      "execution_count": null,
      "outputs": [
        {
          "output_type": "stream",
          "text": [
            "@first_timee хоть я и школота, но поверь, у нас то же самое :D общество профилирующий предмет типа)\n",
            "Да, все-таки он немного похож на него. Но мой мальчик все равно лучше:D\n",
            "RT @KatiaCheh: Ну ты идиотка) я испугалась за тебя!!!\n",
            "RT @digger2912: \"Кто то в углу сидит и погибает от голода, а мы ещё 2 порции взяли, хотя уже и так жрать не хотим\" :DD http://t.co/GqG6iuE2…\n",
            "@irina_dyshkant Вот что значит страшилка :D\n",
            "Но блин,посмотрев все части,у тебя создастся ощущение,что авторы курили что-то :D\n",
            "ну любишь или нет? — Я не знаю кто ты бля:D http://t.co/brf9eNg1U6\n",
            "RT @SpoonLamer: Ох,900 :D ну это конечно же @twinkleAYO . Чтобы у нее было много друзей, ведь она такая мимими &lt;3\n",
            "RT @veregijytaqo: У тебя есть ухажёр? Нет - мои уши не кто не жрёт :D\n",
            "Поприветствуем моего нового читателя @Alexey1789 ;)\n",
            "Теперь у меня есть частичка Сиднея :) #Sydney #SydneyOperaHouse http://t.co/agnto3CZEi\n",
            "на работе был полный пиддес :| и так каждое закрытие месяца, я же свихнусь так D:\n",
            "Коллеги сидят рубятся в Urban terror, а я из-за долбанной винды не могу :(\n",
            "@elina_4post как говорят обещаного три года ждут...((\n",
            "Желаю хорошего полёта и удачной посадки,я буду очень сильно скучать( http://t.co/jCLNzVNv3S\n",
            "Обновил за каким-то лешим surf, теперь не работает простоплеер :(\n",
            "Котёнка вчера носик разбила, плакала и расстраивалась :(\n",
            "@juliamayko @O_nika55 @and_Possum Зашли, а то он опять затихарился, я прямо физически страдаю, когда он долго молчит!(((\n",
            "а вообще я не болею -  я не выздоравливаю :(\n",
            "я микрофраза :( учимся срать кирпичами в режиме &amp;quot;нон-стоп&amp;quot; @niwoqisipapy\n",
            "я хочу с тобой помириться , но сука я гордая и никогда этого не сделаю! (((\n"
          ],
          "name": "stdout"
        }
      ]
    },
    {
      "cell_type": "markdown",
      "metadata": {
        "id": "o-vkdJgeIhIL",
        "colab_type": "text"
      },
      "source": [
        "Можно обратить внимание на то, что в тексте часто встречаются ссылки, упоминания других пользователей, а также различные символы, обозначающие смайлики.\n",
        "\n",
        "Это лишняя информация, которая мешает обучению, поэтому ее нужно будет убрать.\n",
        "\n",
        "Также некоторые слова написаны с ошибками, поэтому возможно имеет смысл их исправить."
      ]
    },
    {
      "cell_type": "code",
      "metadata": {
        "id": "t8RJ-UVGIOSr",
        "colab_type": "code",
        "colab": {
          "base_uri": "https://localhost:8080/",
          "height": 287
        },
        "outputId": "e00d4d6d-93ac-4042-976b-c0570e11b5b0"
      },
      "source": [
        "df.describe()"
      ],
      "execution_count": 13,
      "outputs": [
        {
          "output_type": "execute_result",
          "data": {
            "text/html": [
              "<div>\n",
              "<style scoped>\n",
              "    .dataframe tbody tr th:only-of-type {\n",
              "        vertical-align: middle;\n",
              "    }\n",
              "\n",
              "    .dataframe tbody tr th {\n",
              "        vertical-align: top;\n",
              "    }\n",
              "\n",
              "    .dataframe thead th {\n",
              "        text-align: right;\n",
              "    }\n",
              "</style>\n",
              "<table border=\"1\" class=\"dataframe\">\n",
              "  <thead>\n",
              "    <tr style=\"text-align: right;\">\n",
              "      <th></th>\n",
              "      <th>type</th>\n",
              "      <th>trep</th>\n",
              "      <th>trtw</th>\n",
              "      <th>tfav</th>\n",
              "      <th>tstcount</th>\n",
              "      <th>tfol</th>\n",
              "      <th>tfrien</th>\n",
              "      <th>listcount</th>\n",
              "    </tr>\n",
              "  </thead>\n",
              "  <tbody>\n",
              "    <tr>\n",
              "      <th>count</th>\n",
              "      <td>226834.000000</td>\n",
              "      <td>226834.0</td>\n",
              "      <td>226834.000000</td>\n",
              "      <td>226834.000000</td>\n",
              "      <td>2.268340e+05</td>\n",
              "      <td>2.268340e+05</td>\n",
              "      <td>226834.000000</td>\n",
              "      <td>226834.000000</td>\n",
              "    </tr>\n",
              "    <tr>\n",
              "      <th>mean</th>\n",
              "      <td>0.506586</td>\n",
              "      <td>0.0</td>\n",
              "      <td>3.118249</td>\n",
              "      <td>0.001243</td>\n",
              "      <td>7.584972e+03</td>\n",
              "      <td>6.770083e+02</td>\n",
              "      <td>332.682746</td>\n",
              "      <td>10.125475</td>\n",
              "    </tr>\n",
              "    <tr>\n",
              "      <th>std</th>\n",
              "      <td>0.499958</td>\n",
              "      <td>0.0</td>\n",
              "      <td>105.898784</td>\n",
              "      <td>0.035611</td>\n",
              "      <td>2.039972e+04</td>\n",
              "      <td>9.764450e+03</td>\n",
              "      <td>1915.268263</td>\n",
              "      <td>112.100088</td>\n",
              "    </tr>\n",
              "    <tr>\n",
              "      <th>min</th>\n",
              "      <td>0.000000</td>\n",
              "      <td>0.0</td>\n",
              "      <td>0.000000</td>\n",
              "      <td>0.000000</td>\n",
              "      <td>0.000000e+00</td>\n",
              "      <td>0.000000e+00</td>\n",
              "      <td>0.000000</td>\n",
              "      <td>0.000000</td>\n",
              "    </tr>\n",
              "    <tr>\n",
              "      <th>25%</th>\n",
              "      <td>0.000000</td>\n",
              "      <td>0.0</td>\n",
              "      <td>0.000000</td>\n",
              "      <td>0.000000</td>\n",
              "      <td>4.730000e+02</td>\n",
              "      <td>2.700000e+01</td>\n",
              "      <td>29.000000</td>\n",
              "      <td>0.000000</td>\n",
              "    </tr>\n",
              "    <tr>\n",
              "      <th>50%</th>\n",
              "      <td>1.000000</td>\n",
              "      <td>0.0</td>\n",
              "      <td>0.000000</td>\n",
              "      <td>0.000000</td>\n",
              "      <td>2.026000e+03</td>\n",
              "      <td>8.300000e+01</td>\n",
              "      <td>72.000000</td>\n",
              "      <td>0.000000</td>\n",
              "    </tr>\n",
              "    <tr>\n",
              "      <th>75%</th>\n",
              "      <td>1.000000</td>\n",
              "      <td>0.0</td>\n",
              "      <td>0.000000</td>\n",
              "      <td>0.000000</td>\n",
              "      <td>7.562000e+03</td>\n",
              "      <td>2.570000e+02</td>\n",
              "      <td>197.000000</td>\n",
              "      <td>2.000000</td>\n",
              "    </tr>\n",
              "    <tr>\n",
              "      <th>max</th>\n",
              "      <td>1.000000</td>\n",
              "      <td>0.0</td>\n",
              "      <td>13817.000000</td>\n",
              "      <td>2.000000</td>\n",
              "      <td>1.138639e+06</td>\n",
              "      <td>1.582807e+06</td>\n",
              "      <td>388311.000000</td>\n",
              "      <td>16915.000000</td>\n",
              "    </tr>\n",
              "  </tbody>\n",
              "</table>\n",
              "</div>"
            ],
            "text/plain": [
              "                type      trep  ...         tfrien      listcount\n",
              "count  226834.000000  226834.0  ...  226834.000000  226834.000000\n",
              "mean        0.506586       0.0  ...     332.682746      10.125475\n",
              "std         0.499958       0.0  ...    1915.268263     112.100088\n",
              "min         0.000000       0.0  ...       0.000000       0.000000\n",
              "25%         0.000000       0.0  ...      29.000000       0.000000\n",
              "50%         1.000000       0.0  ...      72.000000       0.000000\n",
              "75%         1.000000       0.0  ...     197.000000       2.000000\n",
              "max         1.000000       0.0  ...  388311.000000   16915.000000\n",
              "\n",
              "[8 rows x 8 columns]"
            ]
          },
          "metadata": {
            "tags": []
          },
          "execution_count": 13
        }
      ]
    },
    {
      "cell_type": "markdown",
      "metadata": {
        "id": "B1UXNu6nZv-W",
        "colab_type": "text"
      },
      "source": [
        "Интересно, что минимум 75% твиттов вообще не имеют ретвиттов. При неправильной метрике можно было бы прогнозировать всем твиттам 0 ретвиттов и при этом иметь хорошую точность предсказаний."
      ]
    },
    {
      "cell_type": "markdown",
      "metadata": {
        "id": "htEFNzkldDBg",
        "colab_type": "text"
      },
      "source": [
        "Еще стоит обратить внимание на tfav(количество добавлений в избранное твитта другими пользователями), максимальное значение 2 это довольно странно. Есть подозение, что что-то тут не чисто. Плюс ко всему для регрессии этот столбец все-равно использовать нельзя (информация из \"будущего\"), а для классификатора он в принципе и не нужен, так что этот столбец следует удалить."
      ]
    },
    {
      "cell_type": "markdown",
      "metadata": {
        "id": "MoZSGSDHdELW",
        "colab_type": "text"
      },
      "source": [
        "Так же стоит обратить внимание на то, что trep полностью состоит из нулей и его точно следует удалить"
      ]
    },
    {
      "cell_type": "markdown",
      "metadata": {
        "id": "PYU9B_5XeY_9",
        "colab_type": "text"
      },
      "source": [
        "Теперь оценим распределение длинн слов в твиттах\n",
        "\n",
        "P.S. Удобнее всего это делать после предобработки, на этапе когда слова уже заменены токенами, поэтому если необходимо запустить эти блоки, то с начала надо запустить блоки из следующего раздела"
      ]
    },
    {
      "cell_type": "code",
      "metadata": {
        "id": "R1kfzxptIYdY",
        "colab_type": "code",
        "colab": {
          "base_uri": "https://localhost:8080/",
          "height": 197
        },
        "outputId": "a0392966-04cd-4dd7-962c-be3125e3c7c1"
      },
      "source": [
        "twitts=pd.DataFrame([])\n",
        "twitts[\"token\"] = sequences\n",
        "twitts[\"count\"] = twitts.apply(lambda x: len(x['token']), axis=1)\n",
        "twitts.head()"
      ],
      "execution_count": null,
      "outputs": [
        {
          "output_type": "execute_result",
          "data": {
            "text/html": [
              "<div>\n",
              "<style scoped>\n",
              "    .dataframe tbody tr th:only-of-type {\n",
              "        vertical-align: middle;\n",
              "    }\n",
              "\n",
              "    .dataframe tbody tr th {\n",
              "        vertical-align: top;\n",
              "    }\n",
              "\n",
              "    .dataframe thead th {\n",
              "        text-align: right;\n",
              "    }\n",
              "</style>\n",
              "<table border=\"1\" class=\"dataframe\">\n",
              "  <thead>\n",
              "    <tr style=\"text-align: right;\">\n",
              "      <th></th>\n",
              "      <th>token</th>\n",
              "      <th>count</th>\n",
              "    </tr>\n",
              "  </thead>\n",
              "  <tbody>\n",
              "    <tr>\n",
              "      <th>0</th>\n",
              "      <td>[23, 3100, 23, 665, 3143, 783, 133, 10]</td>\n",
              "      <td>8</td>\n",
              "    </tr>\n",
              "    <tr>\n",
              "      <th>1</th>\n",
              "      <td>[7, 1, 2066, 37, 237, 66840]</td>\n",
              "      <td>6</td>\n",
              "    </tr>\n",
              "    <tr>\n",
              "      <th>2</th>\n",
              "      <td>[7, 1, 69, 66, 497, 11170, 2279, 4, 142, 1784,...</td>\n",
              "      <td>13</td>\n",
              "    </tr>\n",
              "    <tr>\n",
              "      <th>3</th>\n",
              "      <td>[7, 1, 66841, 18378, 11, 66842, 1254, 339, 11,...</td>\n",
              "      <td>10</td>\n",
              "    </tr>\n",
              "    <tr>\n",
              "      <th>4</th>\n",
              "      <td>[2589, 2, 44517, 25, 352, 18, 12, 265, 16603, ...</td>\n",
              "      <td>12</td>\n",
              "    </tr>\n",
              "  </tbody>\n",
              "</table>\n",
              "</div>"
            ],
            "text/plain": [
              "                                               token  count\n",
              "0            [23, 3100, 23, 665, 3143, 783, 133, 10]      8\n",
              "1                       [7, 1, 2066, 37, 237, 66840]      6\n",
              "2  [7, 1, 69, 66, 497, 11170, 2279, 4, 142, 1784,...     13\n",
              "3  [7, 1, 66841, 18378, 11, 66842, 1254, 339, 11,...     10\n",
              "4  [2589, 2, 44517, 25, 352, 18, 12, 265, 16603, ...     12"
            ]
          },
          "metadata": {
            "tags": []
          },
          "execution_count": 15
        }
      ]
    },
    {
      "cell_type": "code",
      "metadata": {
        "id": "0_FG-DuOd-w1",
        "colab_type": "code",
        "colab": {
          "base_uri": "https://localhost:8080/",
          "height": 176
        },
        "outputId": "6d08f09b-9ba8-445a-a614-ee3bdcc2efd4"
      },
      "source": [
        "twitts[\"count\"].describe()"
      ],
      "execution_count": null,
      "outputs": [
        {
          "output_type": "execute_result",
          "data": {
            "text/plain": [
              "count    181468.000000\n",
              "mean         12.055784\n",
              "std           4.938806\n",
              "min           0.000000\n",
              "25%           8.000000\n",
              "50%          11.000000\n",
              "75%          15.000000\n",
              "max          40.000000\n",
              "Name: count, dtype: float64"
            ]
          },
          "metadata": {
            "tags": []
          },
          "execution_count": 16
        }
      ]
    },
    {
      "cell_type": "code",
      "metadata": {
        "id": "2pgjkAxkeLDd",
        "colab_type": "code",
        "colab": {
          "base_uri": "https://localhost:8080/",
          "height": 275
        },
        "outputId": "fd35fe6d-17aa-48c1-bd0a-582e6b48a8f0"
      },
      "source": [
        "import seaborn as sns\n",
        "\n",
        "fig, ax = plt.subplots(figsize=(26,4))\n",
        "val = twitts[\"count\"].values\n",
        "\n",
        "sns.distplot(val , ax=ax, color='g')\n",
        "ax.set_title('Распределение количества слов в твиттах', fontsize=14)"
      ],
      "execution_count": null,
      "outputs": [
        {
          "output_type": "execute_result",
          "data": {
            "text/plain": [
              "Text(0.5, 1.0, 'Распределение количества слов в твиттах')"
            ]
          },
          "metadata": {
            "tags": []
          },
          "execution_count": 20
        },
        {
          "output_type": "display_data",
          "data": {
            "image/png": "[encoded data removed]",
            "text/plain": [
              "<Figure size 1872x288 with 1 Axes>"
            ]
          },
          "metadata": {
            "tags": [],
            "needs_background": "light"
          }
        }
      ]
    },
    {
      "cell_type": "markdown",
      "metadata": {
        "id": "fH6JTAujdbuj",
        "colab_type": "text"
      },
      "source": [
        "Как видно из графика, большая часть длинны твиттов меньше, чем в 25-28 слов. При приведения твиттов к одной длинне скорее всего лучшая точность классификации будет достигаться при выборе значения на отрезке 20-30 слов, хотя возможно хорошее качество будет ближе к среднему значению по длиннам твиттов, то есть 10-15 слов. Это еще нужно проверить"
      ]
    },
    {
      "cell_type": "markdown",
      "metadata": {
        "id": "oBsr7YpzZy--",
        "colab_type": "text"
      },
      "source": [
        "# Обработка данных"
      ]
    },
    {
      "cell_type": "markdown",
      "metadata": {
        "id": "rbzTqOzWakIH",
        "colab_type": "text"
      },
      "source": [
        "Что изменяем:\n",
        "* Приведение к нижнему регистру и замена 'ё' на 'е' чтобы не дублировать одинаковые слова в словаре\n",
        "* Все ссылки заменяем на 'URL' потому что для модели не важно куда ведет ссылка, но может быть важно наличие в этом месте ссылки, чтобы контекст был полным\n",
        "* Удаляем все символы кроме букв и цифр\n",
        "* Удаляем лишние пробелы\n",
        "* Лемматизация для того, чтобы разные формы слова не считались за разные слова\n"
      ]
    },
    {
      "cell_type": "code",
      "metadata": {
        "id": "tuSTXNWzZ4UD",
        "colab_type": "code",
        "colab": {
          "base_uri": "https://localhost:8080/",
          "height": 87
        },
        "outputId": "2b13b701-0831-48ca-b35b-1dd57df198dc"
      },
      "source": [
        "!pip install pymorphy2\n",
        "import pymorphy2\n",
        "import re\n",
        "\n",
        "ma = pymorphy2.MorphAnalyzer()\n",
        "\n",
        "def preprocess_text(text):\n",
        "    text = text.lower().replace(\"ё\", \"е\")\n",
        "    \n",
        "    text = re.sub('((www\\.[^\\s]+)|(https?://[^\\s]+))', 'URL', text)\n",
        "    text = re.sub('@[^\\s]+', 'USER', text)\n",
        "    text = re.sub('[^a-zA-Zа-яА-Я1-9]+', ' ', text)\n",
        "    text = re.sub(' +', ' ', text)\n",
        "    #text = re.sub('(хах?[^\\s]+)', 'хах', text) \n",
        "    text = \" \".join(ma.parse(word)[0].normal_form for word in text.split())#лемматизация\n",
        "    return text.strip()\n",
        "\n",
        "df[\"preprocess_text\"] = [preprocess_text(t) for t in df.text]"
      ],
      "execution_count": 53,
      "outputs": [
        {
          "output_type": "stream",
          "text": [
            "Requirement already satisfied: pymorphy2 in /usr/local/lib/python3.6/dist-packages (0.8)\n",
            "Requirement already satisfied: dawg-python>=0.7 in /usr/local/lib/python3.6/dist-packages (from pymorphy2) (0.7.2)\n",
            "Requirement already satisfied: pymorphy2-dicts<3.0,>=2.4 in /usr/local/lib/python3.6/dist-packages (from pymorphy2) (2.4.393442.3710985)\n",
            "Requirement already satisfied: docopt>=0.6 in /usr/local/lib/python3.6/dist-packages (from pymorphy2) (0.6.2)\n"
          ],
          "name": "stdout"
        }
      ]
    },
    {
      "cell_type": "markdown",
      "metadata": {
        "id": "PLK5XRh7gB_0",
        "colab_type": "text"
      },
      "source": [
        "Далее нормализуем числовые данные которые будут входными для нейронной сети. Это стоит сделать, потому что некоторые значения имеют 6 степень, это слишком много."
      ]
    },
    {
      "cell_type": "code",
      "metadata": {
        "id": "59aGbgNmzNoQ",
        "colab_type": "code",
        "colab": {}
      },
      "source": [
        "from sklearn.preprocessing import StandardScaler, RobustScaler\n",
        "\n",
        "rob_scaler = RobustScaler() # RobustScaler менее подвержен выбросам\n",
        "std_scaler = StandardScaler()\n",
        "\t\t\t\n",
        "df['scaled_tstcount'] = rob_scaler.fit_transform(df['tstcount'].values.reshape(-1,1))\n",
        "df['scaled_tfol'] = rob_scaler.fit_transform(df['tfol'].values.reshape(-1,1))\n",
        "df['scaled_tfrien'] = rob_scaler.fit_transform(df['tfrien'].values.reshape(-1,1))\n",
        "df['scaled_listcount'] = rob_scaler.fit_transform(df['listcount'].values.reshape(-1,1))"
      ],
      "execution_count": 54,
      "outputs": []
    },
    {
      "cell_type": "code",
      "metadata": {
        "id": "pTZg-bHig6Ra",
        "colab_type": "code",
        "colab": {
          "base_uri": "https://localhost:8080/",
          "height": 307
        },
        "outputId": "d5f3caec-c452-46f7-d03a-ea58db960bb1"
      },
      "source": [
        "df.describe()"
      ],
      "execution_count": 19,
      "outputs": [
        {
          "output_type": "execute_result",
          "data": {
            "text/html": [
              "<div>\n",
              "<style scoped>\n",
              "    .dataframe tbody tr th:only-of-type {\n",
              "        vertical-align: middle;\n",
              "    }\n",
              "\n",
              "    .dataframe tbody tr th {\n",
              "        vertical-align: top;\n",
              "    }\n",
              "\n",
              "    .dataframe thead th {\n",
              "        text-align: right;\n",
              "    }\n",
              "</style>\n",
              "<table border=\"1\" class=\"dataframe\">\n",
              "  <thead>\n",
              "    <tr style=\"text-align: right;\">\n",
              "      <th></th>\n",
              "      <th>type</th>\n",
              "      <th>trep</th>\n",
              "      <th>trtw</th>\n",
              "      <th>tfav</th>\n",
              "      <th>tstcount</th>\n",
              "      <th>tfol</th>\n",
              "      <th>tfrien</th>\n",
              "      <th>listcount</th>\n",
              "      <th>scaled_tstcount</th>\n",
              "      <th>scaled_tfol</th>\n",
              "      <th>scaled_tfrien</th>\n",
              "      <th>scaled_listcount</th>\n",
              "    </tr>\n",
              "  </thead>\n",
              "  <tbody>\n",
              "    <tr>\n",
              "      <th>count</th>\n",
              "      <td>226834.000000</td>\n",
              "      <td>226834.0</td>\n",
              "      <td>226834.000000</td>\n",
              "      <td>226834.000000</td>\n",
              "      <td>2.268340e+05</td>\n",
              "      <td>2.268340e+05</td>\n",
              "      <td>226834.000000</td>\n",
              "      <td>226834.000000</td>\n",
              "      <td>226834.000000</td>\n",
              "      <td>226834.000000</td>\n",
              "      <td>226834.000000</td>\n",
              "      <td>226834.000000</td>\n",
              "    </tr>\n",
              "    <tr>\n",
              "      <th>mean</th>\n",
              "      <td>0.506586</td>\n",
              "      <td>0.0</td>\n",
              "      <td>3.118249</td>\n",
              "      <td>0.001243</td>\n",
              "      <td>7.584972e+03</td>\n",
              "      <td>6.770083e+02</td>\n",
              "      <td>332.682746</td>\n",
              "      <td>10.125475</td>\n",
              "      <td>0.784169</td>\n",
              "      <td>2.582645</td>\n",
              "      <td>1.551683</td>\n",
              "      <td>5.062738</td>\n",
              "    </tr>\n",
              "    <tr>\n",
              "      <th>std</th>\n",
              "      <td>0.499958</td>\n",
              "      <td>0.0</td>\n",
              "      <td>105.898784</td>\n",
              "      <td>0.035611</td>\n",
              "      <td>2.039972e+04</td>\n",
              "      <td>9.764450e+03</td>\n",
              "      <td>1915.268263</td>\n",
              "      <td>112.100088</td>\n",
              "      <td>2.877658</td>\n",
              "      <td>42.454130</td>\n",
              "      <td>11.400406</td>\n",
              "      <td>56.050044</td>\n",
              "    </tr>\n",
              "    <tr>\n",
              "      <th>min</th>\n",
              "      <td>0.000000</td>\n",
              "      <td>0.0</td>\n",
              "      <td>0.000000</td>\n",
              "      <td>0.000000</td>\n",
              "      <td>0.000000e+00</td>\n",
              "      <td>0.000000e+00</td>\n",
              "      <td>0.000000</td>\n",
              "      <td>0.000000</td>\n",
              "      <td>-0.285795</td>\n",
              "      <td>-0.360870</td>\n",
              "      <td>-0.428571</td>\n",
              "      <td>0.000000</td>\n",
              "    </tr>\n",
              "    <tr>\n",
              "      <th>25%</th>\n",
              "      <td>0.000000</td>\n",
              "      <td>0.0</td>\n",
              "      <td>0.000000</td>\n",
              "      <td>0.000000</td>\n",
              "      <td>4.730000e+02</td>\n",
              "      <td>2.700000e+01</td>\n",
              "      <td>29.000000</td>\n",
              "      <td>0.000000</td>\n",
              "      <td>-0.219072</td>\n",
              "      <td>-0.243478</td>\n",
              "      <td>-0.255952</td>\n",
              "      <td>0.000000</td>\n",
              "    </tr>\n",
              "    <tr>\n",
              "      <th>50%</th>\n",
              "      <td>1.000000</td>\n",
              "      <td>0.0</td>\n",
              "      <td>0.000000</td>\n",
              "      <td>0.000000</td>\n",
              "      <td>2.026000e+03</td>\n",
              "      <td>8.300000e+01</td>\n",
              "      <td>72.000000</td>\n",
              "      <td>0.000000</td>\n",
              "      <td>0.000000</td>\n",
              "      <td>0.000000</td>\n",
              "      <td>0.000000</td>\n",
              "      <td>0.000000</td>\n",
              "    </tr>\n",
              "    <tr>\n",
              "      <th>75%</th>\n",
              "      <td>1.000000</td>\n",
              "      <td>0.0</td>\n",
              "      <td>0.000000</td>\n",
              "      <td>0.000000</td>\n",
              "      <td>7.562000e+03</td>\n",
              "      <td>2.570000e+02</td>\n",
              "      <td>197.000000</td>\n",
              "      <td>2.000000</td>\n",
              "      <td>0.780928</td>\n",
              "      <td>0.756522</td>\n",
              "      <td>0.744048</td>\n",
              "      <td>1.000000</td>\n",
              "    </tr>\n",
              "    <tr>\n",
              "      <th>max</th>\n",
              "      <td>1.000000</td>\n",
              "      <td>0.0</td>\n",
              "      <td>13817.000000</td>\n",
              "      <td>2.000000</td>\n",
              "      <td>1.138639e+06</td>\n",
              "      <td>1.582807e+06</td>\n",
              "      <td>388311.000000</td>\n",
              "      <td>16915.000000</td>\n",
              "      <td>160.334744</td>\n",
              "      <td>6881.408696</td>\n",
              "      <td>2310.946429</td>\n",
              "      <td>8457.500000</td>\n",
              "    </tr>\n",
              "  </tbody>\n",
              "</table>\n",
              "</div>"
            ],
            "text/plain": [
              "                type      trep  ...  scaled_tfrien  scaled_listcount\n",
              "count  226834.000000  226834.0  ...  226834.000000     226834.000000\n",
              "mean        0.506586       0.0  ...       1.551683          5.062738\n",
              "std         0.499958       0.0  ...      11.400406         56.050044\n",
              "min         0.000000       0.0  ...      -0.428571          0.000000\n",
              "25%         0.000000       0.0  ...      -0.255952          0.000000\n",
              "50%         1.000000       0.0  ...       0.000000          0.000000\n",
              "75%         1.000000       0.0  ...       0.744048          1.000000\n",
              "max         1.000000       0.0  ...    2310.946429       8457.500000\n",
              "\n",
              "[8 rows x 12 columns]"
            ]
          },
          "metadata": {
            "tags": []
          },
          "execution_count": 19
        }
      ]
    },
    {
      "cell_type": "markdown",
      "metadata": {
        "id": "_Ya9L-HQh3V5",
        "colab_type": "text"
      },
      "source": [
        "Как видно, максимальные значения уменьшились на 2 порядка, а седние значения уменьшились в 4 раза. С такими данными сети будет проще работать.\n",
        "\n",
        "А теперь удалим старые значения этих столбцов."
      ]
    },
    {
      "cell_type": "code",
      "metadata": {
        "id": "SKv7YDcdhHrX",
        "colab_type": "code",
        "colab": {}
      },
      "source": [
        "df.drop(['tstcount','tfol','tfrien','listcount'], axis=1, inplace=True)"
      ],
      "execution_count": 55,
      "outputs": []
    },
    {
      "cell_type": "markdown",
      "metadata": {
        "id": "himI-bpiiqY9",
        "colab_type": "text"
      },
      "source": [
        "Далее нужно разделить данные на обучающую и тестовую выборку. Используем StratifiedKFold так как он соохраняет балланс классов"
      ]
    },
    {
      "cell_type": "code",
      "metadata": {
        "id": "zdrbYA9xaisA",
        "colab_type": "code",
        "colab": {
          "base_uri": "https://localhost:8080/",
          "height": 87
        },
        "outputId": "2ed4cb64-1efc-4f23-e93a-07bdd4ddd2a1"
      },
      "source": [
        "x = df.drop(['type','id','date','name','trtw','trep','tfav','text'], axis=1)\n",
        "y = df['type']\n",
        "\n",
        "# возвращает train и test сохраняя при этом баланс классов\n",
        "skf = StratifiedKFold(n_splits=5, random_state=None, shuffle=False)\n",
        "\n",
        "# skf.split генерирует индексы\n",
        "for train_index, test_index in skf.split(x, y):\n",
        "    data_train, data_test = x.iloc[train_index], x.iloc[test_index]\n",
        "    y_train, y_test = y.iloc[train_index], y.iloc[test_index]\n",
        "    rtw_train, rtw_test = df['trtw'].iloc[train_index], df['trtw'].iloc[test_index]\n",
        "\n",
        "\n",
        "# Преобразуем в массив\n",
        "text_train = data_train['preprocess_text'].values\n",
        "text_test = data_test['preprocess_text'].values\n",
        "data_train=data_train.drop('preprocess_text', axis=1).values\n",
        "data_test=data_test.drop('preprocess_text', axis=1).values\n",
        "rtw_train=rtw_train.values\n",
        "rtw_test=rtw_test.values\n",
        "y_train = y_train.values\n",
        "y_test = y_test.values\n",
        "\n",
        "# Убедимся в том, что балланс классов не изменился\n",
        "a,b=np.unique(y_train, return_counts=True)\n",
        "c,d=np.unique(y_test, return_counts=True)\n",
        "print('Label Distributions: \\n')\n",
        "print(b/ len(y_train))\n",
        "print(d/ len(y_test))"
      ],
      "execution_count": 56,
      "outputs": [
        {
          "output_type": "stream",
          "text": [
            "Label Distributions: \n",
            "\n",
            "[0.49341482 0.50658518]\n",
            "[0.49340916 0.50659084]\n"
          ],
          "name": "stdout"
        }
      ]
    },
    {
      "cell_type": "markdown",
      "metadata": {
        "id": "0DGKfiRZjDT7",
        "colab_type": "text"
      },
      "source": [
        "Далее обучим токенизатор и преобразуем текстовые данные в обучающем и тестовом датасете, в числовые значения"
      ]
    },
    {
      "cell_type": "code",
      "metadata": {
        "id": "ncPO4Bu0dj0B",
        "colab_type": "code",
        "colab": {}
      },
      "source": [
        "# объявим токенизатор\n",
        "tokenizer = Tokenizer(num_words=NUM)\n",
        "# обучим токенизатор\n",
        "tokenizer.fit_on_texts(text_train)\n",
        "# токенизируем текст\n",
        "sequences = tokenizer.texts_to_sequences(text_train)\n",
        "# ограничим длинну отзывов\n",
        "x_train = pad_sequences(sequences, maxlen=max_twit_len)\n",
        "\n",
        "test_sequences = tokenizer.texts_to_sequences(text_test)\n",
        "x_test = pad_sequences(test_sequences, maxlen=max_twit_len)\n"
      ],
      "execution_count": 57,
      "outputs": []
    },
    {
      "cell_type": "markdown",
      "metadata": {
        "id": "5RakDS5EjaXT",
        "colab_type": "text"
      },
      "source": [
        "Посмотрим на словарь слов"
      ]
    },
    {
      "cell_type": "code",
      "metadata": {
        "id": "55SwXeXwgLyV",
        "colab_type": "code",
        "colab": {
          "base_uri": "https://localhost:8080/",
          "height": 1000
        },
        "outputId": "8972ae8c-a352-4d7d-f90e-4ea1805d267f"
      },
      "source": [
        "tokenizer.word_index"
      ],
      "execution_count": 24,
      "outputs": [
        {
          "output_type": "execute_result",
          "data": {
            "text/plain": [
              "{'user': 1,\n",
              " 'я': 2,\n",
              " 'не': 3,\n",
              " 'и': 4,\n",
              " 'в': 5,\n",
              " 'на': 6,\n",
              " 'rt': 7,\n",
              " 'что': 8,\n",
              " 'а': 9,\n",
              " 'с': 10,\n",
              " 'url': 11,\n",
              " 'весь': 12,\n",
              " 'ты': 13,\n",
              " 'быть': 14,\n",
              " 'это': 15,\n",
              " 'как': 16,\n",
              " 'у': 17,\n",
              " 'то': 18,\n",
              " 'так': 19,\n",
              " 'd': 20,\n",
              " 'но': 21,\n",
              " 'он': 22,\n",
              " 'ну': 23,\n",
              " 'мы': 24,\n",
              " 'по': 25,\n",
              " 'мой': 26,\n",
              " 'за': 27,\n",
              " 'хотеть': 28,\n",
              " 'такой': 29,\n",
              " 'ещё': 30,\n",
              " 'уже': 31,\n",
              " 'вот': 32,\n",
              " 'день': 33,\n",
              " 'да': 34,\n",
              " 'же': 35,\n",
              " 'только': 36,\n",
              " 'о': 37,\n",
              " 'она': 38,\n",
              " 'мочь': 39,\n",
              " 'один': 40,\n",
              " 'сегодня': 41,\n",
              " 'бы': 42,\n",
              " 'нет': 43,\n",
              " 'к': 44,\n",
              " 'вы': 45,\n",
              " 'когда': 46,\n",
              " 'они': 47,\n",
              " 'кто': 48,\n",
              " 'очень': 49,\n",
              " 'этот': 50,\n",
              " 'из': 51,\n",
              " 'год': 52,\n",
              " 'просто': 53,\n",
              " 'хороший': 54,\n",
              " '3': 55,\n",
              " 'какой': 56,\n",
              " 'тот': 57,\n",
              " 'человек': 58,\n",
              " 'от': 59,\n",
              " 'знать': 60,\n",
              " 'свой': 61,\n",
              " 'теперь': 62,\n",
              " 'если': 63,\n",
              " '2': 64,\n",
              " 'любить': 65,\n",
              " 'надо': 66,\n",
              " 'есть': 67,\n",
              " 'тоже': 68,\n",
              " 'даже': 69,\n",
              " 'завтра': 70,\n",
              " 'там': 71,\n",
              " 'до': 72,\n",
              " 'самый': 73,\n",
              " 'вообще': 74,\n",
              " 'себя': 75,\n",
              " 'делать': 76,\n",
              " '1': 77,\n",
              " 'для': 78,\n",
              " 'большой': 79,\n",
              " 'спасибо': 80,\n",
              " 'сейчас': 81,\n",
              " 'сказать': 82,\n",
              " 'блин': 83,\n",
              " 'почему': 84,\n",
              " 'смотреть': 85,\n",
              " 'раз': 86,\n",
              " 'новый': 87,\n",
              " 'думать': 88,\n",
              " 'время': 89,\n",
              " 'который': 90,\n",
              " 'идти': 91,\n",
              " 'спать': 92,\n",
              " 'без': 93,\n",
              " 'тут': 94,\n",
              " 'наш': 95,\n",
              " 'дом': 96,\n",
              " 'два': 97,\n",
              " 'ничто': 98,\n",
              " 'или': 99,\n",
              " 'сидеть': 100,\n",
              " 'друг': 101,\n",
              " 'жизнь': 102,\n",
              " 'утро': 103,\n",
              " 'писать': 104,\n",
              " 'чем': 105,\n",
              " 'сделать': 106,\n",
              " 'школа': 107,\n",
              " 'всегда': 108,\n",
              " 'хорошо': 109,\n",
              " 'про': 110,\n",
              " 'настроение': 111,\n",
              " 'говорить': 112,\n",
              " 'можно': 113,\n",
              " 'ждать': 114,\n",
              " 'мама': 115,\n",
              " 'где': 116,\n",
              " '5': 117,\n",
              " 'потом': 118,\n",
              " 'любимый': 119,\n",
              " 'болеть': 120,\n",
              " 'пойти': 121,\n",
              " 'твой': 122,\n",
              " 'написать': 123,\n",
              " 'ни': 124,\n",
              " 'опять': 125,\n",
              " 'чтобы': 126,\n",
              " 'после': 127,\n",
              " 'хотеться': 128,\n",
              " 'сам': 129,\n",
              " 'работа': 130,\n",
              " 'видеть': 131,\n",
              " 'посмотреть': 132,\n",
              " 'пока': 133,\n",
              " 'ночь': 134,\n",
              " 'никто': 135,\n",
              " 'понять': 136,\n",
              " 'последний': 137,\n",
              " '4': 138,\n",
              " 'стать': 139,\n",
              " 'добрый': 140,\n",
              " 'дело': 141,\n",
              " '9': 142,\n",
              " 'найти': 143,\n",
              " 'много': 144,\n",
              " 'хоть': 145,\n",
              " 'понимать': 146,\n",
              " 'купить': 147,\n",
              " 'всего': 148,\n",
              " 'неделя': 149,\n",
              " 'давать': 150,\n",
              " 'каждый': 151,\n",
              " 'час': 152,\n",
              " 'нравиться': 153,\n",
              " 'другой': 154,\n",
              " 'скучать': 155,\n",
              " 'х': 156,\n",
              " 'скоро': 157,\n",
              " 'нужно': 158,\n",
              " 'читать': 159,\n",
              " 'вчера': 160,\n",
              " 'снег': 161,\n",
              " 'плохо': 162,\n",
              " 'забыть': 163,\n",
              " 'урок': 164,\n",
              " 'работать': 165,\n",
              " 'совсем': 166,\n",
              " 'остаться': 167,\n",
              " 'нибыть': 168,\n",
              " 'под': 169,\n",
              " 'потому': 170,\n",
              " 'фильм': 171,\n",
              " 'хотя': 172,\n",
              " 'через': 173,\n",
              " 'жить': 174,\n",
              " 'ли': 175,\n",
              " 'ахи': 176,\n",
              " 'ходить': 177,\n",
              " 'пара': 178,\n",
              " 'конечно': 179,\n",
              " 'жаль': 180,\n",
              " 'вечер': 181,\n",
              " 'надеяться': 182,\n",
              " 'сон': 183,\n",
              " 'никогда': 184,\n",
              " 'домой': 185,\n",
              " 'нормальный': 186,\n",
              " 'телефон': 187,\n",
              " 'нг': 188,\n",
              " 'тогда': 189,\n",
              " 'правда': 190,\n",
              " 'ведь': 191,\n",
              " 'нужный': 192,\n",
              " 'дать': 193,\n",
              " 'бля': 194,\n",
              " 'равно': 195,\n",
              " 'слово': 196,\n",
              " 'ахах': 197,\n",
              " 'улица': 198,\n",
              " 'рука': 199,\n",
              " 'ж': 200,\n",
              " 'три': 201,\n",
              " 'вроде': 202,\n",
              " 'o': 203,\n",
              " 'пора': 204,\n",
              " 'таки': 205,\n",
              " 'кажется': 206,\n",
              " 'увидеть': 207,\n",
              " 'че': 208,\n",
              " 'фотка': 209,\n",
              " 'начать': 210,\n",
              " 'привет': 211,\n",
              " 'парень': 212,\n",
              " '8': 213,\n",
              " 'круто': 214,\n",
              " 'играть': 215,\n",
              " 'помнить': 216,\n",
              " 'снова': 217,\n",
              " 'минута': 218,\n",
              " 'рождение': 219,\n",
              " 'твит': 220,\n",
              " 'голова': 221,\n",
              " '13': 222,\n",
              " 'должный': 223,\n",
              " 'новогодний': 224,\n",
              " 'dd': 225,\n",
              " 'девушка': 226,\n",
              " 'давно': 227,\n",
              " 'ехать': 228,\n",
              " 'место': 229,\n",
              " 'том': 230,\n",
              " 'выйти': 231,\n",
              " '12': 232,\n",
              " 'кома': 233,\n",
              " 'выходной': 234,\n",
              " 'подарок': 235,\n",
              " 'уж': 236,\n",
              " 'прийти': 237,\n",
              " 'ранний': 238,\n",
              " 'точно': 239,\n",
              " 'почти': 240,\n",
              " 'приехать': 241,\n",
              " 'решить': 242,\n",
              " 'зачем': 243,\n",
              " 'имя': 244,\n",
              " 'куда': 245,\n",
              " 'кстати': 246,\n",
              " 'сразу': 247,\n",
              " '6': 248,\n",
              " 'бог': 249,\n",
              " 'глаз': 250,\n",
              " 'бояться': 251,\n",
              " 'класс': 252,\n",
              " 'ладный': 253,\n",
              " 'взять': 254,\n",
              " 'днём': 255,\n",
              " 'чуть': 256,\n",
              " 'деньга': 257,\n",
              " 'ребёнок': 258,\n",
              " 'вопрос': 259,\n",
              " 'лента': 260,\n",
              " 'чувствовать': 261,\n",
              " 'ненавидеть': 262,\n",
              " 'новое': 263,\n",
              " 'сколько': 264,\n",
              " 'нея': 265,\n",
              " 'маленький': 266,\n",
              " 'главный': 267,\n",
              " '7': 268,\n",
              " 'конец': 269,\n",
              " 'зима': 270,\n",
              " 'простить': 271,\n",
              " 'город': 272,\n",
              " 'наверное': 273,\n",
              " 'понравиться': 274,\n",
              " 'любовь': 275,\n",
              " 'слушать': 276,\n",
              " 'gt': 277,\n",
              " 'мир': 278,\n",
              " 'нельзя': 279,\n",
              " 'папа': 280,\n",
              " 'бывать': 281,\n",
              " 'еда': 282,\n",
              " 'половина': 283,\n",
              " 'прийтись': 284,\n",
              " 'смочь': 285,\n",
              " 'блять': 286,\n",
              " 'прям': 287,\n",
              " 'сильно': 288,\n",
              " 'ваш': 289,\n",
              " 'з': 290,\n",
              " 'месяц': 291,\n",
              " 'мало': 292,\n",
              " 'столько': 293,\n",
              " 'девочка': 294,\n",
              " 'пришлый': 295,\n",
              " 'крутой': 296,\n",
              " 'получиться': 297,\n",
              " 'момент': 298,\n",
              " 'вк': 299,\n",
              " 'нога': 300,\n",
              " 'норма': 301,\n",
              " 'ёлка': 302,\n",
              " 'ахахи': 303,\n",
              " 'русский': 304,\n",
              " 'пройти': 305,\n",
              " 'уйти': 306,\n",
              " 'наконец': 307,\n",
              " 'б': 308,\n",
              " 'красивый': 309,\n",
              " 'ибо': 310,\n",
              " 'проснуться': 311,\n",
              " 'музыка': 312,\n",
              " 'значит': 313,\n",
              " 'пиздец': 314,\n",
              " '11': 315,\n",
              " 'жалко': 316,\n",
              " '15': 317,\n",
              " 'экзамен': 318,\n",
              " '14': 319,\n",
              " 'интересно': 320,\n",
              " 'перед': 321,\n",
              " 'обидный': 322,\n",
              " 'тем': 323,\n",
              " 'часы': 324,\n",
              " 'чувство': 325,\n",
              " 'успеть': 326,\n",
              " 'узнать': 327,\n",
              " 'история': 328,\n",
              " 'серия': 329,\n",
              " 'эх': 330,\n",
              " 'счастие': 331,\n",
              " 'россия': 332,\n",
              " 'чтоб': 333,\n",
              " 'приятно': 334,\n",
              " 'при': 335,\n",
              " 'ребята': 336,\n",
              " 'гулять': 337,\n",
              " 'щас': 338,\n",
              " 'фото': 339,\n",
              " 'учить': 340,\n",
              " 'праздник': 341,\n",
              " 'закончиться': 342,\n",
              " 'получить': 343,\n",
              " 'отличный': 344,\n",
              " 'lt': 345,\n",
              " 'вспомнить': 346,\n",
              " 'немного': 347,\n",
              " 'скучно': 348,\n",
              " 'песня': 349,\n",
              " 'сходить': 350,\n",
              " 'игра': 351,\n",
              " 'ужасно': 352,\n",
              " 'ой': 353,\n",
              " 'стоить': 354,\n",
              " 'долго': 355,\n",
              " 'боль': 356,\n",
              " 'проблема': 357,\n",
              " 'поставить': 358,\n",
              " 'поехать': 359,\n",
              " 'устать': 360,\n",
              " 'милый': 361,\n",
              " 'помочь': 362,\n",
              " 'начинать': 363,\n",
              " 'плохой': 364,\n",
              " 'зато': 365,\n",
              " 'каникулы': 366,\n",
              " 'иногда': 367,\n",
              " 'подруга': 368,\n",
              " 'учиться': 369,\n",
              " 'хватать': 370,\n",
              " 'ага': 371,\n",
              " 'заболеть': 372,\n",
              " 'пить': 373,\n",
              " 'вместе': 374,\n",
              " 'именно': 375,\n",
              " 'классный': 376,\n",
              " 'интернет': 377,\n",
              " 'ряд': 378,\n",
              " 'погода': 379,\n",
              " 'интересный': 380,\n",
              " 'твиттереть': 381,\n",
              " 'оно': 382,\n",
              " 'слишком': 383,\n",
              " 'верить': 384,\n",
              " 'холодный': 385,\n",
              " 'пусть': 386,\n",
              " 'машина': 387,\n",
              " 'офигенный': 388,\n",
              " 'умереть': 389,\n",
              " 'плакать': 390,\n",
              " 'прекрасный': 391,\n",
              " 'поход': 392,\n",
              " 'группа': 393,\n",
              " 'никак': 394,\n",
              " 'пошлый': 395,\n",
              " 'отлично': 396,\n",
              " 'уметь': 397,\n",
              " 'поэтому': 398,\n",
              " 'счастливый': 399,\n",
              " 'дорогой': 400,\n",
              " 'сдать': 401,\n",
              " 'желание': 402,\n",
              " 'приходить': 403,\n",
              " 'родитель': 404,\n",
              " 'зачёт': 405,\n",
              " 'встать': 406,\n",
              " 'пятница': 407,\n",
              " 'брат': 408,\n",
              " 'учёба': 409,\n",
              " 'видео': 410,\n",
              " 'знаешь': 411,\n",
              " 'новость': 412,\n",
              " 'москва': 413,\n",
              " 'понедельник': 414,\n",
              " 'утром': 415,\n",
              " 'капец': 416,\n",
              " 'быстро': 417,\n",
              " 'тема': 418,\n",
              " 'тип': 419,\n",
              " 'полный': 420,\n",
              " 'сук': 421,\n",
              " 'голос': 422,\n",
              " 'подумать': 423,\n",
              " 'черта': 424,\n",
              " 'начаться': 425,\n",
              " 'собираться': 426,\n",
              " 'назад': 427,\n",
              " 'ужасный': 428,\n",
              " 'вставать': 429,\n",
              " 'нету': 430,\n",
              " 'весело': 431,\n",
              " 'мысль': 432,\n",
              " 'зайти': 433,\n",
              " 'бесить': 434,\n",
              " 'р': 435,\n",
              " 'пожалуйста': 436,\n",
              " 'магазин': 437,\n",
              " 'чувак': 438,\n",
              " 'лицо': 439,\n",
              " 'далёкий': 440,\n",
              " 'особенно': 441,\n",
              " 'лишь': 442,\n",
              " 'концерт': 443,\n",
              " 'скорее': 444,\n",
              " 'выходить': 445,\n",
              " 'душа': 446,\n",
              " 'удача': 447,\n",
              " 'сериал': 448,\n",
              " 'здесь': 449,\n",
              " 'окно': 450,\n",
              " 'говорят': 451,\n",
              " 'сезон': 452,\n",
              " 'книга': 453,\n",
              " 'сей': 454,\n",
              " 'ох': 455,\n",
              " 'подарить': 456,\n",
              " 'грустно': 457,\n",
              " 'обожать': 458,\n",
              " 'следующий': 459,\n",
              " 'план': 460,\n",
              " 'пытаться': 461,\n",
              " 'туда': 462,\n",
              " 'литр': 463,\n",
              " 'далее': 464,\n",
              " 'выспаться': 465,\n",
              " 'готовый': 466,\n",
              " 'целый': 467,\n",
              " 'кот': 468,\n",
              " 'получаться': 469,\n",
              " 'ужас': 470,\n",
              " 'др': 471,\n",
              " 'реально': 472,\n",
              " 'женщина': 473,\n",
              " 'нечего': 474,\n",
              " 'число': 475,\n",
              " 'молодец': 476,\n",
              " 'искать': 477,\n",
              " 'ddd': 478,\n",
              " 'сердце': 479,\n",
              " 'ааа': 480,\n",
              " 'поздравлять': 481,\n",
              " 'мальчик': 482,\n",
              " 'суббота': 483,\n",
              " 'страшно': 484,\n",
              " 'тви': 485,\n",
              " 'метр': 486,\n",
              " 'никакой': 487,\n",
              " 'лень': 488,\n",
              " 'начало': 489,\n",
              " 'декабрь': 490,\n",
              " 'убить': 491,\n",
              " 'твиттер': 492,\n",
              " 'мужик': 493,\n",
              " 'жопа': 494,\n",
              " 'свет': 495,\n",
              " 'заходить': 496,\n",
              " 'больно': 497,\n",
              " 'вернуться': 498,\n",
              " 'провести': 499,\n",
              " 'уехать': 500,\n",
              " 'й': 501,\n",
              " 'рада': 502,\n",
              " 'мороз': 503,\n",
              " 'приятный': 504,\n",
              " 'худой': 505,\n",
              " 'английский': 506,\n",
              " 'слышать': 507,\n",
              " 'сессия': 508,\n",
              " 'обычно': 509,\n",
              " 'общаться': 510,\n",
              " 'уснуть': 511,\n",
              " 'amp': 512,\n",
              " 'брать': 513,\n",
              " 'комп': 514,\n",
              " 'короче': 515,\n",
              " 'сила': 516,\n",
              " 'видимо': 517,\n",
              " 'потерять': 518,\n",
              " 'соскучиться': 519,\n",
              " 'более': 520,\n",
              " 'слеза': 521,\n",
              " 'хватить': 522,\n",
              " 'лето': 523,\n",
              " 'позвонить': 524,\n",
              " 'рано': 525,\n",
              " 'попасть': 526,\n",
              " 'считать': 527,\n",
              " 'хах': 528,\n",
              " 'вромайдан': 529,\n",
              " 'тупой': 530,\n",
              " 'аж': 531,\n",
              " 'первое': 532,\n",
              " 'иметь': 533,\n",
              " 'оказываться': 534,\n",
              " 'чо': 535,\n",
              " 'либо': 536,\n",
              " 'рассказать': 537,\n",
              " 'ахахах': 538,\n",
              " 'песнь': 539,\n",
              " 'страна': 540,\n",
              " 'будто': 541,\n",
              " 'хд': 542,\n",
              " 'детство': 543,\n",
              " 'правильно': 544,\n",
              " 'звонить': 545,\n",
              " 'ночью': 546,\n",
              " 'волос': 547,\n",
              " 'заметить': 548,\n",
              " 'весёлый': 549,\n",
              " 'над': 550,\n",
              " 'вечером': 551,\n",
              " 'кроме': 552,\n",
              " 'отвечать': 553,\n",
              " 'лежать': 554,\n",
              " 'прочитать': 555,\n",
              " 'температура': 556,\n",
              " 'билет': 557,\n",
              " 'похоже': 558,\n",
              " 'бабушка': 559,\n",
              " 'петь': 560,\n",
              " 'оказаться': 561,\n",
              " 'печаль': 562,\n",
              " 'честно': 563,\n",
              " 'ff': 564,\n",
              " 'ура': 565,\n",
              " 'уходить': 566,\n",
              " 'желать': 567,\n",
              " 'вид': 568,\n",
              " 'куча': 569,\n",
              " 'мужчина': 570,\n",
              " 'радовать': 571,\n",
              " 'послать': 572,\n",
              " 'общий': 573,\n",
              " 'ru': 574,\n",
              " 'голов': 575,\n",
              " 'просить': 576,\n",
              " 'несколько': 577,\n",
              " 'смысл': 578,\n",
              " 'погулять': 579,\n",
              " 'кофе': 580,\n",
              " 'лечь': 581,\n",
              " 'надоесть': 582,\n",
              " 'народ': 583,\n",
              " 'вместо': 584,\n",
              " 'спокойный': 585,\n",
              " 'дорога': 586,\n",
              " 'кино': 587,\n",
              " 'стоять': 588,\n",
              " 'лох': 589,\n",
              " 'скорый': 590,\n",
              " 'старый': 591,\n",
              " 'ответить': 592,\n",
              " 'добро': 593,\n",
              " 'всякий': 594,\n",
              " 'настоящий': 595,\n",
              " 'наверно': 596,\n",
              " 'упасть': 597,\n",
              " 'бедный': 598,\n",
              " 'сестра': 599,\n",
              " 'быстрый': 600,\n",
              " 'ок': 601,\n",
              " 'картинка': 602,\n",
              " 'сайт': 603,\n",
              " 'сначала': 604,\n",
              " 'важный': 605,\n",
              " 'часть': 606,\n",
              " 'родной': 607,\n",
              " 'придумать': 608,\n",
              " 'ставить': 609,\n",
              " 'каток': 610,\n",
              " 'танец': 611,\n",
              " 'обещать': 612,\n",
              " 'забрать': 613,\n",
              " 'постоянно': 614,\n",
              " 'пропустить': 615,\n",
              " 'ответ': 616,\n",
              " 'спросить': 617,\n",
              " 'появиться': 618,\n",
              " 'перестать': 619,\n",
              " 'квартира': 620,\n",
              " 'больница': 621,\n",
              " 'спасть': 622,\n",
              " 'право': 623,\n",
              " 'говно': 624,\n",
              " 'прошлый': 625,\n",
              " 'знакомый': 626,\n",
              " 'сторона': 627,\n",
              " 'химия': 628,\n",
              " 'радость': 629,\n",
              " 'готовиться': 630,\n",
              " 'комната': 631,\n",
              " 'чёрный': 632,\n",
              " 'звать': 633,\n",
              " 'замечательный': 634,\n",
              " 'номер': 635,\n",
              " 'мечта': 636,\n",
              " 'настя': 637,\n",
              " 'даа': 638,\n",
              " 'чаять': 639,\n",
              " '99': 640,\n",
              " 'ощущение': 641,\n",
              " 'сниться': 642,\n",
              " 'смешно': 643,\n",
              " 'ум': 644,\n",
              " 'автобус': 645,\n",
              " 'похожий': 646,\n",
              " 'супер': 647,\n",
              " 'показать': 648,\n",
              " 'единственный': 649,\n",
              " 'происходить': 650,\n",
              " 'январь': 651,\n",
              " 'случай': 652,\n",
              " 'поговорить': 653,\n",
              " 'вдруг': 654,\n",
              " 'остальной': 655,\n",
              " 'огромный': 656,\n",
              " 'разный': 657,\n",
              " 'некоторый': 658,\n",
              " 'собака': 659,\n",
              " 'аааа': 660,\n",
              " 'попробовать': 661,\n",
              " 'дождь': 662,\n",
              " 'странный': 663,\n",
              " 'шок': 664,\n",
              " 'заниматься': 665,\n",
              " 'представлять': 666,\n",
              " 'страница': 667,\n",
              " 'действительно': 668,\n",
              " 'печально': 669,\n",
              " 'курс': 670,\n",
              " 'бегать': 671,\n",
              " 'a': 672,\n",
              " 'письмо': 673,\n",
              " 'испортить': 674,\n",
              " 'сообщение': 675,\n",
              " 'готовить': 676,\n",
              " 'жена': 677,\n",
              " 'часто': 678,\n",
              " 'вспоминать': 679,\n",
              " 'страшный': 680,\n",
              " 'немой': 681,\n",
              " 'сладкое': 682,\n",
              " 'оставаться': 683,\n",
              " 'пять': 684,\n",
              " 'начинаться': 685,\n",
              " 'фигня': 686,\n",
              " 'семья': 687,\n",
              " 'саша': 688,\n",
              " 'кушать': 689,\n",
              " 'рабочий': 690,\n",
              " 'кинуть': 691,\n",
              " 'одноклассник': 692,\n",
              " 'странно': 693,\n",
              " 'идиот': 694,\n",
              " 'мыть': 695,\n",
              " 'гость': 696,\n",
              " 'встретить': 697,\n",
              " 'покупать': 698,\n",
              " 'встреча': 699,\n",
              " 'тренировка': 700,\n",
              " 'нос': 701,\n",
              " 'фотография': 702,\n",
              " 'открыть': 703,\n",
              " 'контрольный': 704,\n",
              " 'достать': 705,\n",
              " 'ващий': 706,\n",
              " 'обратно': 707,\n",
              " 'становиться': 708,\n",
              " 'прислать': 709,\n",
              " 'простой': 710,\n",
              " 'физика': 711,\n",
              " 'состояние': 712,\n",
              " 'лола': 713,\n",
              " 'дура': 714,\n",
              " 'встретиться': 715,\n",
              " 'горло': 716,\n",
              " 'кровать': 717,\n",
              " 'понятно': 718,\n",
              " 'итог': 719,\n",
              " 'зря': 720,\n",
              " 'проходить': 721,\n",
              " 'мозг': 722,\n",
              " 'выздоравливать': 723,\n",
              " 'показывать': 724,\n",
              " 'вещий': 725,\n",
              " 'вернуть': 726,\n",
              " 'безумно': 727,\n",
              " 'плата': 728,\n",
              " 'муж': 729,\n",
              " 'украина': 730,\n",
              " 'помощь': 731,\n",
              " 'смеяться': 732,\n",
              " 'ретвит': 733,\n",
              " 'ооо': 734,\n",
              " 'обязательно': 735,\n",
              " 'мило': 736,\n",
              " 'язык': 737,\n",
              " 'любой': 738,\n",
              " 'хуй': 739,\n",
              " 'сожаление': 740,\n",
              " 'везде': 741,\n",
              " 'сложно': 742,\n",
              " 'молодёжка': 743,\n",
              " 'уезжать': 744,\n",
              " 'проспать': 745,\n",
              " 'разговаривать': 746,\n",
              " 'сдавать': 747,\n",
              " 'алгебра': 748,\n",
              " 'случиться': 749,\n",
              " 'оставить': 750,\n",
              " 'бл': 751,\n",
              " 'майдан': 752,\n",
              " 'прямо': 753,\n",
              " 'рад': 754,\n",
              " 'нахуй': 755,\n",
              " 'палец': 756,\n",
              " 'воскресение': 757,\n",
              " 'видно': 758,\n",
              " 'вкусный': 759,\n",
              " 'ах': 760,\n",
              " '16': 761,\n",
              " 'вести': 762,\n",
              " 'спрашивать': 763,\n",
              " 'господь': 764,\n",
              " 'называть': 765,\n",
              " 'тёплый': 766,\n",
              " 'пробка': 767,\n",
              " 'отдать': 768,\n",
              " 'съесть': 769,\n",
              " 'красный': 770,\n",
              " 'баба': 771,\n",
              " 'повод': 772,\n",
              " 'идея': 773,\n",
              " 'рубль': 774,\n",
              " 'против': 775,\n",
              " 'недавно': 776,\n",
              " 'стыдно': 777,\n",
              " 'везти': 778,\n",
              " 'удалить': 779,\n",
              " 'оценка': 780,\n",
              " 'жрать': 781,\n",
              " 'ради': 782,\n",
              " 'прошлое': 783,\n",
              " 'далеко': 784,\n",
              " 'классно': 785,\n",
              " 'платье': 786,\n",
              " 'прикольный': 787,\n",
              " 'ездить': 788,\n",
              " 'сильный': 789,\n",
              " 'е': 790,\n",
              " 'помогать': 791,\n",
              " 'приезжать': 792,\n",
              " 'шикарный': 793,\n",
              " 'стол': 794,\n",
              " 'шк': 795,\n",
              " 'наушник': 796,\n",
              " 'возможно': 797,\n",
              " 'поздравить': 798,\n",
              " 'скинуть': 799,\n",
              " 'никуда': 800,\n",
              " 'радоваться': 801,\n",
              " 'кой': 802,\n",
              " 'называться': 803,\n",
              " 'универ': 804,\n",
              " 'старое': 805,\n",
              " 'настолько': 806,\n",
              " 'метро': 807,\n",
              " 'поздно': 808,\n",
              " 'катя': 809,\n",
              " 'дааа': 810,\n",
              " 'очередной': 811,\n",
              " 'тяжёлый': 812,\n",
              " 'отправить': 813,\n",
              " 'сегодняшний': 814,\n",
              " 'пост': 815,\n",
              " 'тепло': 816,\n",
              " 'читатель': 817,\n",
              " 'ржать': 818,\n",
              " 'переживать': 819,\n",
              " 'оч': 820,\n",
              " 'живой': 821,\n",
              " 'выглядеть': 822,\n",
              " 'ток': 823,\n",
              " 'ошибка': 824,\n",
              " 'питер': 825,\n",
              " 'чудо': 826,\n",
              " 'попросить': 827,\n",
              " 'мечтать': 828,\n",
              " 'пацан': 829,\n",
              " 'тяжело': 830,\n",
              " 'вокруг': 831,\n",
              " 'рассказывать': 832,\n",
              " 'цвета': 833,\n",
              " 'го': 834,\n",
              " 'поднять': 835,\n",
              " '18': 836,\n",
              " 'олимпиада': 837,\n",
              " 'фу': 838,\n",
              " 'злой': 839,\n",
              " 'сломать': 840,\n",
              " 'путин': 841,\n",
              " 'согласный': 842,\n",
              " 'маленькая': 843,\n",
              " 'поесть': 844,\n",
              " 'просыпаться': 845,\n",
              " 'шутка': 846,\n",
              " 'оо': 847,\n",
              " 'q': 848,\n",
              " 'вода': 849,\n",
              " 'p': 850,\n",
              " 'бросить': 851,\n",
              " 'рисовать': 852,\n",
              " 'выпить': 853,\n",
              " 'ложиться': 854,\n",
              " 'отношение': 855,\n",
              " 'сосед': 856,\n",
              " 'танцевать': 857,\n",
              " 'увы': 858,\n",
              " 'шапка': 859,\n",
              " 'грустный': 860,\n",
              " 'собраться': 861,\n",
              " 'извинить': 862,\n",
              " 'кошка': 863,\n",
              " 'учитель': 864,\n",
              " 'повезти': 865,\n",
              " 'контакт': 866,\n",
              " 'кататься': 867,\n",
              " 'включить': 868,\n",
              " 'ппц': 869,\n",
              " 'например': 870,\n",
              " 'пропасть': 871,\n",
              " 'принести': 872,\n",
              " 'присниться': 873,\n",
              " 'врач': 874,\n",
              " 'волгоград': 875,\n",
              " 'жесть': 876,\n",
              " 'душить': 877,\n",
              " 'держать': 878,\n",
              " 'красиво': 879,\n",
              " 'разговор': 880,\n",
              " 'follow': 881,\n",
              " 'минь': 882,\n",
              " 'снежок': 883,\n",
              " 'ожидать': 884,\n",
              " 'дождаться': 885,\n",
              " 'стараться': 886,\n",
              " 'отдыхать': 887,\n",
              " 'киев': 888,\n",
              " 'компания': 889,\n",
              " 'послушать': 890,\n",
              " 'вчерашний': 891,\n",
              " 'поспать': 892,\n",
              " 'ахахахи': 893,\n",
              " 'дед': 894,\n",
              " 'между': 895,\n",
              " 'хрен': 896,\n",
              " 'выучить': 897,\n",
              " 'умный': 898,\n",
              " 'забывать': 899,\n",
              " 'кровь': 900,\n",
              " 'фраза': 901,\n",
              " 'хуйня': 902,\n",
              " 'лёгкий': 903,\n",
              " 'пздца': 904,\n",
              " 'откуда': 905,\n",
              " 'ти': 906,\n",
              " 'неужели': 907,\n",
              " 'вариант': 908,\n",
              " 'нь': 909,\n",
              " 's': 910,\n",
              " 'виноватый': 911,\n",
              " 'футбол': 912,\n",
              " 'умирать': 913,\n",
              " 'назвать': 914,\n",
              " 'статус': 915,\n",
              " 'пиво': 916,\n",
              " 'завидовать': 917,\n",
              " 'вечно': 918,\n",
              " 'сюда': 919,\n",
              " 'збс': 920,\n",
              " 'улыбаться': 921,\n",
              " 'клуб': 922,\n",
              " 'многий': 923,\n",
              " 'айфон': 924,\n",
              " 'почитать': 925,\n",
              " 'ситуация': 926,\n",
              " 'закрыть': 927,\n",
              " 'команда': 928,\n",
              " 'сеть': 929,\n",
              " '25': 930,\n",
              " 'тысяча': 931,\n",
              " 'ухо': 932,\n",
              " 'центр': 933,\n",
              " 'заставить': 934,\n",
              " 'больной': 935,\n",
              " 'очередь': 936,\n",
              " 'плач': 937,\n",
              " 'прекрасно': 938,\n",
              " 'шо': 939,\n",
              " 'список': 940,\n",
              " 'ааааа': 941,\n",
              " 'загадать': 942,\n",
              " 'штука': 943,\n",
              " 'реклама': 944,\n",
              " 'зимний': 945,\n",
              " 'фига': 946,\n",
              " 'солнце': 947,\n",
              " 'геометрия': 948,\n",
              " 'случайно': 949,\n",
              " 'курить': 950,\n",
              " 'улыбка': 951,\n",
              " 'поиграть': 952,\n",
              " 'серьёзно': 953,\n",
              " 'жуйк': 954,\n",
              " 'альбом': 955,\n",
              " 'мать': 956,\n",
              " 'красота': 957,\n",
              " 'ссылка': 958,\n",
              " 'сутки': 959,\n",
              " 'ща': 960,\n",
              " 'причём': 961,\n",
              " 'чета': 962,\n",
              " 'клевый': 963,\n",
              " 'даша': 964,\n",
              " 'ха': 965,\n",
              " 'здоровье': 966,\n",
              " 'близкий': 967,\n",
              " 'хз': 968,\n",
              " 'четыре': 969,\n",
              " 'оба': 970,\n",
              " 'память': 971,\n",
              " 'иначе': 972,\n",
              " 'привыкнуть': 973,\n",
              " 'тело': 974,\n",
              " 'обычный': 975,\n",
              " 'срочно': 976,\n",
              " 'беда': 977,\n",
              " 'кончиться': 978,\n",
              " 'мнение': 979,\n",
              " 'знаете': 980,\n",
              " 'сесть': 981,\n",
              " 'решать': 982,\n",
              " '17': 983,\n",
              " 'приходиться': 984,\n",
              " 'судить': 985,\n",
              " 'свободный': 986,\n",
              " 'добавить': 987,\n",
              " 'снимать': 988,\n",
              " 'биология': 989,\n",
              " 'летом': 990,\n",
              " 'выбор': 991,\n",
              " 'впервые': 992,\n",
              " 'сложный': 993,\n",
              " '21': 994,\n",
              " 'отмечать': 995,\n",
              " 'устроить': 996,\n",
              " 'держаться': 997,\n",
              " 'встречать': 998,\n",
              " 'спокойно': 999,\n",
              " 'посидеть': 1000,\n",
              " ...}"
            ]
          },
          "metadata": {
            "tags": []
          },
          "execution_count": 24
        }
      ]
    },
    {
      "cell_type": "markdown",
      "metadata": {
        "id": "r02JP7sImweW",
        "colab_type": "text"
      },
      "source": [
        "Посмотрим на данные для обучения"
      ]
    },
    {
      "cell_type": "code",
      "metadata": {
        "id": "ZUvOqyJvj9u1",
        "colab_type": "code",
        "colab": {
          "base_uri": "https://localhost:8080/",
          "height": 52
        },
        "outputId": "d98972e9-b75f-47d1-bb79-cd0b7f94df97"
      },
      "source": [
        "x_train[0]"
      ],
      "execution_count": null,
      "outputs": [
        {
          "output_type": "execute_result",
          "data": {
            "text/plain": [
              "array([   0,    0,    0,    0,    0,    0,    0,    0,    0,    0,    0,\n",
              "          0,   23, 3100,   23,  665, 3143,  783,  133,   10], dtype=int32)"
            ]
          },
          "metadata": {
            "tags": []
          },
          "execution_count": 55
        }
      ]
    },
    {
      "cell_type": "markdown",
      "metadata": {
        "id": "clcNww0AkGz6",
        "colab_type": "text"
      },
      "source": [
        "# Embedding без предварительного обучения + LSTM для классификации"
      ]
    },
    {
      "cell_type": "markdown",
      "metadata": {
        "id": "_l16FG0ykYiR",
        "colab_type": "text"
      },
      "source": [
        "Первым делом попробуем решить задачу при помощи рекуррентной нейронной сети LSTM, без обучения языковой модели, просто обучая Embedding.\n",
        "Основной причиной почему именно LSTM заключается в том, что у этой архитектуры получается учитывать контекст, при этом не страдая от проблемы долгосрочных зависимостеей. Возможно здесь подошла бы более простая модель GRU, но какой-то огромной разницы между ними нет.\n",
        "\n",
        "В качестве регуляризации будем использовать пространственный дропаут после embedding для того, чтобы выключались не отдельные значения векторов слов, а вектора слов целиком. Таким образом получится в отдельном твитте на некоторых итерациях избежать влияния отдельных слов на конечный результат, что способствует более тонкой настройке весов менее важных слов, которые без выключения более важных не смогли бы нормально обучиться\n",
        "\n",
        "После LSTM уже используем обычный dropout"
      ]
    },
    {
      "cell_type": "markdown",
      "metadata": {
        "id": "vRcerH--qzuO",
        "colab_type": "text"
      },
      "source": [
        "По каким-то странным обстоятельствам в керас не было макро f1 меры. Поэтому пишлось компилировать с precisiom и recall, а потом через них на графике выводить формулу f1 меры. Для оценки работы модели на тестовом множестве уже используется макро f1 мера из sklearn"
      ]
    },
    {
      "cell_type": "code",
      "metadata": {
        "id": "iPdScrQPkNjW",
        "colab_type": "code",
        "colab": {
          "base_uri": "https://localhost:8080/",
          "height": 196
        },
        "outputId": "b666a561-7aed-45a2-f930-923d033f256f"
      },
      "source": [
        "from tensorflow.keras.layers import SpatialDropout1D\n",
        "model = Sequential()\n",
        "model.add(Embedding(NUM, 64, input_length=max_twit_len))\n",
        "model.add(SpatialDropout1D(0.5))\n",
        "model.add(LSTM(128))\n",
        "model.add(Dropout(0.3))\n",
        "model.add(Dense(1, activation='sigmoid'))\n",
        "\n",
        "model.compile(optimizer='adam', \n",
        "              loss='binary_crossentropy', \n",
        "              metrics=['Precision', 'Recall'])\n",
        "\n",
        "history = model.fit(x_train, \n",
        "                    y_train, \n",
        "                    epochs=3,\n",
        "                    batch_size=128,\n",
        "                    validation_split=0.1)     "
      ],
      "execution_count": 9,
      "outputs": [
        {
          "output_type": "stream",
          "text": [
            "Epoch 1/3\n",
            "WARNING:tensorflow:From /usr/local/lib/python3.6/dist-packages/tensorflow/python/ops/resource_variable_ops.py:1817: calling BaseResourceVariable.__init__ (from tensorflow.python.ops.resource_variable_ops) with constraint is deprecated and will be removed in a future version.\n",
            "Instructions for updating:\n",
            "If using Keras pass *_constraint arguments to layers.\n",
            "1276/1276 [==============================] - 144s 113ms/step - loss: 0.5020 - precision: 0.7556 - recall: 0.7393 - val_loss: 0.4679 - val_precision: 0.7573 - val_recall: 0.8063\n",
            "Epoch 2/3\n",
            "1276/1276 [==============================] - 144s 112ms/step - loss: 0.4229 - precision: 0.8095 - recall: 0.7971 - val_loss: 0.4611 - val_precision: 0.7952 - val_recall: 0.7487\n",
            "Epoch 3/3\n",
            "1276/1276 [==============================] - 148s 116ms/step - loss: 0.3836 - precision: 0.8311 - recall: 0.8190 - val_loss: 0.4797 - val_precision: 0.8083 - val_recall: 0.7265\n"
          ],
          "name": "stdout"
        }
      ]
    },
    {
      "cell_type": "code",
      "metadata": {
        "id": "GbWf_hQEmk1E",
        "colab_type": "code",
        "colab": {
          "base_uri": "https://localhost:8080/",
          "height": 278
        },
        "outputId": "594b9c84-2184-495d-c8db-e3b2a42d5d55"
      },
      "source": [
        "f1=2*(np.array(history.history['precision'])*np.array(history.history['recall']))/(np.array(history.history['precision'])+np.array(history.history['recall']))\n",
        "f1_val=2*(np.array(history.history['val_precision'])*np.array(history.history['recall']))/(np.array(history.history['val_precision'])+np.array(history.history['recall']))\n",
        "\n",
        "plt.plot(f1, label='macro F1 score на обучающем наборе')\n",
        "plt.plot(f1_val, label='macro F1 score на проверочном наборе')\n",
        "plt.xlabel('Эпоха обучения')\n",
        "plt.ylabel('macro F1 score')\n",
        "plt.legend()\n",
        "plt.show()"
      ],
      "execution_count": 10,
      "outputs": [
        {
          "output_type": "display_data",
          "data": {
            "image/png": "[encoded data removed]",
            "text/plain": [
              "<Figure size 432x288 with 1 Axes>"
            ]
          },
          "metadata": {
            "tags": [],
            "needs_background": "light"
          }
        }
      ]
    },
    {
      "cell_type": "code",
      "metadata": {
        "id": "L43BSNd9mkCX",
        "colab_type": "code",
        "colab": {
          "base_uri": "https://localhost:8080/",
          "height": 34
        },
        "outputId": "d3fe8001-a54d-4521-8669-7f21b1ed4b74"
      },
      "source": [
        "from sklearn.metrics import f1_score\n",
        "pred=model.predict(x_test)\n",
        "result=np.zeros(y_test.size)\n",
        "for i in range(y_test.size):\n",
        "  if (float(pred[i]) > 0.5):\n",
        "    result[i]=1\n",
        "  else:\n",
        "    result[i]=0\n",
        "f1_score(y_test, result, average='macro')"
      ],
      "execution_count": 11,
      "outputs": [
        {
          "output_type": "execute_result",
          "data": {
            "text/plain": [
              "0.7784566271482934"
            ]
          },
          "metadata": {
            "tags": []
          },
          "execution_count": 11
        }
      ]
    },
    {
      "cell_type": "markdown",
      "metadata": {
        "id": "kVxoP-MF4FDx",
        "colab_type": "text"
      },
      "source": [
        "В принципе, 3 эпох хватило, но можно проверить начнется ли после 3 переобучение"
      ]
    },
    {
      "cell_type": "code",
      "metadata": {
        "id": "9WA9yMCB0iz3",
        "colab_type": "code",
        "colab": {
          "base_uri": "https://localhost:8080/",
          "height": 158
        },
        "outputId": "ffa01711-65ce-4634-e4c2-e33e44d7a804"
      },
      "source": [
        "from tensorflow.keras.layers import SpatialDropout1D\n",
        "model = Sequential()\n",
        "model.add(Embedding(NUM, 64, input_length=max_twit_len))\n",
        "model.add(SpatialDropout1D(0.5))\n",
        "model.add(LSTM(128))\n",
        "model.add(Dropout(0.3))\n",
        "model.add(Dense(1, activation='sigmoid'))\n",
        "\n",
        "model.compile(optimizer='adam', \n",
        "              loss='binary_crossentropy', \n",
        "              metrics=['Precision', 'Recall'])\n",
        "\n",
        "history = model.fit(x_train, \n",
        "                    y_train, \n",
        "                    epochs=4,\n",
        "                    batch_size=128,\n",
        "                    validation_split=0.1)     "
      ],
      "execution_count": 15,
      "outputs": [
        {
          "output_type": "stream",
          "text": [
            "Epoch 1/4\n",
            "1276/1276 [==============================] - 154s 121ms/step - loss: 0.5017 - precision: 0.7500 - recall: 0.7464 - val_loss: 0.4724 - val_precision: 0.7934 - val_recall: 0.7219\n",
            "Epoch 2/4\n",
            "1276/1276 [==============================] - 146s 114ms/step - loss: 0.4246 - precision: 0.8080 - recall: 0.7936 - val_loss: 0.4667 - val_precision: 0.8030 - val_recall: 0.7316\n",
            "Epoch 3/4\n",
            "1276/1276 [==============================] - 142s 111ms/step - loss: 0.3856 - precision: 0.8312 - recall: 0.8163 - val_loss: 0.4634 - val_precision: 0.7740 - val_recall: 0.7940\n",
            "Epoch 4/4\n",
            "1276/1276 [==============================] - 146s 115ms/step - loss: 0.3532 - precision: 0.8476 - recall: 0.8339 - val_loss: 0.4824 - val_precision: 0.7957 - val_recall: 0.7511\n"
          ],
          "name": "stdout"
        }
      ]
    },
    {
      "cell_type": "markdown",
      "metadata": {
        "id": "yu_9QQon4emV",
        "colab_type": "text"
      },
      "source": [
        "Макро F1 мера слегка ухудшилась, так что скорее всего дальнейшее обучение не имеет смысла"
      ]
    },
    {
      "cell_type": "code",
      "metadata": {
        "id": "23nyKfNw0mry",
        "colab_type": "code",
        "colab": {
          "base_uri": "https://localhost:8080/",
          "height": 34
        },
        "outputId": "ce1d1be4-8a2e-4ed9-af68-3d73a051ddaa"
      },
      "source": [
        "from sklearn.metrics import f1_score\n",
        "pred=model.predict(x_test)\n",
        "result=np.zeros(y_test.size)\n",
        "for i in range(y_test.size):\n",
        "  if (float(pred[i]) > 0.5):\n",
        "    result[i]=1\n",
        "  else:\n",
        "    result[i]=0\n",
        "f1_score(y_test, result, average='macro')"
      ],
      "execution_count": 16,
      "outputs": [
        {
          "output_type": "execute_result",
          "data": {
            "text/plain": [
              "0.7784078923738446"
            ]
          },
          "metadata": {
            "tags": []
          },
          "execution_count": 16
        }
      ]
    },
    {
      "cell_type": "markdown",
      "metadata": {
        "id": "fL5goJlh4qeY",
        "colab_type": "text"
      },
      "source": [
        "Dropout не всегда помогает, поэтому попробуем его убрать и посмотреть как изменится метика качества"
      ]
    },
    {
      "cell_type": "code",
      "metadata": {
        "id": "PUOkuS2_vNp1",
        "colab_type": "code",
        "colab": {
          "base_uri": "https://localhost:8080/",
          "height": 123
        },
        "outputId": "1f838462-313a-4e82-be50-e7c3c8debd4b"
      },
      "source": [
        "from tensorflow.keras.layers import SpatialDropout1D\n",
        "model = Sequential()\n",
        "model.add(Embedding(NUM, 64, input_length=max_twit_len))\n",
        "model.add(SpatialDropout1D(0.5))\n",
        "model.add(LSTM(128))\n",
        "#model.add(Dropout(0.3))\n",
        "model.add(Dense(1, activation='sigmoid'))\n",
        "\n",
        "model.compile(optimizer='adam', \n",
        "              loss='binary_crossentropy', \n",
        "              metrics=['Precision', 'Recall'])\n",
        "\n",
        "history = model.fit(x_train, \n",
        "                    y_train, \n",
        "                    epochs=3,\n",
        "                    batch_size=128,\n",
        "                    validation_split=0.1)     "
      ],
      "execution_count": 18,
      "outputs": [
        {
          "output_type": "stream",
          "text": [
            "Epoch 1/3\n",
            "1276/1276 [==============================] - 144s 113ms/step - loss: 0.5003 - precision: 0.7512 - recall: 0.7491 - val_loss: 0.4682 - val_precision: 0.7924 - val_recall: 0.7314\n",
            "Epoch 2/3\n",
            "1276/1276 [==============================] - 142s 111ms/step - loss: 0.4208 - precision: 0.8095 - recall: 0.7966 - val_loss: 0.4662 - val_precision: 0.7527 - val_recall: 0.8250\n",
            "Epoch 3/3\n",
            "1276/1276 [==============================] - 142s 111ms/step - loss: 0.3823 - precision: 0.8305 - recall: 0.8193 - val_loss: 0.4652 - val_precision: 0.7865 - val_recall: 0.7796\n"
          ],
          "name": "stdout"
        }
      ]
    },
    {
      "cell_type": "code",
      "metadata": {
        "id": "DkgcCZ2uvRl6",
        "colab_type": "code",
        "colab": {
          "base_uri": "https://localhost:8080/",
          "height": 278
        },
        "outputId": "c4a77f61-5e76-4d64-f6a9-6810d31e8949"
      },
      "source": [
        "f1=2*(np.array(history.history['precision'])*np.array(history.history['recall']))/(np.array(history.history['precision'])+np.array(history.history['recall']))\n",
        "f1_val=2*(np.array(history.history['val_precision'])*np.array(history.history['recall']))/(np.array(history.history['val_precision'])+np.array(history.history['recall']))\n",
        "\n",
        "plt.plot(f1, label='macro F1 score на обучающем наборе')\n",
        "plt.plot(f1_val, label='macro F1 score на проверочном наборе')\n",
        "plt.xlabel('Эпоха обучения')\n",
        "plt.ylabel('macro F1 score')\n",
        "plt.legend()\n",
        "plt.show()"
      ],
      "execution_count": 19,
      "outputs": [
        {
          "output_type": "display_data",
          "data": {
            "image/png": "[encoded data removed]",
            "text/plain": [
              "<Figure size 432x288 with 1 Axes>"
            ]
          },
          "metadata": {
            "tags": [],
            "needs_background": "light"
          }
        }
      ]
    },
    {
      "cell_type": "code",
      "metadata": {
        "id": "SbPElfs1vT_T",
        "colab_type": "code",
        "colab": {
          "base_uri": "https://localhost:8080/",
          "height": 34
        },
        "outputId": "6f1c8f85-273f-40a4-a47b-b57df48231da"
      },
      "source": [
        "from sklearn.metrics import f1_score\n",
        "pred=model.predict(x_test)\n",
        "result=np.zeros(y_test.size)\n",
        "for i in range(y_test.size):\n",
        "  if (float(pred[i]) > 0.5):\n",
        "    result[i]=1\n",
        "  else:\n",
        "    result[i]=0\n",
        "f1_score(y_test, result, average='macro')"
      ],
      "execution_count": 20,
      "outputs": [
        {
          "output_type": "execute_result",
          "data": {
            "text/plain": [
              "0.7802418079294157"
            ]
          },
          "metadata": {
            "tags": []
          },
          "execution_count": 20
        }
      ]
    },
    {
      "cell_type": "markdown",
      "metadata": {
        "id": "RmN1jkqA42Tl",
        "colab_type": "text"
      },
      "source": [
        "Метика улучшилась, видимо втоой dropout был лишним"
      ]
    },
    {
      "cell_type": "markdown",
      "metadata": {
        "id": "z5eBnCsiH5Lo",
        "colab_type": "text"
      },
      "source": [
        "# Embedding без предварительного обучения + одномерная CNN"
      ]
    },
    {
      "cell_type": "markdown",
      "metadata": {
        "id": "JncINfrD5eDr",
        "colab_type": "text"
      },
      "source": [
        "Сверточные нейронные сети тоже могут учитывать контекст, но не так сильно, в "
      ]
    },
    {
      "cell_type": "code",
      "metadata": {
        "id": "VQ52mqwmIAm-",
        "colab_type": "code",
        "colab": {
          "base_uri": "https://localhost:8080/",
          "height": 158
        },
        "outputId": "33d4c613-f5ab-4c19-c7d2-118f981c400f"
      },
      "source": [
        "model = Sequential()\n",
        "model.add(Embedding(NUM, 64, input_length=max_twit_len))\n",
        "model.add(Conv1D(350, 3, padding='valid', activation='relu'))\n",
        "model.add(GlobalMaxPooling1D())\n",
        "model.add(Dense(128, activation='relu'))\n",
        "model.add(Dropout(0.3))\n",
        "model.add(Dense(1, activation='sigmoid'))\n",
        "\n",
        "model.compile(optimizer='adam', \n",
        "              loss='binary_crossentropy', \n",
        "              metrics=['Precision', 'Recall'])\n",
        "\n",
        "history = model.fit(x_train, \n",
        "                    y_train, \n",
        "                    epochs=4,\n",
        "                    batch_size=128,\n",
        "                    validation_split=0.1)  "
      ],
      "execution_count": 23,
      "outputs": [
        {
          "output_type": "stream",
          "text": [
            "Epoch 1/4\n",
            "1276/1276 [==============================] - 81s 63ms/step - loss: 0.4864 - precision: 0.7604 - recall: 0.7536 - val_loss: 0.4513 - val_precision: 0.7898 - val_recall: 0.7701\n",
            "Epoch 2/4\n",
            "1276/1276 [==============================] - 82s 64ms/step - loss: 0.3632 - precision: 0.8418 - recall: 0.8333 - val_loss: 0.4570 - val_precision: 0.7943 - val_recall: 0.7835\n",
            "Epoch 3/4\n",
            "1276/1276 [==============================] - 84s 66ms/step - loss: 0.2443 - precision: 0.9043 - recall: 0.8945 - val_loss: 0.5462 - val_precision: 0.7824 - val_recall: 0.7742\n",
            "Epoch 4/4\n",
            "1276/1276 [==============================] - 84s 66ms/step - loss: 0.1459 - precision: 0.9460 - recall: 0.9392 - val_loss: 0.6581 - val_precision: 0.7544 - val_recall: 0.8113\n"
          ],
          "name": "stdout"
        }
      ]
    },
    {
      "cell_type": "markdown",
      "metadata": {
        "id": "Vv3ep7_2-GS1",
        "colab_type": "text"
      },
      "source": [
        "val loss после 2 эпохи начинает расти соответсвенно модель переобучается"
      ]
    },
    {
      "cell_type": "code",
      "metadata": {
        "id": "0L2x29qfItCo",
        "colab_type": "code",
        "colab": {
          "base_uri": "https://localhost:8080/",
          "height": 281
        },
        "outputId": "e9d6e5f6-ad53-4c2d-de6f-43d9bf3fdbf8"
      },
      "source": [
        "f1=2*(np.array(history.history['precision'])*np.array(history.history['recall']))/(np.array(history.history['precision'])+np.array(history.history['recall']))\n",
        "f1_val=2*(np.array(history.history['val_precision'])*np.array(history.history['recall']))/(np.array(history.history['val_precision'])+np.array(history.history['recall']))\n",
        "\n",
        "plt.plot(f1, label='macro F1 score на обучающем наборе')\n",
        "plt.plot(f1_val, label='macro F1 score на проверочном наборе')\n",
        "plt.xlabel('Эпоха обучения')\n",
        "plt.ylabel('macro F1 score')\n",
        "plt.legend()\n",
        "plt.show()"
      ],
      "execution_count": 24,
      "outputs": [
        {
          "output_type": "display_data",
          "data": {
            "image/png": "[encoded data removed]",
            "text/plain": [
              "<Figure size 432x288 with 1 Axes>"
            ]
          },
          "metadata": {
            "tags": [],
            "needs_background": "light"
          }
        }
      ]
    },
    {
      "cell_type": "code",
      "metadata": {
        "id": "71VzYprfIs-H",
        "colab_type": "code",
        "colab": {
          "base_uri": "https://localhost:8080/",
          "height": 34
        },
        "outputId": "a0e3de8c-eb5f-49ee-a273-5a97b270896c"
      },
      "source": [
        "from sklearn.metrics import f1_score\n",
        "pred=model.predict(x_test)\n",
        "result=np.zeros(y_test.size)\n",
        "for i in range(y_test.size):\n",
        "  if (float(pred[i]) > 0.5):\n",
        "    result[i]=1\n",
        "  else:\n",
        "    result[i]=0\n",
        "f1_score(y_test, result, average='macro')"
      ],
      "execution_count": 25,
      "outputs": [
        {
          "output_type": "execute_result",
          "data": {
            "text/plain": [
              "0.7700721239345203"
            ]
          },
          "metadata": {
            "tags": []
          },
          "execution_count": 25
        }
      ]
    },
    {
      "cell_type": "code",
      "metadata": {
        "id": "Vw10Vavn-P4e",
        "colab_type": "code",
        "colab": {
          "base_uri": "https://localhost:8080/",
          "height": 87
        },
        "outputId": "c00485ac-e18c-4dc1-cbc7-b2c157823677"
      },
      "source": [
        "model = Sequential()\n",
        "model.add(Embedding(NUM, 64, input_length=max_twit_len))\n",
        "model.add(Conv1D(350, 3, padding='valid', activation='relu'))\n",
        "model.add(GlobalMaxPooling1D())\n",
        "model.add(Dense(128, activation='relu'))\n",
        "model.add(Dropout(0.3))\n",
        "model.add(Dense(1, activation='sigmoid'))\n",
        "\n",
        "model.compile(optimizer='adam', \n",
        "              loss='binary_crossentropy', \n",
        "              metrics=['Precision', 'Recall'])\n",
        "\n",
        "history = model.fit(x_train, \n",
        "                    y_train, \n",
        "                    epochs=2,\n",
        "                    batch_size=128,\n",
        "                    validation_split=0.1)  "
      ],
      "execution_count": 29,
      "outputs": [
        {
          "output_type": "stream",
          "text": [
            "Epoch 1/2\n",
            "1276/1276 [==============================] - 81s 64ms/step - loss: 0.4850 - precision: 0.7618 - recall: 0.7567 - val_loss: 0.4538 - val_precision: 0.7591 - val_recall: 0.8189\n",
            "Epoch 2/2\n",
            "1276/1276 [==============================] - 81s 64ms/step - loss: 0.3594 - precision: 0.8460 - recall: 0.8357 - val_loss: 0.4585 - val_precision: 0.7569 - val_recall: 0.8373\n"
          ],
          "name": "stdout"
        }
      ]
    },
    {
      "cell_type": "code",
      "metadata": {
        "id": "72OP5BmU-Txe",
        "colab_type": "code",
        "colab": {
          "base_uri": "https://localhost:8080/",
          "height": 278
        },
        "outputId": "6383d6e9-fd8a-4211-da01-c5196a8eab0c"
      },
      "source": [
        "f1=2*(np.array(history.history['precision'])*np.array(history.history['recall']))/(np.array(history.history['precision'])+np.array(history.history['recall']))\n",
        "f1_val=2*(np.array(history.history['val_precision'])*np.array(history.history['recall']))/(np.array(history.history['val_precision'])+np.array(history.history['recall']))\n",
        "\n",
        "plt.plot(f1, label='macro F1 score на обучающем наборе')\n",
        "plt.plot(f1_val, label='macro F1 score на проверочном наборе')\n",
        "plt.xlabel('Эпоха обучения')\n",
        "plt.ylabel('macro F1 score')\n",
        "plt.legend()\n",
        "plt.show()"
      ],
      "execution_count": 30,
      "outputs": [
        {
          "output_type": "display_data",
          "data": {
            "image/png": "[encoded data removed]",
            "text/plain": [
              "<Figure size 432x288 with 1 Axes>"
            ]
          },
          "metadata": {
            "tags": [],
            "needs_background": "light"
          }
        }
      ]
    },
    {
      "cell_type": "code",
      "metadata": {
        "id": "XccPqKY0-X1O",
        "colab_type": "code",
        "colab": {
          "base_uri": "https://localhost:8080/",
          "height": 34
        },
        "outputId": "81e0ae27-90ed-48ac-8ba2-5dbe0943877c"
      },
      "source": [
        "from sklearn.metrics import f1_score\n",
        "pred=model.predict(x_test)\n",
        "result=np.zeros(y_test.size)\n",
        "for i in range(y_test.size):\n",
        "  if (float(pred[i]) > 0.5):\n",
        "    result[i]=1\n",
        "  else:\n",
        "    result[i]=0\n",
        "f1_score(y_test, result, average='macro')"
      ],
      "execution_count": 31,
      "outputs": [
        {
          "output_type": "execute_result",
          "data": {
            "text/plain": [
              "0.7851555699785268"
            ]
          },
          "metadata": {
            "tags": []
          },
          "execution_count": 31
        }
      ]
    },
    {
      "cell_type": "markdown",
      "metadata": {
        "id": "7KLMl5HhA1UJ",
        "colab_type": "text"
      },
      "source": [
        "Получилось достигнуть неплохого резуьтата, тепеь попробуем увеличить размер окна свертки"
      ]
    },
    {
      "cell_type": "code",
      "metadata": {
        "id": "87o9WLHZ784M",
        "colab_type": "code",
        "colab": {
          "base_uri": "https://localhost:8080/",
          "height": 87
        },
        "outputId": "4fc2ae20-fd57-422a-b6a8-a373642e3990"
      },
      "source": [
        "model = Sequential()\n",
        "model.add(Embedding(NUM, 64, input_length=max_twit_len))\n",
        "model.add(Conv1D(350, 5, padding='valid', activation='relu'))\n",
        "model.add(GlobalMaxPooling1D())\n",
        "model.add(Dense(128, activation='relu'))\n",
        "model.add(Dropout(0.3))\n",
        "model.add(Dense(1, activation='sigmoid'))\n",
        "\n",
        "model.compile(optimizer='adam', \n",
        "              loss='binary_crossentropy', \n",
        "              metrics=['Precision', 'Recall'])\n",
        "\n",
        "history = model.fit(x_train, \n",
        "                    y_train, \n",
        "                    epochs=2,\n",
        "                    batch_size=128,\n",
        "                    validation_split=0.1)  "
      ],
      "execution_count": 32,
      "outputs": [
        {
          "output_type": "stream",
          "text": [
            "Epoch 1/2\n",
            "1276/1276 [==============================] - 101s 79ms/step - loss: 0.4848 - precision: 0.7588 - recall: 0.7615 - val_loss: 0.4509 - val_precision: 0.7928 - val_recall: 0.7633\n",
            "Epoch 2/2\n",
            "1276/1276 [==============================] - 95s 75ms/step - loss: 0.3550 - precision: 0.8472 - recall: 0.8378 - val_loss: 0.4510 - val_precision: 0.7953 - val_recall: 0.7584\n"
          ],
          "name": "stdout"
        }
      ]
    },
    {
      "cell_type": "code",
      "metadata": {
        "id": "OYQEIzSn8HkC",
        "colab_type": "code",
        "colab": {
          "base_uri": "https://localhost:8080/",
          "height": 278
        },
        "outputId": "73b67382-fda5-469d-913f-45027e28f9df"
      },
      "source": [
        "f1=2*(np.array(history.history['precision'])*np.array(history.history['recall']))/(np.array(history.history['precision'])+np.array(history.history['recall']))\n",
        "f1_val=2*(np.array(history.history['val_precision'])*np.array(history.history['recall']))/(np.array(history.history['val_precision'])+np.array(history.history['recall']))\n",
        "\n",
        "plt.plot(f1, label='macro F1 score на обучающем наборе')\n",
        "plt.plot(f1_val, label='macro F1 score на проверочном наборе')\n",
        "plt.xlabel('Эпоха обучения')\n",
        "plt.ylabel('macro F1 score')\n",
        "plt.legend()\n",
        "plt.show()"
      ],
      "execution_count": 33,
      "outputs": [
        {
          "output_type": "display_data",
          "data": {
            "image/png": "[encoded data removed]",
            "text/plain": [
              "<Figure size 432x288 with 1 Axes>"
            ]
          },
          "metadata": {
            "tags": [],
            "needs_background": "light"
          }
        }
      ]
    },
    {
      "cell_type": "code",
      "metadata": {
        "id": "dauxobGo8JON",
        "colab_type": "code",
        "colab": {
          "base_uri": "https://localhost:8080/",
          "height": 34
        },
        "outputId": "e90cfc51-f36a-4f3f-dcc1-1ac5d781729f"
      },
      "source": [
        "from sklearn.metrics import f1_score\n",
        "pred=model.predict(x_test)\n",
        "result=np.zeros(y_test.size)\n",
        "for i in range(y_test.size):\n",
        "  if (float(pred[i]) > 0.5):\n",
        "    result[i]=1\n",
        "  else:\n",
        "    result[i]=0\n",
        "f1_score(y_test, result, average='macro')"
      ],
      "execution_count": 34,
      "outputs": [
        {
          "output_type": "execute_result",
          "data": {
            "text/plain": [
              "0.7828948244083297"
            ]
          },
          "metadata": {
            "tags": []
          },
          "execution_count": 34
        }
      ]
    },
    {
      "cell_type": "markdown",
      "metadata": {
        "id": "gc04TZ0TBCiV",
        "colab_type": "text"
      },
      "source": [
        "Тоже неплохой результат, но немного хуже"
      ]
    },
    {
      "cell_type": "markdown",
      "metadata": {
        "id": "yOR5nIVD2T21",
        "colab_type": "text"
      },
      "source": [
        "# w2v"
      ]
    },
    {
      "cell_type": "markdown",
      "metadata": {
        "id": "Od3RyZJdju1l",
        "colab_type": "text"
      },
      "source": [
        "Теперь попробуем обучить языковую модель. \n",
        "\n",
        "Для справки, я этого раньше не делал, поэтому скорее всего что-то делаю не так, результат не очень вышел."
      ]
    },
    {
      "cell_type": "code",
      "metadata": {
        "id": "9dNCSB3U2vDk",
        "colab_type": "code",
        "colab": {}
      },
      "source": [
        "with open('tweets.txt', 'w', encoding='utf-8') as f:\n",
        "  for tweet in df['preprocess_text']:\n",
        "     print(tweet, file=f)"
      ],
      "execution_count": 148,
      "outputs": []
    },
    {
      "cell_type": "code",
      "metadata": {
        "id": "7zYCJhUA2Xdr",
        "colab_type": "code",
        "colab": {
          "base_uri": "https://localhost:8080/",
          "height": 1000
        },
        "outputId": "f5b21e86-b147-4a28-e572-98d57f499062"
      },
      "source": [
        "import logging\n",
        "import multiprocessing\n",
        "import gensim\n",
        "from gensim.models import Word2Vec\n",
        "\n",
        "logging.basicConfig(format='%(asctime)s : %(levelname)s : %(message)s', level=logging.INFO)\n",
        "# Считываем файл с предобработанными твитами\n",
        "data = gensim.models.word2vec.LineSentence('tweets.txt')\n",
        "# Обучаем модель \n",
        "model = Word2Vec(data, size=200, window=5, min_count=3, workers=multiprocessing.cpu_count())\n",
        "model.save(\"model.w2v\")"
      ],
      "execution_count": 149,
      "outputs": [
        {
          "output_type": "stream",
          "text": [
            "2020-07-07 09:31:20,114 : INFO : collecting all words and their counts\n",
            "/usr/local/lib/python3.6/dist-packages/smart_open/smart_open_lib.py:253: UserWarning: This function is deprecated, use smart_open.open instead. See the migration notes for details: https://github.com/RaRe-Technologies/smart_open/blob/master/README.rst#migrating-to-the-new-open-function\n",
            "  'See the migration notes for details: %s' % _MIGRATION_NOTES_URL\n",
            "2020-07-07 09:31:20,119 : INFO : PROGRESS: at sentence #0, processed 0 words, keeping 0 word types\n",
            "2020-07-07 09:31:20,201 : INFO : PROGRESS: at sentence #10000, processed 123179 words, keeping 15941 word types\n",
            "2020-07-07 09:31:20,281 : INFO : PROGRESS: at sentence #20000, processed 246984 words, keeping 24618 word types\n",
            "2020-07-07 09:31:20,365 : INFO : PROGRESS: at sentence #30000, processed 370959 words, keeping 31562 word types\n",
            "2020-07-07 09:31:20,447 : INFO : PROGRESS: at sentence #40000, processed 495671 words, keeping 37584 word types\n",
            "2020-07-07 09:31:20,525 : INFO : PROGRESS: at sentence #50000, processed 619646 words, keeping 42950 word types\n",
            "2020-07-07 09:31:20,605 : INFO : PROGRESS: at sentence #60000, processed 744088 words, keeping 47987 word types\n",
            "2020-07-07 09:31:20,686 : INFO : PROGRESS: at sentence #70000, processed 867877 words, keeping 52668 word types\n",
            "2020-07-07 09:31:20,765 : INFO : PROGRESS: at sentence #80000, processed 991239 words, keeping 56984 word types\n",
            "2020-07-07 09:31:20,843 : INFO : PROGRESS: at sentence #90000, processed 1115239 words, keeping 61151 word types\n",
            "2020-07-07 09:31:20,920 : INFO : PROGRESS: at sentence #100000, processed 1238764 words, keeping 65032 word types\n",
            "2020-07-07 09:31:21,000 : INFO : PROGRESS: at sentence #110000, processed 1362467 words, keeping 68845 word types\n",
            "2020-07-07 09:31:21,087 : INFO : PROGRESS: at sentence #120000, processed 1485872 words, keeping 72323 word types\n",
            "2020-07-07 09:31:21,176 : INFO : PROGRESS: at sentence #130000, processed 1610209 words, keeping 75851 word types\n",
            "2020-07-07 09:31:21,252 : INFO : PROGRESS: at sentence #140000, processed 1733649 words, keeping 79148 word types\n",
            "2020-07-07 09:31:21,328 : INFO : PROGRESS: at sentence #150000, processed 1856973 words, keeping 82365 word types\n",
            "2020-07-07 09:31:21,405 : INFO : PROGRESS: at sentence #160000, processed 1980416 words, keeping 85431 word types\n",
            "2020-07-07 09:31:21,484 : INFO : PROGRESS: at sentence #170000, processed 2104487 words, keeping 88498 word types\n",
            "2020-07-07 09:31:21,568 : INFO : PROGRESS: at sentence #180000, processed 2228797 words, keeping 91550 word types\n",
            "2020-07-07 09:31:21,645 : INFO : PROGRESS: at sentence #190000, processed 2352637 words, keeping 94501 word types\n",
            "2020-07-07 09:31:21,725 : INFO : PROGRESS: at sentence #200000, processed 2477308 words, keeping 97373 word types\n",
            "2020-07-07 09:31:21,808 : INFO : PROGRESS: at sentence #210000, processed 2601347 words, keeping 100047 word types\n",
            "2020-07-07 09:31:21,883 : INFO : PROGRESS: at sentence #220000, processed 2725656 words, keeping 102662 word types\n",
            "2020-07-07 09:31:21,936 : INFO : collected 104488 word types from a corpus of 2809386 raw words and 226834 sentences\n",
            "2020-07-07 09:31:21,937 : INFO : Loading a fresh vocabulary\n",
            "2020-07-07 09:31:22,033 : INFO : effective_min_count=3 retains 31290 unique words (29% of original 104488, drops 73198)\n",
            "2020-07-07 09:31:22,034 : INFO : effective_min_count=3 leaves 2722967 word corpus (96% of original 2809386, drops 86419)\n",
            "2020-07-07 09:31:22,161 : INFO : deleting the raw counts dictionary of 104488 items\n",
            "2020-07-07 09:31:22,164 : INFO : sample=0.001 downsamples 51 most-common words\n",
            "2020-07-07 09:31:22,165 : INFO : downsampling leaves estimated 2029702 word corpus (74.5% of prior 2722967)\n",
            "2020-07-07 09:31:22,293 : INFO : estimated required memory for 31290 words and 200 dimensions: 65709000 bytes\n",
            "2020-07-07 09:31:22,294 : INFO : resetting layer weights\n",
            "2020-07-07 09:31:28,888 : INFO : training model with 2 workers on 31290 vocabulary and 200 features, using sg=0 hs=0 sample=0.001 negative=5 window=5\n",
            "2020-07-07 09:31:29,910 : INFO : EPOCH 1 - PROGRESS: at 14.60% examples, 291363 words/s, in_qsize 4, out_qsize 1\n",
            "2020-07-07 09:31:30,941 : INFO : EPOCH 1 - PROGRESS: at 29.49% examples, 292949 words/s, in_qsize 4, out_qsize 1\n",
            "2020-07-07 09:31:31,944 : INFO : EPOCH 1 - PROGRESS: at 44.45% examples, 295908 words/s, in_qsize 4, out_qsize 1\n",
            "2020-07-07 09:31:32,959 : INFO : EPOCH 1 - PROGRESS: at 59.05% examples, 294718 words/s, in_qsize 4, out_qsize 1\n",
            "2020-07-07 09:31:33,969 : INFO : EPOCH 1 - PROGRESS: at 74.38% examples, 297279 words/s, in_qsize 4, out_qsize 0\n",
            "2020-07-07 09:31:34,981 : INFO : EPOCH 1 - PROGRESS: at 88.21% examples, 294068 words/s, in_qsize 3, out_qsize 0\n",
            "2020-07-07 09:31:35,715 : INFO : worker thread finished; awaiting finish of 1 more threads\n",
            "2020-07-07 09:31:35,736 : INFO : worker thread finished; awaiting finish of 0 more threads\n",
            "2020-07-07 09:31:35,737 : INFO : EPOCH - 1 : training on 2809386 raw words (2029431 effective words) took 6.8s, 296514 effective words/s\n",
            "2020-07-07 09:31:36,797 : INFO : EPOCH 2 - PROGRESS: at 6.07% examples, 116652 words/s, in_qsize 4, out_qsize 1\n",
            "2020-07-07 09:31:37,818 : INFO : EPOCH 2 - PROGRESS: at 21.68% examples, 212591 words/s, in_qsize 3, out_qsize 0\n",
            "2020-07-07 09:31:38,828 : INFO : EPOCH 2 - PROGRESS: at 36.28% examples, 238856 words/s, in_qsize 3, out_qsize 0\n",
            "2020-07-07 09:31:39,846 : INFO : EPOCH 2 - PROGRESS: at 50.88% examples, 251720 words/s, in_qsize 3, out_qsize 0\n",
            "2020-07-07 09:31:40,847 : INFO : EPOCH 2 - PROGRESS: at 65.47% examples, 260317 words/s, in_qsize 3, out_qsize 0\n",
            "2020-07-07 09:31:41,863 : INFO : EPOCH 2 - PROGRESS: at 80.41% examples, 266680 words/s, in_qsize 3, out_qsize 0\n",
            "2020-07-07 09:31:42,870 : INFO : EPOCH 2 - PROGRESS: at 94.60% examples, 269566 words/s, in_qsize 4, out_qsize 0\n",
            "2020-07-07 09:31:43,185 : INFO : worker thread finished; awaiting finish of 1 more threads\n",
            "2020-07-07 09:31:43,195 : INFO : worker thread finished; awaiting finish of 0 more threads\n",
            "2020-07-07 09:31:43,197 : INFO : EPOCH - 2 : training on 2809386 raw words (2030282 effective words) took 7.5s, 272441 effective words/s\n",
            "2020-07-07 09:31:44,218 : INFO : EPOCH 3 - PROGRESS: at 14.24% examples, 284255 words/s, in_qsize 3, out_qsize 0\n",
            "2020-07-07 09:31:45,235 : INFO : EPOCH 3 - PROGRESS: at 28.08% examples, 280685 words/s, in_qsize 3, out_qsize 0\n",
            "2020-07-07 09:31:46,246 : INFO : EPOCH 3 - PROGRESS: at 43.04% examples, 286929 words/s, in_qsize 3, out_qsize 0\n",
            "2020-07-07 09:31:47,481 : INFO : EPOCH 3 - PROGRESS: at 56.56% examples, 268218 words/s, in_qsize 3, out_qsize 1\n",
            "2020-07-07 09:31:48,485 : INFO : EPOCH 3 - PROGRESS: at 71.53% examples, 274664 words/s, in_qsize 4, out_qsize 0\n",
            "2020-07-07 09:31:49,492 : INFO : EPOCH 3 - PROGRESS: at 85.73% examples, 276539 words/s, in_qsize 3, out_qsize 0\n",
            "2020-07-07 09:31:50,435 : INFO : worker thread finished; awaiting finish of 1 more threads\n",
            "2020-07-07 09:31:50,455 : INFO : worker thread finished; awaiting finish of 0 more threads\n",
            "2020-07-07 09:31:50,456 : INFO : EPOCH - 3 : training on 2809386 raw words (2028768 effective words) took 7.3s, 279734 effective words/s\n",
            "2020-07-07 09:31:51,479 : INFO : EPOCH 4 - PROGRESS: at 13.88% examples, 276562 words/s, in_qsize 3, out_qsize 0\n",
            "2020-07-07 09:31:52,489 : INFO : EPOCH 4 - PROGRESS: at 28.43% examples, 285000 words/s, in_qsize 3, out_qsize 0\n",
            "2020-07-07 09:31:53,508 : INFO : EPOCH 4 - PROGRESS: at 43.40% examples, 289090 words/s, in_qsize 3, out_qsize 0\n",
            "2020-07-07 09:31:54,524 : INFO : EPOCH 4 - PROGRESS: at 58.34% examples, 291459 words/s, in_qsize 4, out_qsize 0\n",
            "2020-07-07 09:31:55,555 : INFO : EPOCH 4 - PROGRESS: at 72.95% examples, 290591 words/s, in_qsize 3, out_qsize 0\n",
            "2020-07-07 09:31:56,578 : INFO : EPOCH 4 - PROGRESS: at 87.50% examples, 290377 words/s, in_qsize 3, out_qsize 0\n",
            "2020-07-07 09:31:57,399 : INFO : worker thread finished; awaiting finish of 1 more threads\n",
            "2020-07-07 09:31:57,423 : INFO : worker thread finished; awaiting finish of 0 more threads\n",
            "2020-07-07 09:31:57,424 : INFO : EPOCH - 4 : training on 2809386 raw words (2030031 effective words) took 7.0s, 291562 effective words/s\n",
            "2020-07-07 09:31:58,441 : INFO : EPOCH 5 - PROGRESS: at 10.00% examples, 199105 words/s, in_qsize 3, out_qsize 0\n",
            "2020-07-07 09:31:59,456 : INFO : EPOCH 5 - PROGRESS: at 25.23% examples, 252507 words/s, in_qsize 3, out_qsize 0\n",
            "2020-07-07 09:32:00,466 : INFO : EPOCH 5 - PROGRESS: at 40.54% examples, 270497 words/s, in_qsize 3, out_qsize 0\n",
            "2020-07-07 09:32:01,497 : INFO : EPOCH 5 - PROGRESS: at 55.85% examples, 278275 words/s, in_qsize 2, out_qsize 1\n",
            "2020-07-07 09:32:02,505 : INFO : EPOCH 5 - PROGRESS: at 70.82% examples, 282762 words/s, in_qsize 4, out_qsize 0\n",
            "2020-07-07 09:32:03,531 : INFO : EPOCH 5 - PROGRESS: at 85.73% examples, 284917 words/s, in_qsize 3, out_qsize 0\n",
            "2020-07-07 09:32:04,446 : INFO : worker thread finished; awaiting finish of 1 more threads\n",
            "2020-07-07 09:32:04,462 : INFO : worker thread finished; awaiting finish of 0 more threads\n",
            "2020-07-07 09:32:04,462 : INFO : EPOCH - 5 : training on 2809386 raw words (2029250 effective words) took 7.0s, 288410 effective words/s\n",
            "2020-07-07 09:32:04,467 : INFO : training on a 14046930 raw words (10147762 effective words) took 35.6s, 285226 effective words/s\n",
            "2020-07-07 09:32:04,468 : INFO : saving Word2Vec object under model.w2v, separately None\n",
            "2020-07-07 09:32:04,469 : INFO : not storing attribute vectors_norm\n",
            "2020-07-07 09:32:04,470 : INFO : not storing attribute cum_table\n",
            "2020-07-07 09:32:05,333 : INFO : saved model.w2v\n"
          ],
          "name": "stderr"
        }
      ]
    },
    {
      "cell_type": "code",
      "metadata": {
        "id": "2HbeE5UL4MSn",
        "colab_type": "code",
        "colab": {
          "base_uri": "https://localhost:8080/",
          "height": 90
        },
        "outputId": "5085c6b2-1a40-4105-e898-41126a067120"
      },
      "source": [
        "nb_words = min(NUM, len(tokenizer.word_index))\n",
        "embedding_matrix = np.zeros((nb_words, 200))\n",
        "\n",
        "i=0\n",
        "for word in tokenizer.word_index:\n",
        "    if i >= nb_words:\n",
        "        continue\n",
        "    embedding_vector=model[word]\n",
        "    if (embedding_vector is not None) and len(embedding_vector) > 0:\n",
        "        # words not found in embedding index will be all-zeros.\n",
        "        embedding_matrix[i] = embedding_vector\n",
        "    else:\n",
        "       words_not_found.append(word)\n",
        "    i=i+1\n",
        "print('number of null word embeddings: %d' % np.sum(np.sum(embedding_matrix, axis=1) == 0))"
      ],
      "execution_count": 151,
      "outputs": [
        {
          "output_type": "stream",
          "text": [
            "/usr/local/lib/python3.6/dist-packages/ipykernel_launcher.py:9: DeprecationWarning: Call to deprecated `__getitem__` (Method will be removed in 4.0.0, use self.wv.__getitem__() instead).\n",
            "  if __name__ == '__main__':\n"
          ],
          "name": "stderr"
        },
        {
          "output_type": "stream",
          "text": [
            "number of null word embeddings: 0\n"
          ],
          "name": "stdout"
        }
      ]
    },
    {
      "cell_type": "code",
      "metadata": {
        "id": "rvCgygCWHAK_",
        "colab_type": "code",
        "colab": {
          "base_uri": "https://localhost:8080/",
          "height": 905
        },
        "outputId": "1007c139-8053-40c4-91e6-2d6202188366"
      },
      "source": [
        "embedding_matrix[0]"
      ],
      "execution_count": 152,
      "outputs": [
        {
          "output_type": "execute_result",
          "data": {
            "text/plain": [
              "array([-4.12300557e-01, -4.90435004e-01, -7.05985010e-01, -7.44246244e-01,\n",
              "       -1.20101130e+00,  2.81018138e-01, -4.62098479e-01,  6.29700541e-01,\n",
              "        1.22672744e-01,  5.40628545e-02, -5.77204466e-01, -1.36475563e+00,\n",
              "        5.41002452e-01, -3.44653606e-01, -5.82835317e-01,  2.81862356e-02,\n",
              "       -8.48452270e-01,  2.31452193e-02, -3.93359095e-01, -8.15561354e-01,\n",
              "        1.05555028e-01,  1.70883182e-02, -9.65945661e-01, -7.26729512e-01,\n",
              "        1.92864180e-01,  2.55960286e-01, -3.48819882e-01,  5.05519450e-01,\n",
              "       -3.77087653e-01,  1.57797098e-01,  3.51348460e-01,  1.18803009e-01,\n",
              "        1.02586031e+00,  3.17667395e-01,  7.19393492e-01, -8.59722570e-02,\n",
              "       -6.46227360e-01,  6.40235543e-01, -3.40976298e-01, -7.06190348e-01,\n",
              "       -1.81207061e-01,  7.48245239e-01, -9.12794620e-02, -6.81485653e-01,\n",
              "       -1.03150845e+00,  2.64549583e-01, -8.43726322e-02,  6.15109317e-02,\n",
              "       -1.49453551e-01,  2.54418969e-01, -4.84452665e-01,  7.24340916e-01,\n",
              "        7.28854313e-02, -3.65041554e-01,  1.94783926e-01,  1.12410760e+00,\n",
              "       -6.50554597e-01,  1.71819165e-01, -5.74728727e-01,  4.25343126e-01,\n",
              "        7.43094146e-01, -1.24854617e-01, -7.02772021e-01, -5.58465600e-01,\n",
              "       -1.58816233e-01,  1.93671539e-01,  1.58907950e-01, -1.63729951e-01,\n",
              "       -7.05884695e-02,  3.24090779e-01,  8.66294503e-02,  1.10032342e-01,\n",
              "        2.61462808e-01,  6.18276298e-01, -1.56155363e-01,  6.99524954e-02,\n",
              "       -4.74561900e-01,  1.40112698e-01,  6.46287739e-01, -1.10269621e-01,\n",
              "        5.60073972e-01, -3.08476180e-01,  5.90943873e-01,  5.31388223e-01,\n",
              "        1.21447846e-01,  9.66250524e-02, -3.02554369e-01, -6.89412653e-01,\n",
              "       -1.20663084e-01, -5.10942996e-01,  1.10692292e-01, -2.35436514e-01,\n",
              "        2.43851736e-01, -2.06430316e-01,  2.66456902e-01, -5.01190543e-01,\n",
              "       -6.48881853e-01,  4.67589408e-01, -5.83330154e-01, -5.37580431e-01,\n",
              "       -9.98541117e-02,  2.16337889e-01,  2.24585071e-01,  1.32453777e-02,\n",
              "       -4.23616737e-01, -3.15411389e-01,  3.07199925e-01, -3.47652793e-01,\n",
              "        5.93255341e-01,  4.21479583e-01, -7.36079574e-01,  8.39617789e-01,\n",
              "       -1.40731305e-01,  5.72896078e-02,  5.35489023e-01,  1.15627227e-02,\n",
              "       -6.14102364e-01, -4.67385769e-01, -7.44950056e-01, -2.96113193e-01,\n",
              "       -3.21661055e-01, -7.96606839e-01, -1.26576751e-01, -6.68673515e-01,\n",
              "        5.08993685e-01, -3.54122892e-02,  6.27671242e-01,  9.46267366e-01,\n",
              "       -2.55085707e-01,  3.96443754e-01,  2.30983317e-01, -3.19017470e-01,\n",
              "       -3.37440699e-01,  8.60473990e-01,  1.08878505e+00, -2.23999191e-02,\n",
              "        1.86928391e-01, -2.28750795e-01, -3.27650160e-01, -5.72145760e-01,\n",
              "        3.52762014e-01, -5.36096878e-02,  6.43928349e-01,  2.62374490e-01,\n",
              "        6.87994733e-02,  1.21667099e+00, -3.85580510e-02, -4.19464856e-01,\n",
              "        1.33285567e-01, -2.98338503e-01,  9.71103180e-03,  2.05859765e-01,\n",
              "       -6.07052684e-01,  2.16323629e-01, -8.07992041e-01,  6.95205450e-01,\n",
              "       -5.89170575e-01,  2.38520458e-01, -3.73105258e-01, -4.70311671e-01,\n",
              "        5.57581596e-02, -6.89572245e-02,  2.54558623e-01,  7.13353697e-03,\n",
              "       -2.41144136e-01, -5.09468436e-01,  1.66008979e-01, -2.03428805e-01,\n",
              "       -8.41020197e-02, -5.12095511e-01,  3.85367930e-01, -7.12804198e-02,\n",
              "       -4.37284768e-01, -6.31491721e-01,  8.44729468e-02,  9.71290981e-04,\n",
              "       -5.16232133e-01, -3.89262855e-01, -2.84446090e-01,  1.88508421e-01,\n",
              "       -7.58424282e-01,  1.32760823e-01,  6.23977840e-01, -1.23959236e-01,\n",
              "       -6.96973562e-01,  3.63956034e-01, -5.11201322e-01, -5.35268188e-01,\n",
              "        4.64475155e-01,  7.11865842e-01,  1.01603270e-01,  3.49574000e-01,\n",
              "       -3.35389555e-01,  1.65945828e-01, -1.89293340e-01,  3.67970884e-01,\n",
              "        1.18459977e-01,  1.72669411e-01, -3.16944152e-01,  1.57482609e-01])"
            ]
          },
          "metadata": {
            "tags": []
          },
          "execution_count": 152
        }
      ]
    },
    {
      "cell_type": "code",
      "metadata": {
        "id": "TRYMqYrT32hB",
        "colab_type": "code",
        "colab": {
          "base_uri": "https://localhost:8080/",
          "height": 158
        },
        "outputId": "74aa73b7-92ef-4bc2-89e7-481be9518e77"
      },
      "source": [
        "model = Sequential()\n",
        "model.add(Embedding(len(embedding_matrix), len(embedding_matrix[0]),\n",
        "          weights=[embedding_matrix], input_length=max_twit_len, trainable=False))\n",
        "model.add(LSTM(128))\n",
        "model.add(Dense(1, activation='sigmoid'))\n",
        "\n",
        "model.compile(optimizer='adam', \n",
        "              loss='binary_crossentropy', \n",
        "              metrics=['Precision', 'Recall']) \n",
        " \n",
        "\n",
        "history = model.fit(x_train, \n",
        "                    y_train, \n",
        "                    epochs=4,\n",
        "                    batch_size=128,\n",
        "                    validation_split=0.1)   "
      ],
      "execution_count": 153,
      "outputs": [
        {
          "output_type": "stream",
          "text": [
            "Epoch 1/4\n",
            "1276/1276 [==============================] - 138s 108ms/step - loss: 0.5536 - precision: 0.7092 - recall: 0.6947 - val_loss: 0.5285 - val_precision: 0.7032 - val_recall: 0.7577\n",
            "Epoch 2/4\n",
            "1276/1276 [==============================] - 136s 107ms/step - loss: 0.5073 - precision: 0.7428 - recall: 0.7408 - val_loss: 0.5053 - val_precision: 0.7234 - val_recall: 0.7725\n",
            "Epoch 3/4\n",
            "1276/1276 [==============================] - 137s 107ms/step - loss: 0.4801 - precision: 0.7604 - recall: 0.7636 - val_loss: 0.4981 - val_precision: 0.7245 - val_recall: 0.7851\n",
            "Epoch 4/4\n",
            "1276/1276 [==============================] - 136s 107ms/step - loss: 0.4557 - precision: 0.7786 - recall: 0.7791 - val_loss: 0.4947 - val_precision: 0.7508 - val_recall: 0.7535\n"
          ],
          "name": "stdout"
        }
      ]
    },
    {
      "cell_type": "code",
      "metadata": {
        "id": "GoXDZgIuhHzI",
        "colab_type": "code",
        "colab": {}
      },
      "source": [
        "model.save('model.hdf5')"
      ],
      "execution_count": 154,
      "outputs": []
    },
    {
      "cell_type": "code",
      "metadata": {
        "id": "ECkVi-rceHfr",
        "colab_type": "code",
        "colab": {
          "base_uri": "https://localhost:8080/",
          "height": 278
        },
        "outputId": "bc0618ce-cb36-4b64-96f5-57159042ded0"
      },
      "source": [
        "f1=2*(np.array(history.history['precision'])*np.array(history.history['recall']))/(np.array(history.history['precision'])+np.array(history.history['recall']))\n",
        "f1_val=2*(np.array(history.history['val_precision'])*np.array(history.history['recall']))/(np.array(history.history['val_precision'])+np.array(history.history['recall']))\n",
        "\n",
        "plt.plot(f1, label='Доля верных ответов на обучающем наборе')\n",
        "plt.plot(f1_val, label='Доля верных ответов на проверочном наборе')\n",
        "plt.xlabel('Эпоха обучения')\n",
        "plt.ylabel('Доля верных ответов')\n",
        "plt.legend()\n",
        "plt.show()"
      ],
      "execution_count": 155,
      "outputs": [
        {
          "output_type": "display_data",
          "data": {
            "image/png": "[encoded data removed]",
            "text/plain": [
              "<Figure size 432x288 with 1 Axes>"
            ]
          },
          "metadata": {
            "tags": [],
            "needs_background": "light"
          }
        }
      ]
    },
    {
      "cell_type": "code",
      "metadata": {
        "id": "8piW6p-TeLK5",
        "colab_type": "code",
        "colab": {
          "base_uri": "https://localhost:8080/",
          "height": 34
        },
        "outputId": "afb16575-debd-46dd-de9c-913a9bdb0821"
      },
      "source": [
        "from sklearn.metrics import f1_score\n",
        "pred=model.predict(x_test)\n",
        "result=np.zeros(y_test.size)\n",
        "for i in range(y_test.size):\n",
        "  if (float(pred[i]) > 0.5):\n",
        "    result[i]=1\n",
        "  else:\n",
        "    result[i]=0\n",
        "f1_score(y_test, result, average='macro')"
      ],
      "execution_count": 156,
      "outputs": [
        {
          "output_type": "execute_result",
          "data": {
            "text/plain": [
              "0.7474064492148872"
            ]
          },
          "metadata": {
            "tags": []
          },
          "execution_count": 156
        }
      ]
    },
    {
      "cell_type": "code",
      "metadata": {
        "id": "roFv0kF2e-D9",
        "colab_type": "code",
        "colab": {
          "base_uri": "https://localhost:8080/",
          "height": 158
        },
        "outputId": "e063740c-6271-4662-f919-c39e8b11d628"
      },
      "source": [
        "model.load_weights('model.hdf5')\n",
        "# Размораживаем веса\n",
        "model.layers[1].trainable = True\n",
        "\n",
        "model.compile(optimizer='adam', \n",
        "              loss='binary_crossentropy', \n",
        "              metrics=['Precision', 'Recall']) \n",
        " \n",
        "\n",
        "history = model.fit(x_train, \n",
        "                    y_train, \n",
        "                    epochs=4,\n",
        "                    batch_size=128,\n",
        "                    validation_split=0.1)   "
      ],
      "execution_count": 157,
      "outputs": [
        {
          "output_type": "stream",
          "text": [
            "Epoch 1/4\n",
            "1276/1276 [==============================] - 138s 108ms/step - loss: 0.4300 - precision: 0.7951 - recall: 0.7964 - val_loss: 0.4950 - val_precision: 0.7506 - val_recall: 0.7578\n",
            "Epoch 2/4\n",
            "1276/1276 [==============================] - 133s 104ms/step - loss: 0.4071 - precision: 0.8096 - recall: 0.8105 - val_loss: 0.5071 - val_precision: 0.7595 - val_recall: 0.7352\n",
            "Epoch 3/4\n",
            "1276/1276 [==============================] - 132s 103ms/step - loss: 0.3829 - precision: 0.8251 - recall: 0.8254 - val_loss: 0.5139 - val_precision: 0.7387 - val_recall: 0.7707\n",
            "Epoch 4/4\n",
            "1276/1276 [==============================] - 137s 107ms/step - loss: 0.3593 - precision: 0.8380 - recall: 0.8373 - val_loss: 0.5319 - val_precision: 0.7756 - val_recall: 0.6912\n"
          ],
          "name": "stdout"
        }
      ]
    },
    {
      "cell_type": "code",
      "metadata": {
        "id": "oYCfbmikkXCx",
        "colab_type": "code",
        "colab": {
          "base_uri": "https://localhost:8080/",
          "height": 281
        },
        "outputId": "fe6b4866-a90c-4d4a-a877-cae13c2a3a2a"
      },
      "source": [
        "f1=2*(np.array(history.history['precision'])*np.array(history.history['recall']))/(np.array(history.history['precision'])+np.array(history.history['recall']))\n",
        "f1_val=2*(np.array(history.history['val_precision'])*np.array(history.history['recall']))/(np.array(history.history['val_precision'])+np.array(history.history['recall']))\n",
        "\n",
        "plt.plot(f1, label='Доля верных ответов на обучающем наборе')\n",
        "plt.plot(f1_val, label='Доля верных ответов на проверочном наборе')\n",
        "plt.xlabel('Эпоха обучения')\n",
        "plt.ylabel('Доля верных ответов')\n",
        "plt.legend()\n",
        "plt.show()"
      ],
      "execution_count": 158,
      "outputs": [
        {
          "output_type": "display_data",
          "data": {
            "image/png": "[encoded data removed]",
            "text/plain": [
              "<Figure size 432x288 with 1 Axes>"
            ]
          },
          "metadata": {
            "tags": [],
            "needs_background": "light"
          }
        }
      ]
    },
    {
      "cell_type": "code",
      "metadata": {
        "id": "emhtWNXnkZrL",
        "colab_type": "code",
        "colab": {
          "base_uri": "https://localhost:8080/",
          "height": 34
        },
        "outputId": "4b77896f-fb3d-4cf5-f696-bc20881fc33a"
      },
      "source": [
        "from sklearn.metrics import f1_score\n",
        "pred=model.predict(x_test)\n",
        "result=np.zeros(y_test.size)\n",
        "for i in range(y_test.size):\n",
        "  if (float(pred[i]) > 0.5):\n",
        "    result[i]=1\n",
        "  else:\n",
        "    result[i]=0\n",
        "f1_score(y_test, result, average='macro')"
      ],
      "execution_count": 159,
      "outputs": [
        {
          "output_type": "execute_result",
          "data": {
            "text/plain": [
              "0.7396568810253914"
            ]
          },
          "metadata": {
            "tags": []
          },
          "execution_count": 159
        }
      ]
    },
    {
      "cell_type": "code",
      "metadata": {
        "id": "zRMXFozmIkE5",
        "colab_type": "code",
        "colab": {
          "base_uri": "https://localhost:8080/",
          "height": 158
        },
        "outputId": "f1578deb-e644-437b-cf34-428fa783e026"
      },
      "source": [
        "model = Sequential()\n",
        "model.add(Embedding(len(embedding_matrix), len(embedding_matrix[0]),\n",
        "          weights=[embedding_matrix], input_length=max_twit_len, trainable=False))\n",
        "model.add(Conv1D(350, 3, padding='valid', activation='relu'))\n",
        "model.add(GlobalMaxPooling1D())\n",
        "model.add(Dense(128, activation='relu'))\n",
        "model.add(Dropout(0.3))\n",
        "model.add(Dense(1, activation='sigmoid'))\n",
        "\n",
        "model.compile(optimizer='adam', \n",
        "              loss='binary_crossentropy', \n",
        "              metrics=['Precision', 'Recall'])\n",
        "\n",
        "history = model.fit(x_train, \n",
        "                    y_train, \n",
        "                    epochs=4,\n",
        "                    batch_size=128,\n",
        "                    validation_split=0.1)  "
      ],
      "execution_count": 161,
      "outputs": [
        {
          "output_type": "stream",
          "text": [
            "Epoch 1/4\n",
            "1276/1276 [==============================] - 92s 72ms/step - loss: 0.5736 - precision: 0.6917 - recall: 0.6771 - val_loss: 0.5382 - val_precision: 0.7097 - val_recall: 0.7379\n",
            "Epoch 2/4\n",
            "1276/1276 [==============================] - 88s 69ms/step - loss: 0.5304 - precision: 0.7234 - recall: 0.7283 - val_loss: 0.5282 - val_precision: 0.6989 - val_recall: 0.7851\n",
            "Epoch 3/4\n",
            "1276/1276 [==============================] - 92s 72ms/step - loss: 0.5075 - precision: 0.7403 - recall: 0.7460 - val_loss: 0.5119 - val_precision: 0.7288 - val_recall: 0.7471\n",
            "Epoch 4/4\n",
            "1276/1276 [==============================] - 89s 70ms/step - loss: 0.4878 - precision: 0.7525 - recall: 0.7621 - val_loss: 0.5142 - val_precision: 0.7612 - val_recall: 0.6800\n"
          ],
          "name": "stdout"
        }
      ]
    },
    {
      "cell_type": "code",
      "metadata": {
        "id": "vjh9WTe-nN-V",
        "colab_type": "code",
        "colab": {
          "base_uri": "https://localhost:8080/",
          "height": 278
        },
        "outputId": "22e652a1-0ca3-4044-965d-eebbb44812b3"
      },
      "source": [
        "f1=2*(np.array(history.history['precision'])*np.array(history.history['recall']))/(np.array(history.history['precision'])+np.array(history.history['recall']))\n",
        "f1_val=2*(np.array(history.history['val_precision'])*np.array(history.history['recall']))/(np.array(history.history['val_precision'])+np.array(history.history['recall']))\n",
        "\n",
        "plt.plot(f1, label='Доля верных ответов на обучающем наборе')\n",
        "plt.plot(f1_val, label='Доля верных ответов на проверочном наборе')\n",
        "plt.xlabel('Эпоха обучения')\n",
        "plt.ylabel('Доля верных ответов')\n",
        "plt.legend()\n",
        "plt.show()"
      ],
      "execution_count": 162,
      "outputs": [
        {
          "output_type": "display_data",
          "data": {
            "image/png": "[encoded data removed]",
            "text/plain": [
              "<Figure size 432x288 with 1 Axes>"
            ]
          },
          "metadata": {
            "tags": [],
            "needs_background": "light"
          }
        }
      ]
    },
    {
      "cell_type": "code",
      "metadata": {
        "id": "QA6lA92onRia",
        "colab_type": "code",
        "colab": {
          "base_uri": "https://localhost:8080/",
          "height": 34
        },
        "outputId": "7224467a-fcc8-49d7-d047-f1b0fd4c7529"
      },
      "source": [
        "from sklearn.metrics import f1_score\n",
        "pred=model.predict(x_test)\n",
        "result=np.zeros(y_test.size)\n",
        "for i in range(y_test.size):\n",
        "  if (float(pred[i]) > 0.5):\n",
        "    result[i]=1\n",
        "  else:\n",
        "    result[i]=0\n",
        "f1_score(y_test, result, average='macro')"
      ],
      "execution_count": 163,
      "outputs": [
        {
          "output_type": "execute_result",
          "data": {
            "text/plain": [
              "0.72748551689866"
            ]
          },
          "metadata": {
            "tags": []
          },
          "execution_count": 163
        }
      ]
    },
    {
      "cell_type": "markdown",
      "metadata": {
        "id": "GpsWOmSjBo9A",
        "colab_type": "text"
      },
      "source": [
        "# Число слов в твитте"
      ]
    },
    {
      "cell_type": "markdown",
      "metadata": {
        "id": "0FkdEiG6CP5l",
        "colab_type": "text"
      },
      "source": [
        "Вспомним как выглядит распеделение количества слов в твиттах"
      ]
    },
    {
      "cell_type": "markdown",
      "metadata": {
        "id": "sr_zJKLNCAQK",
        "colab_type": "text"
      },
      "source": [
        "![image.png](data:image/png;base64,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)"
      ]
    },
    {
      "cell_type": "markdown",
      "metadata": {
        "id": "wwZXdoUWCNie",
        "colab_type": "text"
      },
      "source": [
        "Попробуем протестировать разные значения, от 8 до 30, нечетные пока проверять не будем, чтобы не слишком долго считалось"
      ]
    },
    {
      "cell_type": "code",
      "metadata": {
        "id": "pbBmCMaWBn19",
        "colab_type": "code",
        "colab": {
          "base_uri": "https://localhost:8080/",
          "height": 1000
        },
        "outputId": "f85815fa-5302-4bf1-c914-45a97577012e"
      },
      "source": [
        "from tensorflow.keras.layers import SpatialDropout1D\n",
        "from sklearn.metrics import f1_score\n",
        "for i in range(4,16):\n",
        "  twit_len=i*2\n",
        "  x_train = pad_sequences(sequences, twit_len)\n",
        "  x_test = pad_sequences(test_sequences, twit_len)\n",
        "\n",
        "  model = Sequential()\n",
        "  model.add(Embedding(NUM, 64, input_length=twit_len))\n",
        "  model.add(SpatialDropout1D(0.5))\n",
        "  model.add(LSTM(128))\n",
        "  #model.add(Dropout(0.3))\n",
        "  model.add(Dense(1, activation='sigmoid'))\n",
        "\n",
        "  model.compile(optimizer='adam', \n",
        "              loss='binary_crossentropy', \n",
        "              metrics=['Precision', 'Recall'])\n",
        "\n",
        "  history = model.fit(x_train, \n",
        "                    y_train, \n",
        "                    epochs=3,\n",
        "                    batch_size=128,\n",
        "                    validation_split=0.1)     \n",
        "  print(\"\\n\",\"Результаты на длине = \",twit_len)\n",
        "\n",
        "  pred=model.predict(x_test)\n",
        "  result=np.zeros(y_test.size)\n",
        "  for i in range(y_test.size):\n",
        "    if (float(pred[i]) > 0.5):\n",
        "      result[i]=1\n",
        "    else:\n",
        "      result[i]=0\n",
        "  print(f1_score(y_test, result, average='macro'))"
      ],
      "execution_count": 36,
      "outputs": [
        {
          "output_type": "stream",
          "text": [
            "Epoch 1/3\n",
            "1276/1276 [==============================] - 70s 55ms/step - loss: 0.5271 - precision: 0.7395 - recall: 0.7149 - val_loss: 0.5010 - val_precision: 0.7650 - val_recall: 0.7176\n",
            "Epoch 2/3\n",
            "1276/1276 [==============================] - 69s 54ms/step - loss: 0.4579 - precision: 0.7913 - recall: 0.7625 - val_loss: 0.4945 - val_precision: 0.7630 - val_recall: 0.7484\n",
            "Epoch 3/3\n",
            "1276/1276 [==============================] - 72s 57ms/step - loss: 0.4205 - precision: 0.8115 - recall: 0.7878 - val_loss: 0.5091 - val_precision: 0.7688 - val_recall: 0.7399\n",
            "\n",
            " Результаты на длине =  8\n",
            "0.7523572944853665\n",
            "Epoch 1/3\n",
            "1276/1276 [==============================] - 84s 66ms/step - loss: 0.5152 - precision: 0.7419 - recall: 0.7348 - val_loss: 0.4906 - val_precision: 0.7742 - val_recall: 0.7267\n",
            "Epoch 2/3\n",
            "1276/1276 [==============================] - 81s 64ms/step - loss: 0.4459 - precision: 0.7959 - recall: 0.7742 - val_loss: 0.4848 - val_precision: 0.7761 - val_recall: 0.7334\n",
            "Epoch 3/3\n",
            "1276/1276 [==============================] - 84s 66ms/step - loss: 0.4075 - precision: 0.8192 - recall: 0.7974 - val_loss: 0.4853 - val_precision: 0.7713 - val_recall: 0.7567\n",
            "\n",
            " Результаты на длине =  10\n",
            "0.7654405976976103\n",
            "Epoch 1/3\n",
            "1276/1276 [==============================] - 93s 73ms/step - loss: 0.5085 - precision: 0.7494 - recall: 0.7375 - val_loss: 0.4801 - val_precision: 0.7557 - val_recall: 0.7723\n",
            "Epoch 2/3\n",
            "1276/1276 [==============================] - 94s 74ms/step - loss: 0.4358 - precision: 0.8024 - recall: 0.7830 - val_loss: 0.4754 - val_precision: 0.7650 - val_recall: 0.7763\n",
            "Epoch 3/3\n",
            "1276/1276 [==============================] - 91s 71ms/step - loss: 0.3956 - precision: 0.8243 - recall: 0.8071 - val_loss: 0.4808 - val_precision: 0.7838 - val_recall: 0.7538\n",
            "\n",
            " Результаты на длине =  12\n",
            "0.770326941628219\n",
            "Epoch 1/3\n",
            "1276/1276 [==============================] - 99s 78ms/step - loss: 0.5053 - precision: 0.7483 - recall: 0.7434 - val_loss: 0.4728 - val_precision: 0.7835 - val_recall: 0.7392\n",
            "Epoch 2/3\n",
            "1276/1276 [==============================] - 96s 75ms/step - loss: 0.4302 - precision: 0.8047 - recall: 0.7873 - val_loss: 0.4676 - val_precision: 0.7892 - val_recall: 0.7451\n",
            "Epoch 3/3\n",
            "1276/1276 [==============================] - 94s 74ms/step - loss: 0.3897 - precision: 0.8285 - recall: 0.8118 - val_loss: 0.4725 - val_precision: 0.7919 - val_recall: 0.7453\n",
            "\n",
            " Результаты на длине =  14\n",
            "0.7750209272217539\n",
            "Epoch 1/3\n",
            "1276/1276 [==============================] - 101s 80ms/step - loss: 0.5038 - precision: 0.7533 - recall: 0.7382 - val_loss: 0.4725 - val_precision: 0.7606 - val_recall: 0.7807\n",
            "Epoch 2/3\n",
            "1276/1276 [==============================] - 103s 81ms/step - loss: 0.4266 - precision: 0.8062 - recall: 0.7917 - val_loss: 0.4647 - val_precision: 0.7963 - val_recall: 0.7383\n",
            "Epoch 3/3\n",
            "1276/1276 [==============================] - 103s 81ms/step - loss: 0.3863 - precision: 0.8303 - recall: 0.8153 - val_loss: 0.4688 - val_precision: 0.7692 - val_recall: 0.7926\n",
            "\n",
            " Результаты на длине =  16\n",
            "0.7778524473092812\n",
            "Epoch 1/3\n",
            "1276/1276 [==============================] - 109s 86ms/step - loss: 0.5016 - precision: 0.7532 - recall: 0.7417 - val_loss: 0.4697 - val_precision: 0.7822 - val_recall: 0.7452\n",
            "Epoch 2/3\n",
            "1276/1276 [==============================] - 111s 87ms/step - loss: 0.4266 - precision: 0.8074 - recall: 0.7901 - val_loss: 0.4652 - val_precision: 0.7775 - val_recall: 0.7687\n",
            "Epoch 3/3\n",
            "1276/1276 [==============================] - 110s 86ms/step - loss: 0.3863 - precision: 0.8297 - recall: 0.8151 - val_loss: 0.4690 - val_precision: 0.7922 - val_recall: 0.7565\n",
            "\n",
            " Результаты на длине =  18\n",
            "0.7781370503219954\n",
            "Epoch 1/3\n",
            "1276/1276 [==============================] - 121s 95ms/step - loss: 0.5011 - precision: 0.7563 - recall: 0.7398 - val_loss: 0.4720 - val_precision: 0.7592 - val_recall: 0.7899\n",
            "Epoch 2/3\n",
            "1276/1276 [==============================] - 121s 95ms/step - loss: 0.4246 - precision: 0.8069 - recall: 0.7925 - val_loss: 0.4602 - val_precision: 0.7768 - val_recall: 0.7791\n",
            "Epoch 3/3\n",
            "1276/1276 [==============================] - 118s 92ms/step - loss: 0.3838 - precision: 0.8320 - recall: 0.8180 - val_loss: 0.4626 - val_precision: 0.7771 - val_recall: 0.7870\n",
            "\n",
            " Результаты на длине =  20\n",
            "0.7821678404715932\n",
            "Epoch 1/3\n",
            "1276/1276 [==============================] - 128s 100ms/step - loss: 0.5008 - precision: 0.7569 - recall: 0.7351 - val_loss: 0.4679 - val_precision: 0.7613 - val_recall: 0.7957\n",
            "Epoch 2/3\n",
            "1276/1276 [==============================] - 126s 99ms/step - loss: 0.4236 - precision: 0.8091 - recall: 0.7950 - val_loss: 0.4604 - val_precision: 0.7961 - val_recall: 0.7552\n",
            "Epoch 3/3\n",
            "1276/1276 [==============================] - 129s 101ms/step - loss: 0.3837 - precision: 0.8317 - recall: 0.8165 - val_loss: 0.4693 - val_precision: 0.7931 - val_recall: 0.7608\n",
            "\n",
            " Результаты на длине =  22\n",
            "0.7810228946881731\n",
            "Epoch 1/3\n",
            "1276/1276 [==============================] - 141s 110ms/step - loss: 0.5003 - precision: 0.7552 - recall: 0.7404 - val_loss: 0.4710 - val_precision: 0.7460 - val_recall: 0.8149\n",
            "Epoch 2/3\n",
            "1276/1276 [==============================] - 139s 109ms/step - loss: 0.4232 - precision: 0.8077 - recall: 0.7945 - val_loss: 0.4615 - val_precision: 0.7665 - val_recall: 0.7997\n",
            "Epoch 3/3\n",
            "1276/1276 [==============================] - 139s 109ms/step - loss: 0.3837 - precision: 0.8319 - recall: 0.8170 - val_loss: 0.4622 - val_precision: 0.7650 - val_recall: 0.8113\n",
            "\n",
            " Результаты на длине =  24\n",
            "0.7788348759774943\n",
            "Epoch 1/3\n",
            "1276/1276 [==============================] - 144s 113ms/step - loss: 0.5003 - precision: 0.7542 - recall: 0.7443 - val_loss: 0.4658 - val_precision: 0.7710 - val_recall: 0.7793\n",
            "Epoch 2/3\n",
            "1276/1276 [==============================] - 145s 113ms/step - loss: 0.4214 - precision: 0.8094 - recall: 0.7949 - val_loss: 0.4621 - val_precision: 0.7636 - val_recall: 0.8109\n",
            "Epoch 3/3\n",
            "1276/1276 [==============================] - 145s 114ms/step - loss: 0.3814 - precision: 0.8319 - recall: 0.8195 - val_loss: 0.4642 - val_precision: 0.7966 - val_recall: 0.7502\n",
            "\n",
            " Результаты на длине =  26\n",
            "0.7792030533874912\n",
            "Epoch 1/3\n",
            "1276/1276 [==============================] - 155s 121ms/step - loss: 0.5011 - precision: 0.7514 - recall: 0.7500 - val_loss: 0.4681 - val_precision: 0.7656 - val_recall: 0.7905\n",
            "Epoch 2/3\n",
            "1276/1276 [==============================] - 153s 120ms/step - loss: 0.4222 - precision: 0.8094 - recall: 0.7963 - val_loss: 0.4637 - val_precision: 0.7935 - val_recall: 0.7564\n",
            "Epoch 3/3\n",
            "1276/1276 [==============================] - 156s 122ms/step - loss: 0.3831 - precision: 0.8304 - recall: 0.8188 - val_loss: 0.4708 - val_precision: 0.7608 - val_recall: 0.8223\n",
            "\n",
            " Результаты на длине =  28\n",
            "0.7801680236289847\n",
            "Epoch 1/3\n",
            "1276/1276 [==============================] - 163s 128ms/step - loss: 0.5009 - precision: 0.7514 - recall: 0.7500 - val_loss: 0.4711 - val_precision: 0.7578 - val_recall: 0.7947\n",
            "Epoch 2/3\n",
            "1276/1276 [==============================] - 160s 125ms/step - loss: 0.4207 - precision: 0.8096 - recall: 0.7967 - val_loss: 0.4665 - val_precision: 0.7627 - val_recall: 0.8096\n",
            "Epoch 3/3\n",
            "1276/1276 [==============================] - 158s 124ms/step - loss: 0.3814 - precision: 0.8316 - recall: 0.8198 - val_loss: 0.4671 - val_precision: 0.7627 - val_recall: 0.8134\n",
            "\n",
            " Результаты на длине =  30\n",
            "0.7786510369511002\n"
          ],
          "name": "stdout"
        }
      ]
    },
    {
      "cell_type": "markdown",
      "metadata": {
        "id": "V3lzsjC7FGiH",
        "colab_type": "text"
      },
      "source": [
        "при длине твитта в 20 достигается наилучший результат"
      ]
    },
    {
      "cell_type": "markdown",
      "metadata": {
        "id": "OFxvkU8WETNA",
        "colab_type": "text"
      },
      "source": [
        "Значения метрики после длины твиттов в 12 (среднее значение) становится довольно высоким, так что есть смысл проерить каждое непроверенное значение до 30 (нечетные)"
      ]
    },
    {
      "cell_type": "code",
      "metadata": {
        "id": "ONC_mD-2VFbI",
        "colab_type": "code",
        "colab": {
          "base_uri": "https://localhost:8080/",
          "height": 1000
        },
        "outputId": "de55bd88-5cda-4c4c-a8a0-4afc5e01097e"
      },
      "source": [
        "from tensorflow.keras.layers import SpatialDropout1D\n",
        "from sklearn.metrics import f1_score\n",
        "for i in range(6,14):\n",
        "  twit_len=i*2+1\n",
        "  x_train = pad_sequences(sequences, twit_len)\n",
        "  x_test = pad_sequences(test_sequences, twit_len)\n",
        "\n",
        "  model = Sequential()\n",
        "  model.add(Embedding(NUM, 64, input_length=twit_len))\n",
        "  model.add(SpatialDropout1D(0.5))\n",
        "  model.add(LSTM(128))\n",
        "  #model.add(Dropout(0.3))\n",
        "  model.add(Dense(1, activation='sigmoid'))\n",
        "\n",
        "  model.compile(optimizer='adam', \n",
        "              loss='binary_crossentropy', \n",
        "              metrics=['Precision', 'Recall'])\n",
        "\n",
        "  history = model.fit(x_train, \n",
        "                    y_train, \n",
        "                    epochs=3,\n",
        "                    batch_size=128,\n",
        "                    validation_split=0.1)     \n",
        "  print(\"\\n\",\"Результаты на длине = \",twit_len)\n",
        "\n",
        "  pred=model.predict(x_test)\n",
        "  result=np.zeros(y_test.size)\n",
        "  for i in range(y_test.size):\n",
        "    if (float(pred[i]) > 0.5):\n",
        "      result[i]=1\n",
        "    else:\n",
        "      result[i]=0\n",
        "  print(f1_score(y_test, result, average='macro'))"
      ],
      "execution_count": 38,
      "outputs": [
        {
          "output_type": "stream",
          "text": [
            "Epoch 1/3\n",
            "1276/1276 [==============================] - 91s 71ms/step - loss: 0.5059 - precision: 0.7551 - recall: 0.7286 - val_loss: 0.4778 - val_precision: 0.7798 - val_recall: 0.7313\n",
            "Epoch 2/3\n",
            "1276/1276 [==============================] - 90s 71ms/step - loss: 0.4333 - precision: 0.8041 - recall: 0.7842 - val_loss: 0.4727 - val_precision: 0.7802 - val_recall: 0.7609\n",
            "Epoch 3/3\n",
            "1276/1276 [==============================] - 91s 71ms/step - loss: 0.3928 - precision: 0.8269 - recall: 0.8099 - val_loss: 0.4823 - val_precision: 0.7940 - val_recall: 0.7348\n",
            "\n",
            " Результаты на длине =  13\n",
            "0.7711098370801339\n",
            "Epoch 1/3\n",
            "1276/1276 [==============================] - 100s 78ms/step - loss: 0.5045 - precision: 0.7556 - recall: 0.7311 - val_loss: 0.4761 - val_precision: 0.7640 - val_recall: 0.7696\n",
            "Epoch 2/3\n",
            "1276/1276 [==============================] - 98s 77ms/step - loss: 0.4298 - precision: 0.8049 - recall: 0.7877 - val_loss: 0.4663 - val_precision: 0.7919 - val_recall: 0.7436\n",
            "Epoch 3/3\n",
            "1276/1276 [==============================] - 97s 76ms/step - loss: 0.3898 - precision: 0.8276 - recall: 0.8126 - val_loss: 0.4747 - val_precision: 0.7676 - val_recall: 0.7829\n",
            "\n",
            " Результаты на длине =  15\n",
            "0.7734090666649682\n",
            "Epoch 1/3\n",
            "1276/1276 [==============================] - 107s 84ms/step - loss: 0.5031 - precision: 0.7498 - recall: 0.7454 - val_loss: 0.4738 - val_precision: 0.7521 - val_recall: 0.8005\n",
            "Epoch 2/3\n",
            "1276/1276 [==============================] - 106s 83ms/step - loss: 0.4256 - precision: 0.8075 - recall: 0.7905 - val_loss: 0.4634 - val_precision: 0.7783 - val_recall: 0.7753\n",
            "Epoch 3/3\n",
            "1276/1276 [==============================] - 109s 86ms/step - loss: 0.3845 - precision: 0.8310 - recall: 0.8159 - val_loss: 0.4635 - val_precision: 0.7906 - val_recall: 0.7609\n",
            "\n",
            " Результаты на длине =  17\n",
            "0.7785301544695715\n",
            "Epoch 1/3\n",
            "1276/1276 [==============================] - 126s 99ms/step - loss: 0.5011 - precision: 0.7532 - recall: 0.7423 - val_loss: 0.4711 - val_precision: 0.7788 - val_recall: 0.7493\n",
            "Epoch 2/3\n",
            "1276/1276 [==============================] - 128s 101ms/step - loss: 0.4248 - precision: 0.8074 - recall: 0.7932 - val_loss: 0.4612 - val_precision: 0.7826 - val_recall: 0.7724\n",
            "Epoch 3/3\n",
            "1276/1276 [==============================] - 127s 100ms/step - loss: 0.3834 - precision: 0.8311 - recall: 0.8174 - val_loss: 0.4593 - val_precision: 0.7772 - val_recall: 0.7872\n",
            "\n",
            " Результаты на длине =  19\n",
            "0.777137510137226\n",
            "Epoch 1/3\n",
            "1276/1276 [==============================] - 133s 105ms/step - loss: 0.5008 - precision: 0.7544 - recall: 0.7389 - val_loss: 0.4696 - val_precision: 0.7685 - val_recall: 0.7775\n",
            "Epoch 2/3\n",
            "1276/1276 [==============================] - 126s 99ms/step - loss: 0.4215 - precision: 0.8101 - recall: 0.7937 - val_loss: 0.4635 - val_precision: 0.7761 - val_recall: 0.7762\n",
            "Epoch 3/3\n",
            "1276/1276 [==============================] - 127s 100ms/step - loss: 0.3804 - precision: 0.8344 - recall: 0.8178 - val_loss: 0.4620 - val_precision: 0.7781 - val_recall: 0.7842\n",
            "\n",
            " Результаты на длине =  21\n",
            "0.7815100872949041\n",
            "Epoch 1/3\n",
            "1276/1276 [==============================] - 138s 108ms/step - loss: 0.5010 - precision: 0.7582 - recall: 0.7323 - val_loss: 0.4660 - val_precision: 0.7688 - val_recall: 0.7844\n",
            "Epoch 2/3\n",
            "1276/1276 [==============================] - 133s 104ms/step - loss: 0.4235 - precision: 0.8079 - recall: 0.7944 - val_loss: 0.4574 - val_precision: 0.7815 - val_recall: 0.7747\n",
            "Epoch 3/3\n",
            "1276/1276 [==============================] - 131s 103ms/step - loss: 0.3841 - precision: 0.8301 - recall: 0.8176 - val_loss: 0.4673 - val_precision: 0.7963 - val_recall: 0.7584\n",
            "\n",
            " Результаты на длине =  23\n",
            "0.7807648488725958\n",
            "Epoch 1/3\n",
            "1276/1276 [==============================] - 138s 108ms/step - loss: 0.5010 - precision: 0.7542 - recall: 0.7440 - val_loss: 0.4706 - val_precision: 0.7535 - val_recall: 0.8095\n",
            "Epoch 2/3\n",
            "1276/1276 [==============================] - 143s 112ms/step - loss: 0.4219 - precision: 0.8092 - recall: 0.7957 - val_loss: 0.4585 - val_precision: 0.7628 - val_recall: 0.8116\n",
            "Epoch 3/3\n",
            "1276/1276 [==============================] - 141s 110ms/step - loss: 0.3806 - precision: 0.8338 - recall: 0.8185 - val_loss: 0.4630 - val_precision: 0.7949 - val_recall: 0.7613\n",
            "\n",
            " Результаты на длине =  25\n",
            "0.7810878615734856\n",
            "Epoch 1/3\n",
            "1276/1276 [==============================] - 148s 116ms/step - loss: 0.4997 - precision: 0.7529 - recall: 0.7491 - val_loss: 0.4678 - val_precision: 0.7678 - val_recall: 0.7811\n",
            "Epoch 2/3\n",
            "1276/1276 [==============================] - 153s 120ms/step - loss: 0.4200 - precision: 0.8102 - recall: 0.7966 - val_loss: 0.4591 - val_precision: 0.7868 - val_recall: 0.7726\n",
            "Epoch 3/3\n",
            "1276/1276 [==============================] - 154s 121ms/step - loss: 0.3793 - precision: 0.8336 - recall: 0.8206 - val_loss: 0.4656 - val_precision: 0.7826 - val_recall: 0.7800\n",
            "\n",
            " Результаты на длине =  27\n",
            "0.7817614583915327\n"
          ],
          "name": "stdout"
        }
      ]
    },
    {
      "cell_type": "markdown",
      "metadata": {
        "id": "snM-krmij2Wu",
        "colab_type": "text"
      },
      "source": [
        "По прежнему на 20 достигается лучшее значение, но возможно это вышло случайно, на длине 27 это значение лишь немногим хуже,  с точки зрения логики это значение будет более осмысленным, так как примерно 99% данных имеет длинну 27 твиттов или меньше, так что в конечном счете у твиттов будет 27 слов"
      ]
    },
    {
      "cell_type": "markdown",
      "metadata": {
        "id": "ovGiUS9QE-6k",
        "colab_type": "text"
      },
      "source": [
        "# Число слов в словаре"
      ]
    },
    {
      "cell_type": "markdown",
      "metadata": {
        "id": "Aj7UH0BcGoDC",
        "colab_type": "text"
      },
      "source": [
        "Интуитивно кажется, что чем больше слов в словаре, тем лучше должна работать модель, но это не так. Ведь наличие слова в словаре не гарантирует то, что модель будет \"понимать его значение\". Если слово встречается слишком редко, то оно может находиться не на том месте в плотном векторном пространстве слов и из-за этого слова смысл отзыва может исказиться. Потому лучшим решением было бы просто не учитывать это слово. Найти то самое число слов в словаре с которого слова начинают встречаться слишком редко можно опытным путем."
      ]
    },
    {
      "cell_type": "code",
      "metadata": {
        "id": "akDhpUqmaLXU",
        "colab_type": "code",
        "colab": {
          "base_uri": "https://localhost:8080/",
          "height": 1000
        },
        "outputId": "f69cba5f-0ade-446d-e6b8-5fc4caefab2c"
      },
      "source": [
        "from tensorflow.keras.layers import SpatialDropout1D\n",
        "for i in range(1,10):\n",
        "  num=i*10000\n",
        "  # объявим токенизатор\n",
        "  tokenizer = Tokenizer(num_words=num)\n",
        "  # обучим токенизатор\n",
        "  tokenizer.fit_on_texts(text_train)\n",
        "  # токенизируем текст\n",
        "  sequences = tokenizer.texts_to_sequences(text_train)\n",
        "  # ограничим длинну отзывов\n",
        "  x_train = pad_sequences(sequences, maxlen=max_twit_len) \n",
        "  test_sequences = tokenizer.texts_to_sequences(text_test)\n",
        "  x_test = pad_sequences(test_sequences, maxlen=max_twit_len)\n",
        "\n",
        "  model = Sequential()\n",
        "  model.add(Embedding(num, 64, input_length=max_twit_len))\n",
        "  model.add(SpatialDropout1D(0.5))\n",
        "  model.add(LSTM(128))\n",
        "  #model.add(Dropout(0.3))\n",
        "  model.add(Dense(1, activation='sigmoid'))\n",
        "\n",
        "  model.compile(optimizer='adam', \n",
        "              loss='binary_crossentropy', \n",
        "              metrics=['Precision', 'Recall'])\n",
        "\n",
        "  history = model.fit(x_train, \n",
        "                    y_train, \n",
        "                    epochs=3,\n",
        "                    batch_size=128,\n",
        "                    validation_split=0.1)     \n",
        "  print(\"\\n\",\"Результаты на длинне = \",num)\n",
        "\n",
        "  pred=model.predict(x_test)\n",
        "  result=np.zeros(y_test.size)\n",
        "  for i in range(y_test.size):\n",
        "    if (float(pred[i]) > 0.5):\n",
        "      result[i]=1\n",
        "    else:\n",
        "      result[i]=0\n",
        "  print(f1_score(y_test, result, average='macro'))"
      ],
      "execution_count": 24,
      "outputs": [
        {
          "output_type": "stream",
          "text": [
            "Epoch 1/3\n",
            "1276/1276 [==============================] - 24s 19ms/step - loss: 0.5063 - precision: 0.7519 - recall: 0.7350 - val_loss: 0.4679 - val_precision: 0.7717 - val_recall: 0.7655\n",
            "Epoch 2/3\n",
            "1276/1276 [==============================] - 23s 18ms/step - loss: 0.4489 - precision: 0.7886 - recall: 0.7809 - val_loss: 0.4602 - val_precision: 0.7837 - val_recall: 0.7549\n",
            "Epoch 3/3\n",
            "1276/1276 [==============================] - 23s 18ms/step - loss: 0.4255 - precision: 0.8031 - recall: 0.7946 - val_loss: 0.4585 - val_precision: 0.7762 - val_recall: 0.7873\n",
            "\n",
            " Результаты на длинне =  10000\n",
            "0.7759328708369808\n",
            "Epoch 1/3\n",
            "1276/1276 [==============================] - 29s 23ms/step - loss: 0.5029 - precision: 0.7534 - recall: 0.7389 - val_loss: 0.4622 - val_precision: 0.7623 - val_recall: 0.7904\n",
            "Epoch 2/3\n",
            "1276/1276 [==============================] - 28s 22ms/step - loss: 0.4347 - precision: 0.7999 - recall: 0.7894 - val_loss: 0.4549 - val_precision: 0.7816 - val_recall: 0.7727\n",
            "Epoch 3/3\n",
            "1276/1276 [==============================] - 28s 22ms/step - loss: 0.4023 - precision: 0.8188 - recall: 0.8093 - val_loss: 0.4597 - val_precision: 0.7944 - val_recall: 0.7465\n",
            "\n",
            " Результаты на длинне =  20000\n",
            "0.7798229245095609\n",
            "Epoch 1/3\n",
            "1276/1276 [==============================] - 38s 30ms/step - loss: 0.5021 - precision: 0.7576 - recall: 0.7343 - val_loss: 0.4591 - val_precision: 0.7800 - val_recall: 0.7678\n",
            "Epoch 2/3\n",
            "1276/1276 [==============================] - 37s 29ms/step - loss: 0.4255 - precision: 0.8069 - recall: 0.7935 - val_loss: 0.4555 - val_precision: 0.7739 - val_recall: 0.7916\n",
            "Epoch 3/3\n",
            "1276/1276 [==============================] - 37s 29ms/step - loss: 0.3886 - precision: 0.8271 - recall: 0.8178 - val_loss: 0.4672 - val_precision: 0.7723 - val_recall: 0.7917\n",
            "\n",
            " Результаты на длинне =  30000\n",
            "0.778367297027079\n",
            "Epoch 1/3\n",
            "1276/1276 [==============================] - 45s 35ms/step - loss: 0.5021 - precision: 0.7517 - recall: 0.7462 - val_loss: 0.4595 - val_precision: 0.7553 - val_recall: 0.8131\n",
            "Epoch 2/3\n",
            "1276/1276 [==============================] - 44s 35ms/step - loss: 0.4212 - precision: 0.8090 - recall: 0.7989 - val_loss: 0.4535 - val_precision: 0.7701 - val_recall: 0.8003\n",
            "Epoch 3/3\n",
            "1276/1276 [==============================] - 44s 35ms/step - loss: 0.3800 - precision: 0.8325 - recall: 0.8223 - val_loss: 0.4692 - val_precision: 0.7700 - val_recall: 0.8003\n",
            "\n",
            " Результаты на длинне =  40000\n",
            "0.7785257049877428\n",
            "Epoch 1/3\n",
            "1276/1276 [==============================] - 54s 42ms/step - loss: 0.4994 - precision: 0.7536 - recall: 0.7496 - val_loss: 0.4605 - val_precision: 0.7644 - val_recall: 0.7934\n",
            "Epoch 2/3\n",
            "1276/1276 [==============================] - 53s 42ms/step - loss: 0.4176 - precision: 0.8109 - recall: 0.8005 - val_loss: 0.4507 - val_precision: 0.7815 - val_recall: 0.7801\n",
            "Epoch 3/3\n",
            "1276/1276 [==============================] - 54s 42ms/step - loss: 0.3734 - precision: 0.8366 - recall: 0.8253 - val_loss: 0.4602 - val_precision: 0.7740 - val_recall: 0.7897\n",
            "\n",
            " Результаты на длинне =  50000\n",
            "0.7765782878567749\n",
            "Epoch 1/3\n",
            "1276/1276 [==============================] - 62s 49ms/step - loss: 0.5009 - precision: 0.7518 - recall: 0.7509 - val_loss: 0.4602 - val_precision: 0.7779 - val_recall: 0.7683\n",
            "Epoch 2/3\n",
            "1276/1276 [==============================] - 61s 48ms/step - loss: 0.4137 - precision: 0.8142 - recall: 0.8022 - val_loss: 0.4555 - val_precision: 0.7932 - val_recall: 0.7574\n",
            "Epoch 3/3\n",
            "1276/1276 [==============================] - 61s 48ms/step - loss: 0.3672 - precision: 0.8413 - recall: 0.8278 - val_loss: 0.4690 - val_precision: 0.7625 - val_recall: 0.8116\n",
            "\n",
            " Результаты на длинне =  60000\n",
            "0.7762500533210737\n",
            "Epoch 1/3\n",
            "1276/1276 [==============================] - 74s 58ms/step - loss: 0.5000 - precision: 0.7521 - recall: 0.7493 - val_loss: 0.4574 - val_precision: 0.7692 - val_recall: 0.7802\n",
            "Epoch 2/3\n",
            "1276/1276 [==============================] - 74s 58ms/step - loss: 0.4112 - precision: 0.8148 - recall: 0.8044 - val_loss: 0.4537 - val_precision: 0.7860 - val_recall: 0.7682\n",
            "Epoch 3/3\n",
            "1276/1276 [==============================] - 74s 58ms/step - loss: 0.3614 - precision: 0.8423 - recall: 0.8332 - val_loss: 0.4769 - val_precision: 0.7887 - val_recall: 0.7660\n",
            "\n",
            " Результаты на длинне =  70000\n",
            "0.7769743275882193\n",
            "Epoch 1/3\n",
            "1276/1276 [==============================] - 85s 67ms/step - loss: 0.5012 - precision: 0.7551 - recall: 0.7433 - val_loss: 0.4599 - val_precision: 0.8089 - val_recall: 0.7240\n",
            "Epoch 2/3\n",
            "1276/1276 [==============================] - 84s 65ms/step - loss: 0.4096 - precision: 0.8170 - recall: 0.8037 - val_loss: 0.4572 - val_precision: 0.7850 - val_recall: 0.7754\n",
            "Epoch 3/3\n",
            "1276/1276 [==============================] - 84s 66ms/step - loss: 0.3574 - precision: 0.8456 - recall: 0.8344 - val_loss: 0.4719 - val_precision: 0.7920 - val_recall: 0.7635\n",
            "\n",
            " Результаты на длинне =  80000\n",
            "0.7761487989986253\n",
            "Epoch 1/3\n",
            "1276/1276 [==============================] - 93s 73ms/step - loss: 0.4983 - precision: 0.7519 - recall: 0.7505 - val_loss: 0.4556 - val_precision: 0.7677 - val_recall: 0.7956\n",
            "Epoch 2/3\n",
            "1276/1276 [==============================] - 92s 72ms/step - loss: 0.4051 - precision: 0.8178 - recall: 0.8084 - val_loss: 0.4548 - val_precision: 0.7771 - val_recall: 0.7830\n",
            "Epoch 3/3\n",
            "1276/1276 [==============================] - 92s 72ms/step - loss: 0.3497 - precision: 0.8489 - recall: 0.8389 - val_loss: 0.4766 - val_precision: 0.7805 - val_recall: 0.7758\n",
            "\n",
            " Результаты на длинне =  90000\n",
            "0.7764625176558366\n"
          ],
          "name": "stdout"
        }
      ]
    },
    {
      "cell_type": "markdown",
      "metadata": {
        "id": "a0Ebs1K9HlrA",
        "colab_type": "text"
      },
      "source": [
        "Можно заметить что на числе слов в словаре = 20 достигается наибольшее значение метрики. Это не обязательно луший вариант. Но в том чтобы найти прям какое-то точное значение, скорее всего смысла нет, потому что это в меру абстрактные значения и при минимальных изменениях в архитектуре все может резко поменяться."
      ]
    },
    {
      "cell_type": "markdown",
      "metadata": {
        "id": "_8yKEHseN6cq",
        "colab_type": "text"
      },
      "source": [
        "# Регрессия LSTM"
      ]
    },
    {
      "cell_type": "markdown",
      "metadata": {
        "id": "XsTEI6vsL8TU",
        "colab_type": "text"
      },
      "source": [
        "Ради интереса проверим какое значения метрики будет если всегда предсказывать только 0, это будет что-то вроде accuracy в 50% в бинарной классификации. Результат хуже которого быть не должно."
      ]
    },
    {
      "cell_type": "code",
      "metadata": {
        "id": "Y2NE1eQedduV",
        "colab_type": "code",
        "colab": {
          "base_uri": "https://localhost:8080/",
          "height": 34
        },
        "outputId": "4c4df5a8-50ec-4394-880b-40bda2f5db6d"
      },
      "source": [
        "from sklearn.metrics import mean_absolute_error\n",
        "scores=np.zeros(y_test.size)\n",
        "mean_absolute_error(scores,rtw_test)"
      ],
      "execution_count": null,
      "outputs": [
        {
          "output_type": "execute_result",
          "data": {
            "text/plain": [
              "3.2751620156064014"
            ]
          },
          "metadata": {
            "tags": []
          },
          "execution_count": 14
        }
      ]
    },
    {
      "cell_type": "markdown",
      "metadata": {
        "id": "neVbEQuHHk3j",
        "colab_type": "text"
      },
      "source": [
        "Далее попобуем предсказать количество ретвиттов. Для этого, нужно слегка изменить сеть.\n",
        "\n",
        "В выходном слое нужно убрать функцию активации и вместо меток класса в обучение надо будет подавать количество твиттов."
      ]
    },
    {
      "cell_type": "markdown",
      "metadata": {
        "id": "vNjNb3kzJz88",
        "colab_type": "text"
      },
      "source": [
        "В качестве loss фкнкции будем использовать седнеквадратичную ошибку"
      ]
    },
    {
      "cell_type": "code",
      "metadata": {
        "id": "KuvgBZZiOQWp",
        "colab_type": "code",
        "colab": {
          "base_uri": "https://localhost:8080/",
          "height": 158
        },
        "outputId": "25aaa9ce-8ee9-45b7-eb84-06a2e5f43161"
      },
      "source": [
        "from tensorflow.keras.layers import SpatialDropout1D\n",
        "model = Sequential()\n",
        "model.add(Embedding(NUM, 64, input_length=max_twit_len))\n",
        "model.add(SpatialDropout1D(0.5))\n",
        "model.add(LSTM(128))\n",
        "model.add(Dropout(0.3))\n",
        "model.add(Dense(1))\n",
        "\n",
        "model.compile(optimizer='adam', \n",
        "              loss='mse', \n",
        "              metrics=['mae'])\n",
        "\n",
        "history = model.fit(x_train, \n",
        "                    rtw_train, \n",
        "                    epochs=4,\n",
        "                    batch_size=128,\n",
        "                    validation_split=0.1)     "
      ],
      "execution_count": null,
      "outputs": [
        {
          "output_type": "stream",
          "text": [
            "Epoch 1/4\n",
            "1276/1276 [==============================] - 81s 64ms/step - loss: 10400.7871 - mae: 4.0826 - val_loss: 1341.8302 - val_mae: 3.7603\n",
            "Epoch 2/4\n",
            "1276/1276 [==============================] - 80s 63ms/step - loss: 10209.5479 - mae: 3.5930 - val_loss: 1220.9912 - val_mae: 3.2751\n",
            "Epoch 3/4\n",
            "1276/1276 [==============================] - 80s 62ms/step - loss: 10139.0195 - mae: 3.8568 - val_loss: 1194.3005 - val_mae: 3.7865\n",
            "Epoch 4/4\n",
            "1276/1276 [==============================] - 80s 63ms/step - loss: 10046.3623 - mae: 3.5197 - val_loss: 1107.0862 - val_mae: 3.3413\n"
          ],
          "name": "stdout"
        }
      ]
    },
    {
      "cell_type": "code",
      "metadata": {
        "id": "r8UGNdooPF-6",
        "colab_type": "code",
        "colab": {
          "base_uri": "https://localhost:8080/",
          "height": 52
        },
        "outputId": "2af80e48-000b-40b7-b689-2f33ee142d47"
      },
      "source": [
        "model.evaluate(x_test, y_test, verbose=1)"
      ],
      "execution_count": null,
      "outputs": [
        {
          "output_type": "stream",
          "text": [
            "1418/1418 [==============================] - 4s 3ms/step - loss: 98.8537 - mae: 2.0880\n"
          ],
          "name": "stdout"
        },
        {
          "output_type": "execute_result",
          "data": {
            "text/plain": [
              "[98.85371398925781, 2.08803391456604]"
            ]
          },
          "metadata": {
            "tags": []
          },
          "execution_count": 15
        }
      ]
    },
    {
      "cell_type": "markdown",
      "metadata": {
        "id": "Hx1bRMIGJ-8g",
        "colab_type": "text"
      },
      "source": [
        "Но в этой сети не учитывалось число подписчиков и прочие показатели, хотя они скорее всего должны влиять на число ретвиттов"
      ]
    },
    {
      "cell_type": "markdown",
      "metadata": {
        "id": "Hsdh3Jj9KO5B",
        "colab_type": "text"
      },
      "source": [
        "Первое что мне пришло в голову, это взять создать модель состоящую только из одного эмбеддинга обученного для задачи регрессии ревтиттов, и при помощи него представить твитты в виде векторов, а затем эти значения передавать в какую-либо модель ML"
      ]
    },
    {
      "cell_type": "code",
      "metadata": {
        "id": "1qY6gM8GZG3g",
        "colab_type": "code",
        "colab": {
          "base_uri": "https://localhost:8080/",
          "height": 34
        },
        "outputId": "a43d65e0-f6d8-445a-dee6-732b9248f91e"
      },
      "source": [
        "embedding_matrix = model.layers[0].get_weights()[0]\n",
        "model = Sequential()\n",
        "model.add(Embedding(NUM, 64, input_length=max_twit_len))\n",
        "model.layers[0].get_weights()[0]=embedding_matrix\n",
        "\n",
        "model.compile('rmsprop', 'mse')\n",
        "twitt_vec_train=model.predict(x_train)\n",
        "twitt_vec_test=model.predict(x_test)\n",
        "\n",
        "data_train=np.hstack((data_train, twitt_vec_train.reshape(181468,1280)))\n",
        "data_test=np.hstack((data_test, twitt_vec_test.reshape(45366,1280)))\n",
        "\n",
        "from sklearn.ensemble import RandomForestClassifier\n",
        "\n",
        "rf = RandomForestClassifier(n_estimators=100, criterion='entropy', max_depth=10)\n",
        "rf.fit(data_train, rtw_train)\n",
        "\n",
        "from sklearn.metrics import mean_absolute_error\n",
        "scores = rf.predict(data_test)\n",
        "mean_absolute_error(scores,rtw_test)"
      ],
      "execution_count": null,
      "outputs": [
        {
          "output_type": "execute_result",
          "data": {
            "text/plain": [
              "3.55213155226381"
            ]
          },
          "metadata": {
            "tags": []
          },
          "execution_count": 16
        }
      ]
    },
    {
      "cell_type": "markdown",
      "metadata": {
        "id": "EAORzEU7KzU3",
        "colab_type": "text"
      },
      "source": [
        "Когда я использовал рандомный лес начала быстро заканчиваться оперативная память, поэтому пришлос ограничить глубину дерева.\n",
        "\n",
        "Метрика качества ухудшилась, а значит я сделал что-то не так"
      ]
    },
    {
      "cell_type": "markdown",
      "metadata": {
        "id": "6HzH55vOLUT8",
        "colab_type": "text"
      },
      "source": [
        "# Регрессия CNN"
      ]
    },
    {
      "cell_type": "markdown",
      "metadata": {
        "id": "gU_50H62LpCU",
        "colab_type": "text"
      },
      "source": [
        "Для начала просто попробуем обучить сеть также как в случае с LSTM"
      ]
    },
    {
      "cell_type": "code",
      "metadata": {
        "id": "2vy6k7U0ncSL",
        "colab_type": "code",
        "colab": {
          "base_uri": "https://localhost:8080/",
          "height": 35
        },
        "outputId": "9bf6e9ed-daab-4f9b-cf44-147ccc2ca3ae"
      },
      "source": [
        "text_train[0]"
      ],
      "execution_count": 61,
      "outputs": [
        {
          "output_type": "execute_result",
          "data": {
            "application/vnd.google.colaboratory.intrinsic": {
              "type": "string"
            },
            "text/plain": [
              "'как же хотеться он забыть ааа не мочь так большой'"
            ]
          },
          "metadata": {
            "tags": []
          },
          "execution_count": 61
        }
      ]
    },
    {
      "cell_type": "code",
      "metadata": {
        "id": "oVqZASjSdDQT",
        "colab_type": "code",
        "colab": {
          "base_uri": "https://localhost:8080/",
          "height": 158
        },
        "outputId": "1a750460-c217-45bf-f2a4-32496946f184"
      },
      "source": [
        "model = Sequential()\n",
        "model.add(Embedding(NUM, 64, input_length=max_twit_len))\n",
        "model.add(Conv1D(350, 3, padding='valid', activation='relu'))\n",
        "model.add(GlobalMaxPooling1D())\n",
        "model.add(Dense(128, activation='relu'))\n",
        "model.add(Dropout(0.3))\n",
        "model.add(Dense(1))\n",
        "\n",
        "model.compile(optimizer='adam', \n",
        "              loss='mse', \n",
        "              metrics=['mae'])\n",
        "\n",
        "history = model.fit(x_train, \n",
        "                    rtw_train, \n",
        "                    epochs=4,\n",
        "                    batch_size=128,\n",
        "                    validation_split=0.1)  "
      ],
      "execution_count": 62,
      "outputs": [
        {
          "output_type": "stream",
          "text": [
            "Epoch 1/4\n",
            "1276/1276 [==============================] - 73s 57ms/step - loss: 11843.8389 - mae: 5.2890 - val_loss: 375.6114 - val_mae: 2.1907\n",
            "Epoch 2/4\n",
            "1276/1276 [==============================] - 72s 56ms/step - loss: 6598.4512 - mae: 3.8233 - val_loss: 1234.3724 - val_mae: 3.7863\n",
            "Epoch 3/4\n",
            "1276/1276 [==============================] - 70s 55ms/step - loss: 938.9763 - mae: 2.7545 - val_loss: 428.0359 - val_mae: 2.5265\n",
            "Epoch 4/4\n",
            "1276/1276 [==============================] - 73s 57ms/step - loss: 625.0852 - mae: 2.1928 - val_loss: 388.3253 - val_mae: 2.2431\n"
          ],
          "name": "stdout"
        }
      ]
    },
    {
      "cell_type": "code",
      "metadata": {
        "id": "aqB1rmmbdDHP",
        "colab_type": "code",
        "colab": {
          "base_uri": "https://localhost:8080/",
          "height": 52
        },
        "outputId": "a9ba52f4-e1fc-4217-930a-d9f305ff1695"
      },
      "source": [
        "model.evaluate(x_test, rtw_test, verbose=1)"
      ],
      "execution_count": 63,
      "outputs": [
        {
          "output_type": "stream",
          "text": [
            "1418/1418 [==============================] - 6s 4ms/step - loss: 897.6321 - mae: 2.5548\n"
          ],
          "name": "stdout"
        },
        {
          "output_type": "execute_result",
          "data": {
            "text/plain": [
              "[897.632080078125, 2.5548019409179688]"
            ]
          },
          "metadata": {
            "tags": []
          },
          "execution_count": 63
        }
      ]
    },
    {
      "cell_type": "code",
      "metadata": {
        "id": "dtOuZE8WtNiH",
        "colab_type": "code",
        "colab": {
          "base_uri": "https://localhost:8080/",
          "height": 123
        },
        "outputId": "8839c5d6-ee66-4229-a524-36ef72e5ba53"
      },
      "source": [
        "rtw_test[:100]"
      ],
      "execution_count": null,
      "outputs": [
        {
          "output_type": "execute_result",
          "data": {
            "text/plain": [
              "array([ 0,  0,  1,  0,  1,  3,  0,  0,  0,  1,  0,  0,  0,  0,  6,  0,  0,\n",
              "        0,  0,  0,  0,  0, 93,  1,  0,  0,  0,  0,  0,  0,  0,  0, 10,  0,\n",
              "        0,  0,  0,  0,  0,  0,  0,  0, 45,  0,  0,  1,  0,  1,  6,  0,  0,\n",
              "        0,  0,  0,  0,  0,  0,  0,  0,  1,  0,  0,  0,  0,  0,  0,  0,  9,\n",
              "        3,  0,  1,  0,  0,  0,  2,  0,  0, 18,  0,  0,  0,  0,  0,  0,  0,\n",
              "        1, 42,  1,  0,  0,  1,  0,  0,  0,  0,  0,  0,  0,  0,  1])"
            ]
          },
          "metadata": {
            "tags": []
          },
          "execution_count": 69
        }
      ]
    },
    {
      "cell_type": "code",
      "metadata": {
        "id": "QPRJYRdmuGSI",
        "colab_type": "code",
        "colab": {
          "base_uri": "https://localhost:8080/",
          "height": 123
        },
        "outputId": "9a3f81bc-8bcf-49d4-8a2b-2817c243a6a4"
      },
      "source": [
        "pred_test.astype(int).reshape(scores.shape)[:100]"
      ],
      "execution_count": null,
      "outputs": [
        {
          "output_type": "execute_result",
          "data": {
            "text/plain": [
              "array([ 0,  0,  0,  0,  0,  0,  0,  0,  0,  0,  0,  0,  0,  0,  0,  0,  0,\n",
              "        0,  0,  0,  0,  0,  0,  0,  0,  0,  0,  0,  0,  0,  0,  0, 35,  0,\n",
              "        0,  0,  0,  0,  0,  0,  0,  0, 35,  0,  0,  0,  0,  0,  0,  0,  0,\n",
              "        0,  0,  0,  0,  0,  0,  0,  0,  0,  0,  0,  0,  0,  0,  0,  0,  0,\n",
              "        0,  0,  0,  0,  0,  0,  0,  0,  0,  0,  0,  0,  0,  0,  0,  0,  0,\n",
              "        0, 32,  0,  0,  0,  0,  0,  0,  0,  0,  0,  0,  0,  0,  0])"
            ]
          },
          "metadata": {
            "tags": []
          },
          "execution_count": 75
        }
      ]
    },
    {
      "cell_type": "code",
      "metadata": {
        "id": "KhvAyIQ2ti32",
        "colab_type": "code",
        "colab": {
          "base_uri": "https://localhost:8080/",
          "height": 123
        },
        "outputId": "0a51c099-e2f1-4772-d25b-898a9bd09adc"
      },
      "source": [
        "scores[:100]"
      ],
      "execution_count": null,
      "outputs": [
        {
          "output_type": "execute_result",
          "data": {
            "text/plain": [
              "array([ 0,  0,  0,  0,  0,  0,  0,  0,  0,  0,  0,  0,  0,  0,  0,  0,  0,\n",
              "        0,  0,  0,  0,  0,  0,  0,  0,  0,  0,  0,  0,  0,  0,  0,  0,  0,\n",
              "        0,  0,  0,  0,  0,  0,  0,  0,  0,  0,  0,  0,  0,  0,  0,  0,  0,\n",
              "        0,  0,  0,  0,  0,  0,  0,  0,  0,  0,  0,  0,  0,  0,  0,  0,  0,\n",
              "        0,  0,  0,  0,  0,  0,  0,  0,  0,  0,  0,  0,  0,  0,  0,  0,  0,\n",
              "        0, 15,  0,  0,  0,  0,  0,  0,  0,  0,  0,  0,  0,  0,  0])"
            ]
          },
          "metadata": {
            "tags": []
          },
          "execution_count": 70
        }
      ]
    },
    {
      "cell_type": "markdown",
      "metadata": {
        "id": "lGDJykqHXP1B",
        "colab_type": "text"
      },
      "source": [
        "Далее попробуем вместо того, чтобы передавать векторные представления твиттов, будем передавать прогноз количества ретвиттов, которые дала нейронная сеть"
      ]
    },
    {
      "cell_type": "code",
      "metadata": {
        "id": "D4poRZDAvT8L",
        "colab_type": "code",
        "colab": {}
      },
      "source": [
        "pred_train=model.predict(x_train)\n",
        "pred_test=model.predict(x_test)\n",
        "#добавим информацию о количестве подписок у пользователя, оставившего твитт\n",
        "X_train=np.hstack((data_train[:,1].reshape(181468,1), pred_train))\n",
        "X_test=np.hstack((data_test[:,1].reshape(45366,1), pred_test))"
      ],
      "execution_count": 64,
      "outputs": []
    },
    {
      "cell_type": "markdown",
      "metadata": {
        "id": "jJxPQQD4YgEU",
        "colab_type": "text"
      },
      "source": [
        "попробуем лог регресию"
      ]
    },
    {
      "cell_type": "code",
      "metadata": {
        "id": "F1qX3v6U0hXb",
        "colab_type": "code",
        "colab": {
          "base_uri": "https://localhost:8080/",
          "height": 176
        },
        "outputId": "d755e060-086c-49c5-fdb8-a2947074bdee"
      },
      "source": [
        "from sklearn.linear_model import LogisticRegression\n",
        "\n",
        "lr = LogisticRegression()\n",
        "lr.fit(X_train, rtw_train)\n",
        "\n",
        "from sklearn.metrics import mean_absolute_error\n",
        "scores = lr.predict(X_test)\n",
        "mean_absolute_error(scores,rtw_test)"
      ],
      "execution_count": 67,
      "outputs": [
        {
          "output_type": "stream",
          "text": [
            "/usr/local/lib/python3.6/dist-packages/sklearn/linear_model/_logistic.py:940: ConvergenceWarning: lbfgs failed to converge (status=1):\n",
            "STOP: TOTAL NO. of ITERATIONS REACHED LIMIT.\n",
            "\n",
            "Increase the number of iterations (max_iter) or scale the data as shown in:\n",
            "    https://scikit-learn.org/stable/modules/preprocessing.html\n",
            "Please also refer to the documentation for alternative solver options:\n",
            "    https://scikit-learn.org/stable/modules/linear_model.html#logistic-regression\n",
            "  extra_warning_msg=_LOGISTIC_SOLVER_CONVERGENCE_MSG)\n"
          ],
          "name": "stderr"
        },
        {
          "output_type": "execute_result",
          "data": {
            "text/plain": [
              "3.1557333686020366"
            ]
          },
          "metadata": {
            "tags": []
          },
          "execution_count": 67
        }
      ]
    },
    {
      "cell_type": "markdown",
      "metadata": {
        "id": "1xB3Y7P0Ytpd",
        "colab_type": "text"
      },
      "source": [
        "Регрессия ухудшила результат"
      ]
    },
    {
      "cell_type": "markdown",
      "metadata": {
        "id": "0GQt1_mzswN9",
        "colab_type": "text"
      },
      "source": [
        "Попробуем подавать число подписчиков и listcount"
      ]
    },
    {
      "cell_type": "code",
      "metadata": {
        "id": "1vs-jlP9cjsZ",
        "colab_type": "code",
        "colab": {}
      },
      "source": [
        "pred_train=model.predict(x_train)\n",
        "pred_test=model.predict(x_test)\n",
        "#тоько число подписчиков и listcount\n",
        "data_train=np.hstack((data_train[:,1:4:2], pred_train))\n",
        "data_test=np.hstack((data_test[:,1:4:2], pred_test))"
      ],
      "execution_count": null,
      "outputs": []
    },
    {
      "cell_type": "code",
      "metadata": {
        "id": "K5aZ1tNeMuw2",
        "colab_type": "code",
        "colab": {
          "base_uri": "https://localhost:8080/",
          "height": 34
        },
        "outputId": "1bae2be8-f7f6-4d08-e295-4058b25bdb95"
      },
      "source": [
        "from sklearn.linear_model import LogisticRegression\n",
        "\n",
        "lr = LogisticRegression()\n",
        "lr.fit(data_train, rtw_train)\n",
        "\n",
        "from sklearn.metrics import mean_absolute_error\n",
        "scores = lr.predict(data_test)\n",
        "mean_absolute_error(scores,rtw_test)"
      ],
      "execution_count": null,
      "outputs": [
        {
          "output_type": "execute_result",
          "data": {
            "text/plain": [
              "2.66009787065203"
            ]
          },
          "metadata": {
            "tags": []
          },
          "execution_count": 13
        }
      ]
    },
    {
      "cell_type": "code",
      "metadata": {
        "id": "BQhXYoJCvQkA",
        "colab_type": "code",
        "colab": {
          "base_uri": "https://localhost:8080/",
          "height": 34
        },
        "outputId": "f44e7c3a-3c47-451e-d0fe-5487bbb9e963"
      },
      "source": [
        "from sklearn.ensemble import RandomForestClassifier\n",
        "\n",
        "rf = RandomForestClassifier(n_estimators=150,max_depth=10)\n",
        "rf.fit(data_train, rtw_train)\n",
        "\n",
        "from sklearn.metrics import mean_absolute_error\n",
        "scores = rf.predict(data_test)\n",
        "mean_absolute_error(scores,rtw_test)"
      ],
      "execution_count": null,
      "outputs": [
        {
          "output_type": "execute_result",
          "data": {
            "text/plain": [
              "2.5452100692148303"
            ]
          },
          "metadata": {
            "tags": []
          },
          "execution_count": 14
        }
      ]
    },
    {
      "cell_type": "code",
      "metadata": {
        "id": "-G2LVMCPsXK_",
        "colab_type": "code",
        "colab": {
          "base_uri": "https://localhost:8080/",
          "height": 34
        },
        "outputId": "3f577384-ca10-4284-d0b3-3e9f940b54f1"
      },
      "source": [
        "data_train.shape[0]"
      ],
      "execution_count": null,
      "outputs": [
        {
          "output_type": "execute_result",
          "data": {
            "text/plain": [
              "181468"
            ]
          },
          "metadata": {
            "tags": []
          },
          "execution_count": 48
        }
      ]
    },
    {
      "cell_type": "markdown",
      "metadata": {
        "id": "Zkwqu1BUtCHb",
        "colab_type": "text"
      },
      "source": [
        "Теперь попробуем обучить полносвязную нейронную сеть"
      ]
    },
    {
      "cell_type": "code",
      "metadata": {
        "id": "4W9Tn5Lco-tf",
        "colab_type": "code",
        "colab": {
          "base_uri": "https://localhost:8080/",
          "height": 550
        },
        "outputId": "e9d36e4a-8e63-45b0-811c-4d8353085913"
      },
      "source": [
        "from tensorflow.keras.models import Sequential\n",
        "from tensorflow.keras.layers import Dense, Dropout\n",
        "\n",
        "# Создаем последовательную модель\n",
        "model = Sequential()\n",
        "model.add(Dense(1024,activation='relu', input_shape=(data_train.shape[1],) ))\n",
        "model.add(Dropout(0.3, seed=None))\n",
        "model.add(Dense(512,activation='relu'))\n",
        "model.add(Dense(1,  activation='relu'))\n",
        "\n",
        "model.compile(optimizer='adam', \n",
        "              loss='mse', \n",
        "              metrics=['mae'])\n",
        "\n",
        "history = model.fit(data_train, \n",
        "                    rtw_train, \n",
        "                    epochs=15,\n",
        "                    batch_size=128,\n",
        "                    validation_split=0.2)     "
      ],
      "execution_count": null,
      "outputs": [
        {
          "output_type": "stream",
          "text": [
            "Epoch 1/15\n",
            "1135/1135 [==============================] - 3s 3ms/step - loss: 8286.6992 - mae: 3.1488 - val_loss: 25117.0762 - val_mae: 6.1498\n",
            "Epoch 2/15\n",
            "1135/1135 [==============================] - 3s 3ms/step - loss: 8192.6934 - mae: 3.2826 - val_loss: 26497.8906 - val_mae: 3.9918\n",
            "Epoch 3/15\n",
            "1135/1135 [==============================] - 3s 3ms/step - loss: 8340.0400 - mae: 3.2873 - val_loss: 25950.4727 - val_mae: 4.1084\n",
            "Epoch 4/15\n",
            "1135/1135 [==============================] - 3s 3ms/step - loss: 8398.7930 - mae: 3.2921 - val_loss: 25993.3242 - val_mae: 4.1617\n",
            "Epoch 5/15\n",
            "1135/1135 [==============================] - 3s 3ms/step - loss: 8293.0674 - mae: 3.1949 - val_loss: 25030.2402 - val_mae: 5.4785\n",
            "Epoch 6/15\n",
            "1135/1135 [==============================] - 3s 3ms/step - loss: 8347.4248 - mae: 3.2491 - val_loss: 25795.9062 - val_mae: 4.0423\n",
            "Epoch 7/15\n",
            "1135/1135 [==============================] - 3s 3ms/step - loss: 8312.5195 - mae: 3.2766 - val_loss: 25627.7461 - val_mae: 4.2089\n",
            "Epoch 8/15\n",
            "1135/1135 [==============================] - 3s 3ms/step - loss: 8262.2979 - mae: 3.2461 - val_loss: 25687.9219 - val_mae: 4.1419\n",
            "Epoch 9/15\n",
            "1135/1135 [==============================] - 3s 3ms/step - loss: 8273.3848 - mae: 3.3020 - val_loss: 26045.6250 - val_mae: 4.0956\n",
            "Epoch 10/15\n",
            "1135/1135 [==============================] - 3s 3ms/step - loss: 8182.8125 - mae: 3.1824 - val_loss: 25570.8770 - val_mae: 4.1821\n",
            "Epoch 11/15\n",
            "1135/1135 [==============================] - 3s 3ms/step - loss: 8295.2773 - mae: 3.2336 - val_loss: 25118.7715 - val_mae: 5.0548\n",
            "Epoch 12/15\n",
            "1135/1135 [==============================] - 3s 3ms/step - loss: 8313.0752 - mae: 3.2397 - val_loss: 25001.7754 - val_mae: 5.0696\n",
            "Epoch 13/15\n",
            "1135/1135 [==============================] - 3s 3ms/step - loss: 8247.6289 - mae: 3.1594 - val_loss: 26025.5371 - val_mae: 3.8540\n",
            "Epoch 14/15\n",
            "1135/1135 [==============================] - 3s 3ms/step - loss: 8212.8760 - mae: 3.1840 - val_loss: 25607.9180 - val_mae: 4.0715\n",
            "Epoch 15/15\n",
            "1135/1135 [==============================] - 3s 3ms/step - loss: 8289.3496 - mae: 3.0870 - val_loss: 25923.6348 - val_mae: 3.9026\n"
          ],
          "name": "stdout"
        }
      ]
    },
    {
      "cell_type": "code",
      "metadata": {
        "id": "znHM1npkqTqh",
        "colab_type": "code",
        "colab": {
          "base_uri": "https://localhost:8080/",
          "height": 52
        },
        "outputId": "a78b66bd-905f-46aa-e00c-7091ad108dac"
      },
      "source": [
        "model.evaluate(data_test, rtw_test, verbose=1)"
      ],
      "execution_count": null,
      "outputs": [
        {
          "output_type": "stream",
          "text": [
            "1418/1418 [==============================] - 2s 2ms/step - loss: 4664.0107 - mae: 2.4298\n"
          ],
          "name": "stdout"
        },
        {
          "output_type": "execute_result",
          "data": {
            "text/plain": [
              "[4664.0107421875, 2.4297845363616943]"
            ]
          },
          "metadata": {
            "tags": []
          },
          "execution_count": 74
        }
      ]
    },
    {
      "cell_type": "markdown",
      "metadata": {
        "id": "mw2Ea6R48VO_",
        "colab_type": "text"
      },
      "source": [
        "# \"ахахахахха\""
      ]
    },
    {
      "cell_type": "markdown",
      "metadata": {
        "id": "PhfwSMGYtOyc",
        "colab_type": "text"
      },
      "source": [
        "возникла гипотеза, что если привести различные формы \"ахахаха\" к единой, то это может улучшить метрику"
      ]
    },
    {
      "cell_type": "markdown",
      "metadata": {
        "id": "UXmbCtI8tklY",
        "colab_type": "text"
      },
      "source": [
        "* Все слова начинающиеся с ахахахаха будут присведены к формату \"ахах\"\n",
        "* А слова начинающиеся с \"хахахахах\" приводятся к фомату \"хах\""
      ]
    },
    {
      "cell_type": "code",
      "metadata": {
        "id": "0DJA85k48cHz",
        "colab_type": "code",
        "colab": {}
      },
      "source": [
        "def preprocess_text(text):\n",
        "    re.sub('(хах?[^\\s]+)', 'хах', text)\n",
        "    return text.strip()\n",
        "df[\"preprocess_text2\"] = [preprocess_text(t) for t in df.preprocess_text]"
      ],
      "execution_count": 47,
      "outputs": []
    },
    {
      "cell_type": "code",
      "metadata": {
        "id": "nAyV2pI79Cao",
        "colab_type": "code",
        "colab": {
          "base_uri": "https://localhost:8080/",
          "height": 87
        },
        "outputId": "5557eb30-746b-4a2f-e84e-591c50efc1ab"
      },
      "source": [
        "x = df.drop(['type','id','date','name','trtw','trep','tfav','text'], axis=1)\n",
        "y = df['type']\n",
        "\n",
        "# возвращает train и test сохраняя при этом баланс классов\n",
        "skf = StratifiedKFold(n_splits=5, random_state=None, shuffle=False)\n",
        "\n",
        "# skf.split генерирует индексы\n",
        "for train_index, test_index in skf.split(x, y):\n",
        "    data_train, data_test = x.iloc[train_index], x.iloc[test_index]\n",
        "    y_train, y_test = y.iloc[train_index], y.iloc[test_index]\n",
        "\n",
        "\n",
        "# Преобразуем в массив\n",
        "text_train = data_train['preprocess_text'].values\n",
        "text_test = data_test['preprocess_text'].values\n",
        "text_train2 = data_train['preprocess_text2'].values\n",
        "text_test2 = data_test['preprocess_text2'].values\n",
        "y_train = y_train.values\n",
        "y_test = y_test.values\n",
        "\n",
        "# Убедимся в том, что балланс классов не изменился\n",
        "a,b=np.unique(y_train, return_counts=True)\n",
        "c,d=np.unique(y_test, return_counts=True)\n",
        "print('Label Distributions: \\n')\n",
        "print(b/ len(y_train))\n",
        "print(d/ len(y_test))"
      ],
      "execution_count": 48,
      "outputs": [
        {
          "output_type": "stream",
          "text": [
            "Label Distributions: \n",
            "\n",
            "[0.49341482 0.50658518]\n",
            "[0.49340916 0.50659084]\n"
          ],
          "name": "stdout"
        }
      ]
    },
    {
      "cell_type": "code",
      "metadata": {
        "id": "hzDM97Zp9MlF",
        "colab_type": "code",
        "colab": {}
      },
      "source": [
        "# объявим токенизатор\n",
        "tokenizer = Tokenizer(num_words=NUM)\n",
        "# обучим токенизатор\n",
        "tokenizer.fit_on_texts(text_train)\n",
        "# токенизируем текст\n",
        "sequences = tokenizer.texts_to_sequences(text_train)\n",
        "# ограничим длинну отзывов\n",
        "x_train = pad_sequences(sequences, maxlen=max_twit_len)\n",
        "\n",
        "test_sequences = tokenizer.texts_to_sequences(text_test)\n",
        "x_test = pad_sequences(test_sequences, maxlen=max_twit_len)\n"
      ],
      "execution_count": 68,
      "outputs": []
    },
    {
      "cell_type": "code",
      "metadata": {
        "id": "PLA4pOk49oi_",
        "colab_type": "code",
        "colab": {
          "base_uri": "https://localhost:8080/",
          "height": 123
        },
        "outputId": "bb66f900-ea29-4e2c-c87d-b097b14fa96a"
      },
      "source": [
        "from tensorflow.keras.layers import SpatialDropout1D\n",
        "model = Sequential()\n",
        "model.add(Embedding(NUM, 64, input_length=max_twit_len))\n",
        "model.add(SpatialDropout1D(0.5))\n",
        "model.add(LSTM(128))\n",
        "model.add(Dropout(0.3))\n",
        "model.add(Dense(1, activation='sigmoid'))\n",
        "\n",
        "model.compile(optimizer='adam', \n",
        "              loss='binary_crossentropy', \n",
        "              metrics=['Precision', 'Recall'])\n",
        "\n",
        "history = model.fit(x_train, \n",
        "                    y_train, \n",
        "                    epochs=3,\n",
        "                    batch_size=128,\n",
        "                    validation_split=0.1)     "
      ],
      "execution_count": 50,
      "outputs": [
        {
          "output_type": "stream",
          "text": [
            "Epoch 1/3\n",
            "1276/1276 [==============================] - 43s 34ms/step - loss: 0.5032 - precision: 0.7547 - recall: 0.7424 - val_loss: 0.4612 - val_precision: 0.7663 - val_recall: 0.7945\n",
            "Epoch 2/3\n",
            "1276/1276 [==============================] - 42s 33ms/step - loss: 0.4223 - precision: 0.8095 - recall: 0.7951 - val_loss: 0.4560 - val_precision: 0.7576 - val_recall: 0.8198\n",
            "Epoch 3/3\n",
            "1276/1276 [==============================] - 43s 33ms/step - loss: 0.3821 - precision: 0.8335 - recall: 0.8187 - val_loss: 0.4669 - val_precision: 0.7775 - val_recall: 0.7872\n"
          ],
          "name": "stdout"
        }
      ]
    },
    {
      "cell_type": "code",
      "metadata": {
        "id": "WSZ55pAr90EQ",
        "colab_type": "code",
        "colab": {
          "base_uri": "https://localhost:8080/",
          "height": 34
        },
        "outputId": "fbb8877e-aca2-4d4a-8afa-4e83fe188706"
      },
      "source": [
        "from sklearn.metrics import f1_score\n",
        "pred=model.predict(x_test)\n",
        "result=np.zeros(y_test.size)\n",
        "for i in range(y_test.size):\n",
        "  if (float(pred[i]) > 0.5):\n",
        "    result[i]=1\n",
        "  else:\n",
        "    result[i]=0\n",
        "f1_score(y_test, result, average='macro')"
      ],
      "execution_count": 51,
      "outputs": [
        {
          "output_type": "execute_result",
          "data": {
            "text/plain": [
              "0.7775709680405383"
            ]
          },
          "metadata": {
            "tags": []
          },
          "execution_count": 51
        }
      ]
    },
    {
      "cell_type": "code",
      "metadata": {
        "id": "MEB5eDpc_44Z",
        "colab_type": "code",
        "colab": {
          "base_uri": "https://localhost:8080/",
          "height": 87
        },
        "outputId": "3e714483-1086-4fd4-d062-977473cbb714"
      },
      "source": [
        "model = Sequential()\n",
        "model.add(Embedding(NUM, 64, input_length=max_twit_len))\n",
        "model.add(Conv1D(350, 3, padding='valid', activation='relu'))\n",
        "model.add(GlobalMaxPooling1D())\n",
        "model.add(Dense(128, activation='relu'))\n",
        "model.add(Dropout(0.3))\n",
        "model.add(Dense(1, activation='sigmoid'))\n",
        "\n",
        "model.compile(optimizer='adam', \n",
        "              loss='binary_crossentropy', \n",
        "              metrics=['Precision', 'Recall'])\n",
        "\n",
        "history = model.fit(x_train, \n",
        "                    y_train, \n",
        "                    epochs=2,\n",
        "                    batch_size=128,\n",
        "                    validation_split=0.1)  "
      ],
      "execution_count": 69,
      "outputs": [
        {
          "output_type": "stream",
          "text": [
            "Epoch 1/2\n",
            "1276/1276 [==============================] - 39s 31ms/step - loss: 0.4854 - precision: 0.7550 - recall: 0.7640 - val_loss: 0.4462 - val_precision: 0.7747 - val_recall: 0.8134\n",
            "Epoch 2/2\n",
            "1276/1276 [==============================] - 38s 30ms/step - loss: 0.3595 - precision: 0.8443 - recall: 0.8376 - val_loss: 0.4559 - val_precision: 0.8231 - val_recall: 0.7240\n"
          ],
          "name": "stdout"
        }
      ]
    },
    {
      "cell_type": "code",
      "metadata": {
        "id": "zd5O55Dv_6KD",
        "colab_type": "code",
        "colab": {
          "base_uri": "https://localhost:8080/",
          "height": 34
        },
        "outputId": "72d48dbe-89c7-4b36-c0c1-63ce980c48ae"
      },
      "source": [
        "from sklearn.metrics import f1_score\n",
        "pred=model.predict(x_test)\n",
        "result=np.zeros(y_test.size)\n",
        "for i in range(y_test.size):\n",
        "  if (float(pred[i]) > 0.5):\n",
        "    result[i]=1\n",
        "  else:\n",
        "    result[i]=0\n",
        "f1_score(y_test, result, average='macro')"
      ],
      "execution_count": 70,
      "outputs": [
        {
          "output_type": "execute_result",
          "data": {
            "text/plain": [
              "0.7796584373537958"
            ]
          },
          "metadata": {
            "tags": []
          },
          "execution_count": 70
        }
      ]
    },
    {
      "cell_type": "code",
      "metadata": {
        "id": "zbdrAge990BB",
        "colab_type": "code",
        "colab": {}
      },
      "source": [
        "# объявим токенизатор\n",
        "tokenizer = Tokenizer(num_words=NUM)\n",
        "# обучим токенизатор\n",
        "tokenizer.fit_on_texts(text_train2)\n",
        "# токенизируем текст\n",
        "sequences = tokenizer.texts_to_sequences(text_train2)\n",
        "# ограничим длинну отзывов\n",
        "x_train = pad_sequences(sequences, maxlen=max_twit_len)\n",
        "\n",
        "test_sequences = tokenizer.texts_to_sequences(text_test2)\n",
        "x_test = pad_sequences(test_sequences, maxlen=max_twit_len)\n"
      ],
      "execution_count": 54,
      "outputs": []
    },
    {
      "cell_type": "code",
      "metadata": {
        "id": "ednn3Omn9z86",
        "colab_type": "code",
        "colab": {
          "base_uri": "https://localhost:8080/",
          "height": 123
        },
        "outputId": "f28e4af3-d68c-422d-f14b-6bff0aed9ee9"
      },
      "source": [
        "from tensorflow.keras.layers import SpatialDropout1D\n",
        "model = Sequential()\n",
        "model.add(Embedding(NUM, 64, input_length=max_twit_len))\n",
        "model.add(SpatialDropout1D(0.5))\n",
        "model.add(LSTM(128))\n",
        "model.add(Dropout(0.3))\n",
        "model.add(Dense(1, activation='sigmoid'))\n",
        "\n",
        "model.compile(optimizer='adam', \n",
        "              loss='binary_crossentropy', \n",
        "              metrics=['Precision', 'Recall'])\n",
        "\n",
        "history = model.fit(x_train, \n",
        "                    y_train, \n",
        "                    epochs=3,\n",
        "                    batch_size=128,\n",
        "                    validation_split=0.1)     "
      ],
      "execution_count": 55,
      "outputs": [
        {
          "output_type": "stream",
          "text": [
            "Epoch 1/3\n",
            "1276/1276 [==============================] - 42s 33ms/step - loss: 0.5037 - precision: 0.7511 - recall: 0.7460 - val_loss: 0.4598 - val_precision: 0.7781 - val_recall: 0.7741\n",
            "Epoch 2/3\n",
            "1276/1276 [==============================] - 41s 32ms/step - loss: 0.4236 - precision: 0.8081 - recall: 0.7953 - val_loss: 0.4534 - val_precision: 0.7893 - val_recall: 0.7610\n",
            "Epoch 3/3\n",
            "1276/1276 [==============================] - 42s 33ms/step - loss: 0.3848 - precision: 0.8310 - recall: 0.8201 - val_loss: 0.4594 - val_precision: 0.7767 - val_recall: 0.7828\n"
          ],
          "name": "stdout"
        }
      ]
    },
    {
      "cell_type": "code",
      "metadata": {
        "id": "gcxk7649-RYc",
        "colab_type": "code",
        "colab": {
          "base_uri": "https://localhost:8080/",
          "height": 34
        },
        "outputId": "52d27918-df33-4b04-cf52-7d4f1690a733"
      },
      "source": [
        "from sklearn.metrics import f1_score\n",
        "pred=model.predict(x_test)\n",
        "result=np.zeros(y_test.size)\n",
        "for i in range(y_test.size):\n",
        "  if (float(pred[i]) > 0.5):\n",
        "    result[i]=1\n",
        "  else:\n",
        "    result[i]=0\n",
        "f1_score(y_test, result, average='macro')"
      ],
      "execution_count": 56,
      "outputs": [
        {
          "output_type": "execute_result",
          "data": {
            "text/plain": [
              "0.7785509362640846"
            ]
          },
          "metadata": {
            "tags": []
          },
          "execution_count": 56
        }
      ]
    },
    {
      "cell_type": "code",
      "metadata": {
        "id": "-fCtQben_wvQ",
        "colab_type": "code",
        "colab": {
          "base_uri": "https://localhost:8080/",
          "height": 87
        },
        "outputId": "47cc3f6d-8a1e-4e73-e6a0-49cd7bd926bc"
      },
      "source": [
        "model = Sequential()\n",
        "model.add(Embedding(NUM, 64, input_length=max_twit_len))\n",
        "model.add(Conv1D(350, 3, padding='valid', activation='relu'))\n",
        "model.add(GlobalMaxPooling1D())\n",
        "model.add(Dense(128, activation='relu'))\n",
        "model.add(Dropout(0.3))\n",
        "model.add(Dense(1, activation='sigmoid'))\n",
        "\n",
        "model.compile(optimizer='adam', \n",
        "              loss='binary_crossentropy', \n",
        "              metrics=['Precision', 'Recall'])\n",
        "\n",
        "history = model.fit(x_train, \n",
        "                    y_train, \n",
        "                    epochs=2,\n",
        "                    batch_size=128,\n",
        "                    validation_split=0.1)  "
      ],
      "execution_count": 65,
      "outputs": [
        {
          "output_type": "stream",
          "text": [
            "Epoch 1/2\n",
            "1276/1276 [==============================] - 36s 29ms/step - loss: 0.4865 - precision: 0.7539 - recall: 0.7647 - val_loss: 0.4456 - val_precision: 0.7921 - val_recall: 0.7735\n",
            "Epoch 2/2\n",
            "1276/1276 [==============================] - 36s 28ms/step - loss: 0.3586 - precision: 0.8449 - recall: 0.8366 - val_loss: 0.4464 - val_precision: 0.7856 - val_recall: 0.7844\n"
          ],
          "name": "stdout"
        }
      ]
    },
    {
      "cell_type": "code",
      "metadata": {
        "id": "pafWJiLFETW4",
        "colab_type": "code",
        "colab": {
          "base_uri": "https://localhost:8080/",
          "height": 278
        },
        "outputId": "8a8fcfc6-f81e-4760-88a1-a218c21e5cd1"
      },
      "source": [
        "f1=2*(np.array(history.history['precision'])*np.array(history.history['recall']))/(np.array(history.history['precision'])+np.array(history.history['recall']))\n",
        "f1_val=2*(np.array(history.history['val_precision'])*np.array(history.history['recall']))/(np.array(history.history['val_precision'])+np.array(history.history['recall']))\n",
        "\n",
        "plt.plot(f1, label='Доля верных ответов на обучающем наборе')\n",
        "plt.plot(f1_val, label='Доля верных ответов на проверочном наборе')\n",
        "plt.xlabel('Эпоха обучения')\n",
        "plt.ylabel('Доля верных ответов')\n",
        "plt.legend()\n",
        "plt.show()"
      ],
      "execution_count": 66,
      "outputs": [
        {
          "output_type": "display_data",
          "data": {
            "image/png": "[encoded data removed]",
            "text/plain": [
              "<Figure size 432x288 with 1 Axes>"
            ]
          },
          "metadata": {
            "tags": [],
            "needs_background": "light"
          }
        }
      ]
    },
    {
      "cell_type": "code",
      "metadata": {
        "id": "smd2jJMk-RS0",
        "colab_type": "code",
        "colab": {
          "base_uri": "https://localhost:8080/",
          "height": 34
        },
        "outputId": "9caf3e37-3623-43e1-bc9b-9be165cb5a88"
      },
      "source": [
        "from sklearn.metrics import f1_score\n",
        "pred=model.predict(x_test)\n",
        "result=np.zeros(y_test.size)\n",
        "for i in range(y_test.size):\n",
        "  if (float(pred[i]) > 0.5):\n",
        "    result[i]=1\n",
        "  else:\n",
        "    result[i]=0\n",
        "f1_score(y_test, result, average='macro')"
      ],
      "execution_count": 67,
      "outputs": [
        {
          "output_type": "execute_result",
          "data": {
            "text/plain": [
              "0.7826315556076449"
            ]
          },
          "metadata": {
            "tags": []
          },
          "execution_count": 67
        }
      ]
    },
    {
      "cell_type": "markdown",
      "metadata": {
        "id": "s2zk9pPNt3Q2",
        "colab_type": "text"
      },
      "source": [
        "Похоже на то, что гипотеза веррная"
      ]
    }
  ]
}